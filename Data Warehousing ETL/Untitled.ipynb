{
 "cells": [
  {
   "cell_type": "code",
   "execution_count": null,
   "id": "481461ea-b442-45ad-972a-7aa6fd33615f",
   "metadata": {},
   "outputs": [],
   "source": []
  },
  {
   "cell_type": "code",
   "execution_count": 1,
   "id": "d4da34f3-f055-43f8-8e02-ff6493080aa0",
   "metadata": {},
   "outputs": [
    {
     "ename": "NameError",
     "evalue": "name 'pd' is not defined",
     "output_type": "error",
     "traceback": [
      "\u001b[1;31m---------------------------------------------------------------------------\u001b[0m",
      "\u001b[1;31mNameError\u001b[0m                                 Traceback (most recent call last)",
      "Cell \u001b[1;32mIn[1], line 2\u001b[0m\n\u001b[0;32m      1\u001b[0m \u001b[38;5;66;03m# Example assuming 'Timestamp' column exists in both dataframes\u001b[39;00m\n\u001b[1;32m----> 2\u001b[0m df_date \u001b[38;5;241m=\u001b[39m \u001b[43mpd\u001b[49m\u001b[38;5;241m.\u001b[39mconcat([df_ind[\u001b[38;5;124m'\u001b[39m\u001b[38;5;124mTimestamp\u001b[39m\u001b[38;5;124m'\u001b[39m], df_comp[\u001b[38;5;124m'\u001b[39m\u001b[38;5;124mDate_of_Incident\u001b[39m\u001b[38;5;124m'\u001b[39m], df_users[\u001b[38;5;124m'\u001b[39m\u001b[38;5;124mDate\u001b[39m\u001b[38;5;124m'\u001b[39m]])\u001b[38;5;241m.\u001b[39mdrop_duplicates()\n\u001b[0;32m      5\u001b[0m \u001b[38;5;66;03m# Convert to datetime\u001b[39;00m\n\u001b[0;32m      6\u001b[0m df_date \u001b[38;5;241m=\u001b[39m pd\u001b[38;5;241m.\u001b[39mto_datetime(df_date)\n",
      "\u001b[1;31mNameError\u001b[0m: name 'pd' is not defined"
     ]
    }
   ],
   "source": [
    "# Example assuming 'Timestamp' column exists in both dataframes\n",
    "df_date = pd.concat([df_ind['Timestamp'], df_comp['Date_of_Incident'], df_users['Date']]).drop_duplicates()\n",
    "\n",
    "\n",
    "# Convert to datetime\n",
    "df_date = pd.to_datetime(df_date)\n",
    "\n",
    "# Create DateDimension table\n",
    "df_date_dimension = pd.DataFrame({\n",
    "    'Day': df_date.dt.day,\n",
    "    'Month': df_date.dt.month,\n",
    "    'Year': df_date.dt.year,\n",
    "    'Hour_of_Day': df_date.dt.hour\n",
    "})\n",
    "\n",
    "\n"
   ]
  },
  {
   "cell_type": "code",
   "execution_count": null,
   "id": "bb3e94a2-2962-4d1b-933b-75371a1e6f28",
   "metadata": {},
   "outputs": [],
   "source": [
    "# Combine countries from individual and company dataframes and drop duplicates\n",
    "df_country = pd.concat([df_ind['Country'], df_comp['Country']]).drop_duplicates()\n",
    "\n",
    "# Create CountryDimension table\n",
    "df_country_dimension = pd.DataFrame({\n",
    "    'Country': df_country\n",
    "})\n",
    "\n",
    "\n"
   ]
  },
  {
   "cell_type": "code",
   "execution_count": null,
   "id": "be592e8c-96fd-4ce6-9f8b-30cd49f022f8",
   "metadata": {},
   "outputs": [],
   "source": [
    "# Extract IP-related columns from df_ind and drop duplicates\n",
    "df_detailed_location_dimension = df_ind[['Source_IP_Address', 'Destination_IP_Address', 'Valid_Source_IP', 'Valid_Destination_IP']].drop_duplicates()\n",
    "\n",
    "\n"
   ]
  },
  {
   "cell_type": "code",
   "execution_count": null,
   "id": "93094e27-9807-4e64-8944-4f2ec913e1a9",
   "metadata": {},
   "outputs": [],
   "source": [
    "# Extract network traffic columns from df_ind and drop duplicates\n",
    "df_network_traffic_dimension = df_ind[['Source_Port', 'Destination_Port', 'Protocol', 'Packet_Length', 'Packet_Type', 'Traffic_Type', 'Network_Segment']].drop_duplicates()\n",
    "\n",
    "\n"
   ]
  },
  {
   "cell_type": "code",
   "execution_count": null,
   "id": "248af88d-aa98-480c-bf60-2b7b4cc2b6af",
   "metadata": {},
   "outputs": [],
   "source": [
    "# Extract company-related columns from df_comp and drop duplicates\n",
    "df_company_dimension = df_comp[['Company_Name', 'Industry']].drop_duplicates()\n",
    "\n"
   ]
  },
  {
   "cell_type": "code",
   "execution_count": null,
   "id": "f818e7b5-7022-4a83-a372-b2352536c676",
   "metadata": {},
   "outputs": [],
   "source": [
    "# Extract device-related columns from df_ind and drop duplicates\n",
    "df_device_dimension = df_ind[['Browser', 'Operating_System', 'Device_Type']].drop_duplicates()\n",
    "\n",
    "\n"
   ]
  },
  {
   "cell_type": "code",
   "execution_count": null,
   "id": "713b3d78-cf71-49ce-80a4-177f18acc5f0",
   "metadata": {},
   "outputs": [],
   "source": [
    "df_ind.rename(columns={'IDS/IPS_Alerts': 'IDS_IPS_Alerts'}, inplace=True)\n",
    "df_ind.rename(columns={'Alerts/Warnings': 'Alerts_Warnings'}, inplace=True)\n",
    "\n",
    "df_individual_facts = df_ind[['Browser', 'Operating_System', 'Device_Type','Source_Port', 'Destination_Port', 'Protocol', 'Packet_Length', 'Packet_Type', 'Traffic_Type', 'Network_Segment','Source_IP_Address', 'Destination_IP_Address','Country','Attack_Type', 'Payload_Data', 'Malware_Indicators', 'Anomaly_Scores', 'Severity_Level', 'Alerts_Warnings', 'Attack_Signature', 'Action_Taken', 'User_Information', 'Proxy_Information', 'Firewall_Logs', 'IDS_IPS_Alerts', 'Log_Source']]\n"
   ]
  },
  {
   "cell_type": "code",
   "execution_count": null,
   "id": "cf00c529-e1f2-4705-95c0-4c4b9cc53695",
   "metadata": {},
   "outputs": [],
   "source": [
    "df_comp.rename(columns={'Breach_Size_(No._of_Records)': 'Breach_Size_No_of_Records'}, inplace=True)\n",
    "df_comp.rename(columns={'Mitigation_Time_(Days)': 'Mitigation_Time_Days'}, inplace=True)\n",
    "df_comp.rename(columns={'Financial_Loss_(USD)': 'Financial_Loss_USD'}, inplace=True)\n",
    "\n",
    "df_company_facts = df_comp[['Company_Name', 'Industry','Country','Attack_Type', 'Breach_Size_No_of_Records', 'Attack_Vector', 'Mitigation_Time_Days', 'Financial_Loss_USD']]\n"
   ]
  },
  {
   "cell_type": "code",
   "execution_count": null,
   "id": "2cb901b3-2722-431b-8655-217e1c5d799c",
   "metadata": {},
   "outputs": [],
   "source": [
    "df_active_users_facts = df_users[['Active_Online_Users']]\n"
   ]
  },
  {
   "cell_type": "code",
   "execution_count": null,
   "id": "748a738a-5dee-42ae-93e5-1ff9ea59ac86",
   "metadata": {},
   "outputs": [],
   "source": [
    "# Merge DateID into the individual facts\n",
    "df_individual_facts = pd.merge(df_individual_facts, df_date_dimension, how='left', \n",
    "                               left_on=pd.to_datetime(df_ind['Timestamp']).dt.date,\n",
    "                               right_on=pd.to_datetime(df_date_dimension[['Year', 'Month', 'Day']]).dt.date)\n",
    "\n",
    "df_individual_facts['DateID'] = df_individual_facts['DateID']\n",
    "\n",
    "# Merge DateID into the company facts\n",
    "df_company_facts = pd.merge(df_company_facts, df_date_dimension, how='left', \n",
    "                            left_on=pd.to_datetime(df_comp['Date_of_Incident']).dt.date,\n",
    "                            right_on=pd.to_datetime(df_date_dimension[['Year', 'Month', 'Day']]).dt.date)\n",
    "\n",
    "df_company_facts['DateID'] = df_company_facts['DateID']\n",
    "\n",
    "# Merge DateID into the active users facts\n",
    "df_active_users_facts = pd.merge(df_active_users_facts, df_date_dimension, how='left', \n",
    "                                 left_on=pd.to_datetime(df_users['Date']).dt.date,\n",
    "                                 right_on=pd.to_datetime(df_date_dimension[['Year', 'Month', 'Day']]).dt.date)\n",
    "\n",
    "df_active_users_facts['DateID'] = df_active_users_facts['DateID']\n"
   ]
  },
  {
   "cell_type": "code",
   "execution_count": null,
   "id": "077bfe1e-1246-4da7-b57a-69fb9c603625",
   "metadata": {},
   "outputs": [],
   "source": [
    "print(df_individual_facts.columns)\n",
    "print(df_country_dimension.columns)\n"
   ]
  },
  {
   "cell_type": "code",
   "execution_count": null,
   "id": "707da43f-7b96-4e70-ab0a-13d4b2b3584a",
   "metadata": {},
   "outputs": [],
   "source": [
    "# Merge CountryID into the individual facts\n",
    "df_individual_facts = pd.merge(df_individual_facts, df_country_dimension, how='left', \n",
    "                               left_on='Country', right_on='Country')\n",
    "\n",
    "df_individual_facts['CountryID'] = df_individual_facts['CountryID']\n",
    "\n",
    "# Merge CountryID into the company facts\n",
    "df_company_facts = pd.merge(df_company_facts, df_country_dimension, how='left', \n",
    "                            left_on='Country', right_on='Country')\n",
    "\n",
    "df_company_facts['CountryID'] = df_company_facts['CountryID']\n"
   ]
  },
  {
   "cell_type": "code",
   "execution_count": null,
   "id": "ad0e4010-c920-4413-aa4d-de4be308fcf2",
   "metadata": {},
   "outputs": [],
   "source": [
    "# Merge DetailedGeoLocationID into the individual facts\n",
    "df_individual_facts = pd.merge(df_individual_facts, df_detailed_location_dimension, how='left',\n",
    "                               left_on=['Source_IP_Address', 'Destination_IP_Address'], \n",
    "                               right_on=['Source_IP_Address', 'Destination_IP_Address'])\n",
    "\n",
    "df_individual_facts['DetailedGeoLocationID'] = df_individual_facts['DetailedGeoLocationID']\n"
   ]
  },
  {
   "cell_type": "code",
   "execution_count": null,
   "id": "1d754834-7f22-4587-8761-e536730b23d8",
   "metadata": {},
   "outputs": [],
   "source": [
    "# Merge NetworkTrafficID into the individual facts\n",
    "df_individual_facts = pd.merge(df_individual_facts, df_network_traffic_dimension, how='left',\n",
    "                               left_on=['Source_Port', 'Destination_Port', 'Protocol', 'Packet_Length', 'Packet_Type', 'Traffic_Type', 'Network_Segment'],\n",
    "                               right_on=['Source_Port', 'Destination_Port', 'Protocol', 'Packet_Length', 'Packet_Type', 'Traffic_Type', 'Network_Segment'])\n",
    "\n",
    "df_individual_facts['NetworkTrafficID'] = df_individual_facts['NetworkTrafficID']\n"
   ]
  },
  {
   "cell_type": "code",
   "execution_count": null,
   "id": "8bf5271a-ea19-425a-9116-fe25587f3a4d",
   "metadata": {},
   "outputs": [],
   "source": [
    "# Merge DeviceID into the individual facts\n",
    "df_individual_facts = pd.merge(df_individual_facts, df_device_dimension, how='left', \n",
    "                               left_on=['Browser', 'Operating_System', 'Device_Type'], \n",
    "                               right_on=['Browser', 'Operating_System', 'Device_Type'])\n",
    "\n",
    "df_individual_facts['DeviceID'] = df_individual_facts['DeviceID']\n"
   ]
  },
  {
   "cell_type": "code",
   "execution_count": null,
   "id": "9305aaa6-ff10-4ba4-b03e-cd19b6c75c2c",
   "metadata": {},
   "outputs": [],
   "source": [
    "# Merge CompanyID into the company facts\n",
    "df_company_facts = pd.merge(df_company_facts, df_company_dimension, how='left', \n",
    "                            left_on=['Company_Name', 'Industry'], \n",
    "                            right_on=['Company_Name', 'Industry'])\n",
    "\n",
    "df_company_facts['CompanyID'] = df_company_facts['CompanyID']\n"
   ]
  },
  {
   "cell_type": "code",
   "execution_count": null,
   "id": "233e15a0-5d83-4527-9355-4c8cd1962ccc",
   "metadata": {},
   "outputs": [],
   "source": [
    "df_individual_facts.drop(columns=['Browser', 'Operating_System', 'Device_Type','Source_Port', 'Destination_Port', 'Protocol', 'Packet_Length', 'Packet_Type', 'Traffic_Type', 'Network_Segment','Source_IP_Address', 'Destination_IP_Address','Country'], inplace=True)\n",
    "df_company_facts.drop(columns=['Company_Name', 'Industry','Country'], inplace=True)"
   ]
  },
  {
   "cell_type": "code",
   "execution_count": null,
   "id": "d16961ba-5e87-414f-aab3-bb9f46092ae9",
   "metadata": {},
   "outputs": [],
   "source": [
    "# Define your database connection parameters\n",
    "db_user = 'root'  # Replace with your MySQL username\n",
    "db_password = 'root'  # Replace with your MySQL password\n",
    "db_host = 'localhost'  # Or your database server hostname\n",
    "db_name = 'cyber_attacks_warehouse'  # Replace with your database name\n",
    "\n",
    "# Create the connection string\n",
    "connection_string = f'mysql+pymysql://{db_user}:{db_password}@{db_host}/{db_name}'\n",
    "\n",
    "# Create a connection to the database\n",
    "engine = create_engine(connection_string)\n",
    "# Load each dataframe into the respective SQL tables\n",
    "df_date_dimension.to_sql('datedimension', engine, if_exists='append', index=False)\n",
    "df_country_dimension.to_sql('countrydimension', engine, if_exists='append', index=False)\n",
    "df_detailed_location_dimension.to_sql('detailedlocationdimension', engine, if_exists='append', index=False)\n",
    "df_network_traffic_dimension.to_sql('networktrafficdimension', engine, if_exists='append', index=False)\n",
    "df_company_dimension.to_sql('companydimension', engine, if_exists='append', index=False)\n",
    "df_device_dimension.to_sql('devicedimension', engine, if_exists='append', index=False)\n",
    "\n",
    "\n",
    "df_individual_facts.to_sql('individualcyberattacksfact', engine, if_exists='append', index=False)\n",
    "df_company_facts.to_sql('companiescyberattacksfact', engine, if_exists='append', index=False)\n",
    "df_active_users_facts.to_sql('activeonlineusersfact', engine, if_exists='append', index=False)\n",
    "\n"
   ]
  },
  {
   "cell_type": "code",
   "execution_count": null,
   "id": "839dbf78-853b-49ee-b5cb-0d9b79e14256",
   "metadata": {},
   "outputs": [],
   "source": []
  }
 ],
 "metadata": {
  "kernelspec": {
   "display_name": "Python 3 (ipykernel)",
   "language": "python",
   "name": "python3"
  },
  "language_info": {
   "codemirror_mode": {
    "name": "ipython",
    "version": 3
   },
   "file_extension": ".py",
   "mimetype": "text/x-python",
   "name": "python",
   "nbconvert_exporter": "python",
   "pygments_lexer": "ipython3",
   "version": "3.12.4"
  }
 },
 "nbformat": 4,
 "nbformat_minor": 5
}
