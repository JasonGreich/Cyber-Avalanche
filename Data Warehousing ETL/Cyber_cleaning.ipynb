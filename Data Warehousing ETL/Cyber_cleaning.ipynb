{
 "cells": [
  {
   "cell_type": "code",
   "execution_count": 37,
   "id": "41c55ba2-35c6-44cd-9352-8cfff6fcc6cf",
   "metadata": {},
   "outputs": [],
   "source": [
    "import pandas as pd\n",
    "import re\n",
    "from sqlalchemy import create_engine"
   ]
  },
  {
   "cell_type": "markdown",
   "id": "bb2f5f43-04f1-4a61-bb80-5dfbd796555d",
   "metadata": {},
   "source": [
    "# Extracting Data"
   ]
  },
  {
   "cell_type": "markdown",
   "id": "ac440d3c-b9a7-471b-9189-e2940c80081b",
   "metadata": {},
   "source": [
    "## Individual cyber attacks"
   ]
  },
  {
   "cell_type": "code",
   "execution_count": 38,
   "id": "bb9c78ca-6654-42dc-b229-7592d2d680f9",
   "metadata": {},
   "outputs": [],
   "source": [
    "# Read the CSV file\n",
    "df_individuals = pd.read_csv('../Original Datasets/individuals_cyber_attacks_europe.csv')\n",
    "df_ind = df_individuals.copy()\n",
    "pd.set_option('display.max_rows', None)\n",
    "pd.set_option('display.max_columns', None)"
   ]
  },
  {
   "cell_type": "code",
   "execution_count": 39,
   "id": "e1ad1a1e-0220-440e-968b-27a16a0db1af",
   "metadata": {},
   "outputs": [
    {
     "name": "stdout",
     "output_type": "stream",
     "text": [
      "Data imported successfully to table 'cyber_attacks_individuals' in database 'staging_cyber_attacks'\n"
     ]
    }
   ],
   "source": [
    "# Database connection details\n",
    "db_user = 'root'  # Replace with your MySQL username\n",
    "db_password = 'root'  # Replace with your MySQL password\n",
    "db_host = 'localhost'  # Or your database server hostname\n",
    "db_name = 'staging_cyber_attacks'  # Replace with your database name\n",
    "table_name = 'cyber_attacks_individuals'  # Replace with your desired table name\n",
    "\n",
    "# Create the database engine\n",
    "engine = create_engine(f'mysql+pymysql://{db_user}:{db_password}@{db_host}/{db_name}')\n",
    "\n",
    "# Write the DataFrame to the MySQL table\n",
    "df_individuals.to_sql(table_name, con=engine, if_exists='replace', index=False)\n",
    "\n",
    "print(f\"Data imported successfully to table '{table_name}' in database '{db_name}'\")"
   ]
  },
  {
   "cell_type": "markdown",
   "id": "69503b0d-aa77-4ab2-88c3-69eaa6ac2d45",
   "metadata": {},
   "source": [
    "## Companies cyber attacks"
   ]
  },
  {
   "cell_type": "code",
   "execution_count": 40,
   "id": "074d6415-3d8e-4ee5-b1cd-a36530c85994",
   "metadata": {},
   "outputs": [],
   "source": [
    "# Read the CSV file\n",
    "df_companies = pd.read_csv('../Original Datasets/companies_cyber_attacks_europe.csv')\n",
    "df_comp = df_companies.copy()\n",
    "pd.set_option('display.max_rows', None)\n",
    "pd.set_option('display.max_columns', None)"
   ]
  },
  {
   "cell_type": "code",
   "execution_count": 41,
   "id": "0ee10df4-c78d-48d4-b0ad-4e5c4ce0fb45",
   "metadata": {},
   "outputs": [
    {
     "name": "stdout",
     "output_type": "stream",
     "text": [
      "Data imported successfully to table 'cyber_attacks_companies' in database 'staging_cyber_attacks'\n"
     ]
    }
   ],
   "source": [
    "# Database connection details\n",
    "db_user = 'root'  # Replace with your MySQL username\n",
    "db_password = 'root'  # Replace with your MySQL password\n",
    "db_host = 'localhost'  # Or your database server hostname\n",
    "db_name = 'staging_cyber_attacks'  # Replace with your database name\n",
    "table_name = 'cyber_attacks_companies'  # Replace with your desired table name\n",
    "\n",
    "# Create the database engine\n",
    "engine = create_engine(f'mysql+pymysql://{db_user}:{db_password}@{db_host}/{db_name}')\n",
    "\n",
    "# Write the DataFrame to the MySQL table\n",
    "df_companies.to_sql(table_name, con=engine, if_exists='replace', index=False)\n",
    "\n",
    "print(f\"Data imported successfully to table '{table_name}' in database '{db_name}'\")"
   ]
  },
  {
   "cell_type": "markdown",
   "id": "d09ffd41-feed-406c-9f8a-405f61f0c333",
   "metadata": {},
   "source": [
    "## Active Users"
   ]
  },
  {
   "cell_type": "code",
   "execution_count": 42,
   "id": "5f5c6c6e-5352-4985-81a7-c672ee57bd74",
   "metadata": {},
   "outputs": [],
   "source": [
    "# Read the CSV file\n",
    "df_users = pd.read_csv('../Original Datasets/active_online_users_europe_2018_2023.csv')\n",
    "pd.set_option('display.max_rows', None)\n",
    "pd.set_option('display.max_columns', None)"
   ]
  },
  {
   "cell_type": "code",
   "execution_count": 43,
   "id": "5eb9ae51-d5e2-47b9-bad8-6b70281847dd",
   "metadata": {},
   "outputs": [
    {
     "name": "stdout",
     "output_type": "stream",
     "text": [
      "Data imported successfully to table 'active_online_users' in database 'staging_cyber_attacks'\n"
     ]
    }
   ],
   "source": [
    "# Database connection details\n",
    "db_user = 'root'  # Replace with your MySQL username\n",
    "db_password = 'root'  # Replace with your MySQL password\n",
    "db_host = 'localhost'  # Or your database server hostname\n",
    "db_name = 'staging_cyber_attacks'  # Replace with your database name\n",
    "table_name = 'active_online_users'  # Replace with your desired table name\n",
    "\n",
    "# Create the database engine\n",
    "engine = create_engine(f'mysql+pymysql://{db_user}:{db_password}@{db_host}/{db_name}')\n",
    "\n",
    "# Write the DataFrame to the MySQL table\n",
    "df_users.to_sql(table_name, con=engine, if_exists='replace', index=False)\n",
    "\n",
    "print(f\"Data imported successfully to table '{table_name}' in database '{db_name}'\")"
   ]
  },
  {
   "cell_type": "markdown",
   "id": "20f756f1-a2ac-4fbd-94f5-eca47acfd557",
   "metadata": {},
   "source": [
    "# Transforming Data"
   ]
  },
  {
   "cell_type": "markdown",
   "id": "c2a73afb-b7e7-45a2-b8c1-d4bff29fbc33",
   "metadata": {},
   "source": [
    "## Cyber Attacks on Individuals"
   ]
  },
  {
   "cell_type": "code",
   "execution_count": 44,
   "id": "ad49bee8-169e-4b91-98cc-605e83fe92e9",
   "metadata": {},
   "outputs": [],
   "source": [
    "# Drop rows where all elements are missing\n",
    "df_ind.dropna(how='all', inplace=True)"
   ]
  },
  {
   "cell_type": "code",
   "execution_count": 45,
   "id": "450a67b0-96f8-48ab-a41c-02902e2ca4b9",
   "metadata": {},
   "outputs": [],
   "source": [
    "df_ind['Timestamp'] = pd.to_datetime(df_ind['Timestamp'], format='%m/%d/%Y %H:%M')"
   ]
  },
  {
   "cell_type": "code",
   "execution_count": 46,
   "id": "435abf3f-eb7e-40b7-aee3-51d329f16021",
   "metadata": {},
   "outputs": [],
   "source": [
    "# Fill nulls with 'Not Available'\n",
    "columns_to_fill = ['Malware Indicators', 'Alerts/Warnings', 'Proxy Information', 'Firewall Logs', 'IDS/IPS Alerts']\n",
    "df_ind[columns_to_fill] = df_ind[columns_to_fill].fillna('Not Available')"
   ]
  },
  {
   "cell_type": "code",
   "execution_count": 47,
   "id": "3adf8e90-c414-403a-9f4b-e61cd2d077f6",
   "metadata": {},
   "outputs": [],
   "source": [
    "# Drop duplicates\n",
    "df_ind.drop_duplicates(inplace=True)\n",
    "df_ind.reset_index(drop=True, inplace=True)"
   ]
  },
  {
   "cell_type": "code",
   "execution_count": 48,
   "id": "ae04cf8e-3d94-4b11-b726-892a6f61be9f",
   "metadata": {},
   "outputs": [],
   "source": [
    "# Validate IP addresses\n",
    "def is_valid_ip(ip):\n",
    "    pattern = r\"^((25[0-5]|2[0-4][0-9]|[01]?[0-9][0-9]?)\\.){3}(25[0-5]|2[0-4][0-9]|[01]?[0-9][0-9]?)$\"\n",
    "    return bool(re.match(pattern, ip))\n",
    "\n",
    "df_ind['Valid Source IP'] = df_ind['Source IP Address'].apply(is_valid_ip)\n",
    "df_ind['Valid Destination IP'] = df_ind['Destination IP Address'].apply(is_valid_ip)"
   ]
  },
  {
   "cell_type": "code",
   "execution_count": 49,
   "id": "a0e56ea9-dc21-4fc6-a048-96e7f317c777",
   "metadata": {},
   "outputs": [
    {
     "name": "stdout",
     "output_type": "stream",
     "text": [
      "Invalid port numbers found\n"
     ]
    }
   ],
   "source": [
    "# Check for invalid port numbers\n",
    "invalid_source_ports = df_ind[(df_ind['Source Port'] < 0) | (df_ind['Source Port'] > 65535)]\n",
    "invalid_destination_ports = df_ind[(df_ind['Destination Port'] < 0) | (df_ind['Destination Port'] > 65535)]\n",
    "\n",
    "if invalid_source_ports.shape[0] > 0 or invalid_destination_ports.shape[0] > 0:\n",
    "    print('Invalid port numbers found')\n",
    "else:\n",
    "    print('All port numbers are valid')"
   ]
  },
  {
   "cell_type": "code",
   "execution_count": 50,
   "id": "b2701b26-809f-4026-b5d8-05ad8e226a79",
   "metadata": {},
   "outputs": [
    {
     "name": "stdout",
     "output_type": "stream",
     "text": [
      "\n",
      "Number of rows with invalid Source IP Address: 0\n",
      "Number of rows with invalid Destination IP Address: 0\n"
     ]
    }
   ],
   "source": [
    "# Count invalid IPs\n",
    "invalid_source_ip_count = df_ind[df_ind['Valid Source IP'] == False].shape[0]\n",
    "invalid_destination_ip_count = df_ind[df_ind['Valid Destination IP'] == False].shape[0]\n",
    "\n",
    "print(f\"\\nNumber of rows with invalid Source IP Address: {invalid_source_ip_count}\")\n",
    "print(f\"Number of rows with invalid Destination IP Address: {invalid_destination_ip_count}\")"
   ]
  },
  {
   "cell_type": "code",
   "execution_count": 51,
   "id": "fb36686c-bb0d-4185-bfd9-04f400f81a27",
   "metadata": {},
   "outputs": [],
   "source": [
    "# Extract features from 'Timestamp'\n",
    "df_ind['Day'] = df_ind['Timestamp'].dt.day\n",
    "df_ind['Hour of Day'] = df_ind['Timestamp'].dt.hour\n",
    "df_ind['Month'] = df_ind['Timestamp'].dt.month\n",
    "df_ind['Year'] = df_ind['Timestamp'].dt.year"
   ]
  },
  {
   "cell_type": "code",
   "execution_count": 52,
   "id": "963e875a-6fbd-4ec2-a5d8-caa01f423868",
   "metadata": {},
   "outputs": [],
   "source": [
    "def extract_browser(text):\n",
    "    # Define patterns for common browsers\n",
    "    patterns = {\n",
    "        'Chrome': r'Chrome\\/[\\d.]+',\n",
    "        'Firefox': r'Firefox\\/[\\d.]+',\n",
    "        'Safari': r'Safari\\/[\\d.]+',\n",
    "        'Edge': r'Edge\\/[\\d.]+',\n",
    "        'MSIE': r'MSIE [\\d.]+',\n",
    "        'Trident': r'Trident\\/[\\d.]+'  # For older IE versions\n",
    "    }\n",
    "\n",
    "    for browser, pattern in patterns.items():\n",
    "        match = re.search(pattern, text)\n",
    "        if match:\n",
    "            return browser\n",
    "    return 'Unknown'"
   ]
  },
  {
   "cell_type": "code",
   "execution_count": 53,
   "id": "072a7b2c-77ff-4453-a128-77762c106245",
   "metadata": {},
   "outputs": [],
   "source": [
    "def extract_os(text):\n",
    "    # Define patterns for common operating systems\n",
    "    patterns = {\n",
    "        'Windows': r'Windows NT [\\d.]+',\n",
    "        'Mac OS X': r'Mac OS X [\\d._]+',\n",
    "        'Linux': r'Linux',\n",
    "        'Android': r'Android [\\d.]+',\n",
    "        'iOS': r'iPhone|iPad|iPod'\n",
    "    }\n",
    "\n",
    "    for os, pattern in patterns.items():\n",
    "        match = re.search(pattern, text)\n",
    "        if match:\n",
    "            return os\n",
    "    return 'Unknown'"
   ]
  },
  {
   "cell_type": "code",
   "execution_count": 54,
   "id": "2496bdec-79b8-4d80-ae87-b9743a13db1f",
   "metadata": {},
   "outputs": [],
   "source": [
    "def extract_device_type(text):\n",
    "    # Define patterns for common device types\n",
    "    if 'Mobile' in text or 'Android' in text or 'iPhone' in text or 'iPad' in text or 'iPod' in text:\n",
    "        return 'Mobile'\n",
    "    elif 'Tablet' in text:\n",
    "        return 'Tablet'\n",
    "    else:\n",
    "        return 'Desktop'"
   ]
  },
  {
   "cell_type": "code",
   "execution_count": 55,
   "id": "dca1f669-2853-46c2-9ad5-ec39e30f53cb",
   "metadata": {},
   "outputs": [],
   "source": [
    "# Apply the functions to the 'Device Information' column\n",
    "df_ind['Browser'] = df_ind['Device Information'].astype(str).apply(extract_browser)\n",
    "df_ind['Operating System'] = df_ind['Device Information'].astype(str).apply(extract_os)\n",
    "df_ind['Device Type'] = df_ind['Device Information'].astype(str).apply(extract_device_type)"
   ]
  },
  {
   "cell_type": "code",
   "execution_count": 56,
   "id": "32ffdbc6-6ed8-476d-bd8f-4e3c18ff342c",
   "metadata": {},
   "outputs": [],
   "source": [
    "df_ind = df_ind.drop('Device Information', axis=1)"
   ]
  },
  {
   "cell_type": "code",
   "execution_count": 57,
   "id": "646e7d08-e881-4bf0-90ee-164ff8bf26ea",
   "metadata": {},
   "outputs": [
    {
     "data": {
      "text/html": [
       "<div>\n",
       "<style scoped>\n",
       "    .dataframe tbody tr th:only-of-type {\n",
       "        vertical-align: middle;\n",
       "    }\n",
       "\n",
       "    .dataframe tbody tr th {\n",
       "        vertical-align: top;\n",
       "    }\n",
       "\n",
       "    .dataframe thead th {\n",
       "        text-align: right;\n",
       "    }\n",
       "</style>\n",
       "<table border=\"1\" class=\"dataframe\">\n",
       "  <thead>\n",
       "    <tr style=\"text-align: right;\">\n",
       "      <th></th>\n",
       "      <th>Timestamp</th>\n",
       "      <th>Source IP Address</th>\n",
       "      <th>Destination IP Address</th>\n",
       "      <th>Source Port</th>\n",
       "      <th>Destination Port</th>\n",
       "      <th>Protocol</th>\n",
       "      <th>Packet Length</th>\n",
       "      <th>Packet Type</th>\n",
       "      <th>Traffic Type</th>\n",
       "      <th>Payload Data</th>\n",
       "      <th>Malware Indicators</th>\n",
       "      <th>Anomaly Scores</th>\n",
       "      <th>Alerts/Warnings</th>\n",
       "      <th>Attack Type</th>\n",
       "      <th>Attack Signature</th>\n",
       "      <th>Action Taken</th>\n",
       "      <th>Severity Level</th>\n",
       "      <th>User Information</th>\n",
       "      <th>Network Segment</th>\n",
       "      <th>Proxy Information</th>\n",
       "      <th>Firewall Logs</th>\n",
       "      <th>IDS/IPS Alerts</th>\n",
       "      <th>Log Source</th>\n",
       "      <th>Country</th>\n",
       "      <th>Source_Country</th>\n",
       "      <th>Valid Source IP</th>\n",
       "      <th>Valid Destination IP</th>\n",
       "      <th>Day</th>\n",
       "      <th>Hour of Day</th>\n",
       "      <th>Month</th>\n",
       "      <th>Year</th>\n",
       "      <th>Browser</th>\n",
       "      <th>Operating System</th>\n",
       "      <th>Device Type</th>\n",
       "    </tr>\n",
       "  </thead>\n",
       "  <tbody>\n",
       "    <tr>\n",
       "      <th>0</th>\n",
       "      <td>2023-05-30 06:33:00</td>\n",
       "      <td>16.208.61.129</td>\n",
       "      <td>84.42.185.26</td>\n",
       "      <td>17604</td>\n",
       "      <td>17616</td>\n",
       "      <td>ICMP</td>\n",
       "      <td>503</td>\n",
       "      <td>Data</td>\n",
       "      <td>HTTP</td>\n",
       "      <td>Qui natus odio asperiores nam. Optio nobis ius...</td>\n",
       "      <td>IoC Detected</td>\n",
       "      <td>28.67</td>\n",
       "      <td>Not Available</td>\n",
       "      <td>Malware</td>\n",
       "      <td>Known Pattern B</td>\n",
       "      <td>Logged</td>\n",
       "      <td>Low</td>\n",
       "      <td>Reyansh Dugal</td>\n",
       "      <td>Segment A</td>\n",
       "      <td>150.9.97.135</td>\n",
       "      <td>Log Data</td>\n",
       "      <td>Not Available</td>\n",
       "      <td>Server</td>\n",
       "      <td>France</td>\n",
       "      <td>United States</td>\n",
       "      <td>True</td>\n",
       "      <td>True</td>\n",
       "      <td>30</td>\n",
       "      <td>6</td>\n",
       "      <td>5</td>\n",
       "      <td>2023</td>\n",
       "      <td>MSIE</td>\n",
       "      <td>Windows</td>\n",
       "      <td>Desktop</td>\n",
       "    </tr>\n",
       "    <tr>\n",
       "      <th>1</th>\n",
       "      <td>2020-08-26 07:08:00</td>\n",
       "      <td>2.13.205.122</td>\n",
       "      <td>66.10.166.120</td>\n",
       "      <td>26446</td>\n",
       "      <td>48166</td>\n",
       "      <td>ICMP</td>\n",
       "      <td>1174</td>\n",
       "      <td>Data</td>\n",
       "      <td>HTTP</td>\n",
       "      <td>Aperiam quos modi officiis veritatis rem. Omni...</td>\n",
       "      <td>IoC Detected</td>\n",
       "      <td>51.50</td>\n",
       "      <td>Not Available</td>\n",
       "      <td>Malware</td>\n",
       "      <td>Known Pattern A</td>\n",
       "      <td>Blocked</td>\n",
       "      <td>Low</td>\n",
       "      <td>Sumer Rana</td>\n",
       "      <td>Segment B</td>\n",
       "      <td>Not Available</td>\n",
       "      <td>Log Data</td>\n",
       "      <td>Not Available</td>\n",
       "      <td>Firewall</td>\n",
       "      <td>Germany</td>\n",
       "      <td>China</td>\n",
       "      <td>True</td>\n",
       "      <td>True</td>\n",
       "      <td>26</td>\n",
       "      <td>7</td>\n",
       "      <td>8</td>\n",
       "      <td>2020</td>\n",
       "      <td>MSIE</td>\n",
       "      <td>Windows</td>\n",
       "      <td>Desktop</td>\n",
       "    </tr>\n",
       "    <tr>\n",
       "      <th>2</th>\n",
       "      <td>2022-11-13 08:23:00</td>\n",
       "      <td>182.214.2.177</td>\n",
       "      <td>198.117.46.175</td>\n",
       "      <td>51628</td>\n",
       "      <td>53600</td>\n",
       "      <td>UDP</td>\n",
       "      <td>306</td>\n",
       "      <td>Control</td>\n",
       "      <td>HTTP</td>\n",
       "      <td>Perferendis sapiente vitae soluta. Hic delectu...</td>\n",
       "      <td>IoC Detected</td>\n",
       "      <td>87.42</td>\n",
       "      <td>Alert Triggered</td>\n",
       "      <td>DDoS</td>\n",
       "      <td>Known Pattern B</td>\n",
       "      <td>Ignored</td>\n",
       "      <td>Low</td>\n",
       "      <td>Himmat Karpe</td>\n",
       "      <td>Segment C</td>\n",
       "      <td>114.133.48.179</td>\n",
       "      <td>Log Data</td>\n",
       "      <td>Alert Data</td>\n",
       "      <td>Firewall</td>\n",
       "      <td>Belgium</td>\n",
       "      <td>Iran</td>\n",
       "      <td>True</td>\n",
       "      <td>True</td>\n",
       "      <td>13</td>\n",
       "      <td>8</td>\n",
       "      <td>11</td>\n",
       "      <td>2022</td>\n",
       "      <td>MSIE</td>\n",
       "      <td>Windows</td>\n",
       "      <td>Desktop</td>\n",
       "    </tr>\n",
       "    <tr>\n",
       "      <th>3</th>\n",
       "      <td>2023-07-02 10:38:00</td>\n",
       "      <td>211.75.229.120</td>\n",
       "      <td>66.122.35.118</td>\n",
       "      <td>95465</td>\n",
       "      <td>32534</td>\n",
       "      <td>UDP</td>\n",
       "      <td>385</td>\n",
       "      <td>Data</td>\n",
       "      <td>HTTP</td>\n",
       "      <td>Totam maxime beatae expedita explicabo porro l...</td>\n",
       "      <td>Not Available</td>\n",
       "      <td>15.79</td>\n",
       "      <td>Alert Triggered</td>\n",
       "      <td>Malware</td>\n",
       "      <td>Known Pattern B</td>\n",
       "      <td>Blocked</td>\n",
       "      <td>Medium</td>\n",
       "      <td>Fateh Kibe</td>\n",
       "      <td>Segment B</td>\n",
       "      <td>Not Available</td>\n",
       "      <td>Not Available</td>\n",
       "      <td>Alert Data</td>\n",
       "      <td>Firewall</td>\n",
       "      <td>Germany</td>\n",
       "      <td>Turkey</td>\n",
       "      <td>True</td>\n",
       "      <td>True</td>\n",
       "      <td>2</td>\n",
       "      <td>10</td>\n",
       "      <td>7</td>\n",
       "      <td>2023</td>\n",
       "      <td>Firefox</td>\n",
       "      <td>Mac OS X</td>\n",
       "      <td>Desktop</td>\n",
       "    </tr>\n",
       "    <tr>\n",
       "      <th>4</th>\n",
       "      <td>2023-07-16 13:11:00</td>\n",
       "      <td>85.94.195.186</td>\n",
       "      <td>66.81.238.90</td>\n",
       "      <td>33491</td>\n",
       "      <td>26646</td>\n",
       "      <td>TCP</td>\n",
       "      <td>1462</td>\n",
       "      <td>Data</td>\n",
       "      <td>DNS</td>\n",
       "      <td>Odit nesciunt dolorem nisi iste iusto. Animi v...</td>\n",
       "      <td>Not Available</td>\n",
       "      <td>0.52</td>\n",
       "      <td>Alert Triggered</td>\n",
       "      <td>DDoS</td>\n",
       "      <td>Known Pattern B</td>\n",
       "      <td>Blocked</td>\n",
       "      <td>Low</td>\n",
       "      <td>Dhanush Chad</td>\n",
       "      <td>Segment C</td>\n",
       "      <td>149.6.110.119</td>\n",
       "      <td>Not Available</td>\n",
       "      <td>Alert Data</td>\n",
       "      <td>Firewall</td>\n",
       "      <td>Germany</td>\n",
       "      <td>Russia</td>\n",
       "      <td>True</td>\n",
       "      <td>True</td>\n",
       "      <td>16</td>\n",
       "      <td>13</td>\n",
       "      <td>7</td>\n",
       "      <td>2023</td>\n",
       "      <td>MSIE</td>\n",
       "      <td>Windows</td>\n",
       "      <td>Desktop</td>\n",
       "    </tr>\n",
       "  </tbody>\n",
       "</table>\n",
       "</div>"
      ],
      "text/plain": [
       "            Timestamp Source IP Address Destination IP Address  Source Port  \\\n",
       "0 2023-05-30 06:33:00     16.208.61.129           84.42.185.26        17604   \n",
       "1 2020-08-26 07:08:00      2.13.205.122          66.10.166.120        26446   \n",
       "2 2022-11-13 08:23:00     182.214.2.177         198.117.46.175        51628   \n",
       "3 2023-07-02 10:38:00    211.75.229.120          66.122.35.118        95465   \n",
       "4 2023-07-16 13:11:00     85.94.195.186           66.81.238.90        33491   \n",
       "\n",
       "   Destination Port Protocol  Packet Length Packet Type Traffic Type  \\\n",
       "0             17616     ICMP            503        Data         HTTP   \n",
       "1             48166     ICMP           1174        Data         HTTP   \n",
       "2             53600      UDP            306     Control         HTTP   \n",
       "3             32534      UDP            385        Data         HTTP   \n",
       "4             26646      TCP           1462        Data          DNS   \n",
       "\n",
       "                                        Payload Data Malware Indicators  \\\n",
       "0  Qui natus odio asperiores nam. Optio nobis ius...       IoC Detected   \n",
       "1  Aperiam quos modi officiis veritatis rem. Omni...       IoC Detected   \n",
       "2  Perferendis sapiente vitae soluta. Hic delectu...       IoC Detected   \n",
       "3  Totam maxime beatae expedita explicabo porro l...      Not Available   \n",
       "4  Odit nesciunt dolorem nisi iste iusto. Animi v...      Not Available   \n",
       "\n",
       "   Anomaly Scores  Alerts/Warnings Attack Type Attack Signature Action Taken  \\\n",
       "0           28.67    Not Available     Malware  Known Pattern B       Logged   \n",
       "1           51.50    Not Available     Malware  Known Pattern A      Blocked   \n",
       "2           87.42  Alert Triggered        DDoS  Known Pattern B      Ignored   \n",
       "3           15.79  Alert Triggered     Malware  Known Pattern B      Blocked   \n",
       "4            0.52  Alert Triggered        DDoS  Known Pattern B      Blocked   \n",
       "\n",
       "  Severity Level User Information Network Segment Proxy Information  \\\n",
       "0            Low    Reyansh Dugal       Segment A      150.9.97.135   \n",
       "1            Low       Sumer Rana       Segment B     Not Available   \n",
       "2            Low     Himmat Karpe       Segment C    114.133.48.179   \n",
       "3         Medium       Fateh Kibe       Segment B     Not Available   \n",
       "4            Low     Dhanush Chad       Segment C     149.6.110.119   \n",
       "\n",
       "   Firewall Logs IDS/IPS Alerts Log Source  Country Source_Country  \\\n",
       "0       Log Data  Not Available     Server   France  United States   \n",
       "1       Log Data  Not Available   Firewall  Germany          China   \n",
       "2       Log Data     Alert Data   Firewall  Belgium           Iran   \n",
       "3  Not Available     Alert Data   Firewall  Germany         Turkey   \n",
       "4  Not Available     Alert Data   Firewall  Germany         Russia   \n",
       "\n",
       "   Valid Source IP  Valid Destination IP  Day  Hour of Day  Month  Year  \\\n",
       "0             True                  True   30            6      5  2023   \n",
       "1             True                  True   26            7      8  2020   \n",
       "2             True                  True   13            8     11  2022   \n",
       "3             True                  True    2           10      7  2023   \n",
       "4             True                  True   16           13      7  2023   \n",
       "\n",
       "   Browser Operating System Device Type  \n",
       "0     MSIE          Windows     Desktop  \n",
       "1     MSIE          Windows     Desktop  \n",
       "2     MSIE          Windows     Desktop  \n",
       "3  Firefox         Mac OS X     Desktop  \n",
       "4     MSIE          Windows     Desktop  "
      ]
     },
     "execution_count": 57,
     "metadata": {},
     "output_type": "execute_result"
    }
   ],
   "source": [
    "df_ind.head()"
   ]
  },
  {
   "cell_type": "markdown",
   "id": "2ffb394a-a3c6-4df2-b048-d4003da7eb94",
   "metadata": {},
   "source": [
    "## Cyber Attacks on Companies"
   ]
  },
  {
   "cell_type": "code",
   "execution_count": 58,
   "id": "14a55e6f-bcb4-4640-85e9-56efa9885348",
   "metadata": {},
   "outputs": [
    {
     "data": {
      "text/plain": [
       "Incident ID                        0\n",
       "Company Name                       0\n",
       "Industry                           0\n",
       "Attack Type                        0\n",
       "Date of Incident                   0\n",
       "Breach Size (No. of Records)    6005\n",
       "Financial Loss (USD)               0\n",
       "Country                            0\n",
       "Attack Vector                      0\n",
       "Mitigation Time (Days)             0\n",
       "dtype: int64"
      ]
     },
     "execution_count": 58,
     "metadata": {},
     "output_type": "execute_result"
    }
   ],
   "source": [
    "# 1. Checking for missing values\n",
    "missing_values = df_comp.isnull().sum()\n",
    "missing_values"
   ]
  },
  {
   "cell_type": "code",
   "execution_count": 59,
   "id": "7b3e1f54-b0c8-48c1-b641-b6f5530f9899",
   "metadata": {},
   "outputs": [
    {
     "data": {
      "text/html": [
       "<div>\n",
       "<style scoped>\n",
       "    .dataframe tbody tr th:only-of-type {\n",
       "        vertical-align: middle;\n",
       "    }\n",
       "\n",
       "    .dataframe tbody tr th {\n",
       "        vertical-align: top;\n",
       "    }\n",
       "\n",
       "    .dataframe thead th {\n",
       "        text-align: right;\n",
       "    }\n",
       "</style>\n",
       "<table border=\"1\" class=\"dataframe\">\n",
       "  <thead>\n",
       "    <tr style=\"text-align: right;\">\n",
       "      <th></th>\n",
       "      <th>Incident ID</th>\n",
       "      <th>Company Name</th>\n",
       "      <th>Industry</th>\n",
       "      <th>Attack Type</th>\n",
       "      <th>Date of Incident</th>\n",
       "      <th>Breach Size (No. of Records)</th>\n",
       "      <th>Financial Loss (USD)</th>\n",
       "      <th>Country</th>\n",
       "      <th>Attack Vector</th>\n",
       "      <th>Mitigation Time (Days)</th>\n",
       "    </tr>\n",
       "  </thead>\n",
       "  <tbody>\n",
       "    <tr>\n",
       "      <th>0</th>\n",
       "      <td>1</td>\n",
       "      <td>White Inc</td>\n",
       "      <td>Retail</td>\n",
       "      <td>Ransomware</td>\n",
       "      <td>2018-08-27</td>\n",
       "      <td>6525846.0</td>\n",
       "      <td>506815.46</td>\n",
       "      <td>Italy</td>\n",
       "      <td>DDoS Attack</td>\n",
       "      <td>25</td>\n",
       "    </tr>\n",
       "    <tr>\n",
       "      <th>1</th>\n",
       "      <td>2</td>\n",
       "      <td>Vasquez PLC</td>\n",
       "      <td>Telecommunications</td>\n",
       "      <td>Ransomware</td>\n",
       "      <td>2018-05-24</td>\n",
       "      <td>9114896.0</td>\n",
       "      <td>1668001.94</td>\n",
       "      <td>Netherlands</td>\n",
       "      <td>Compromised Vendor</td>\n",
       "      <td>29</td>\n",
       "    </tr>\n",
       "    <tr>\n",
       "      <th>2</th>\n",
       "      <td>3</td>\n",
       "      <td>Gardner LLC</td>\n",
       "      <td>Retail</td>\n",
       "      <td>Supply Chain Attack</td>\n",
       "      <td>2018-07-04</td>\n",
       "      <td>3412886.0</td>\n",
       "      <td>4073566.14</td>\n",
       "      <td>Belgium</td>\n",
       "      <td>Compromised Vendor</td>\n",
       "      <td>22</td>\n",
       "    </tr>\n",
       "    <tr>\n",
       "      <th>3</th>\n",
       "      <td>4</td>\n",
       "      <td>Pena-Kirk</td>\n",
       "      <td>Manufacturing</td>\n",
       "      <td>Ransomware</td>\n",
       "      <td>2018-02-05</td>\n",
       "      <td>5829814.0</td>\n",
       "      <td>3211005.93</td>\n",
       "      <td>Belgium</td>\n",
       "      <td>Compromised Vendor</td>\n",
       "      <td>60</td>\n",
       "    </tr>\n",
       "    <tr>\n",
       "      <th>4</th>\n",
       "      <td>5</td>\n",
       "      <td>Garcia, Butler and Kennedy</td>\n",
       "      <td>Healthcare</td>\n",
       "      <td>Ransomware</td>\n",
       "      <td>2019-04-05</td>\n",
       "      <td>9996201.0</td>\n",
       "      <td>4033042.07</td>\n",
       "      <td>UK</td>\n",
       "      <td>Compromised Vendor</td>\n",
       "      <td>59</td>\n",
       "    </tr>\n",
       "  </tbody>\n",
       "</table>\n",
       "</div>"
      ],
      "text/plain": [
       "   Incident ID                Company Name            Industry  \\\n",
       "0            1                   White Inc              Retail   \n",
       "1            2                 Vasquez PLC  Telecommunications   \n",
       "2            3                 Gardner LLC              Retail   \n",
       "3            4                   Pena-Kirk       Manufacturing   \n",
       "4            5  Garcia, Butler and Kennedy          Healthcare   \n",
       "\n",
       "           Attack Type Date of Incident  Breach Size (No. of Records)  \\\n",
       "0           Ransomware       2018-08-27                     6525846.0   \n",
       "1           Ransomware       2018-05-24                     9114896.0   \n",
       "2  Supply Chain Attack       2018-07-04                     3412886.0   \n",
       "3           Ransomware       2018-02-05                     5829814.0   \n",
       "4           Ransomware       2019-04-05                     9996201.0   \n",
       "\n",
       "   Financial Loss (USD)      Country       Attack Vector  \\\n",
       "0             506815.46        Italy         DDoS Attack   \n",
       "1            1668001.94  Netherlands  Compromised Vendor   \n",
       "2            4073566.14      Belgium  Compromised Vendor   \n",
       "3            3211005.93      Belgium  Compromised Vendor   \n",
       "4            4033042.07           UK  Compromised Vendor   \n",
       "\n",
       "   Mitigation Time (Days)  \n",
       "0                      25  \n",
       "1                      29  \n",
       "2                      22  \n",
       "3                      60  \n",
       "4                      59  "
      ]
     },
     "execution_count": 59,
     "metadata": {},
     "output_type": "execute_result"
    }
   ],
   "source": [
    "df_comp.head()"
   ]
  },
  {
   "cell_type": "code",
   "execution_count": 60,
   "id": "2409fecc-3f19-41f5-be3a-b10df02314e7",
   "metadata": {},
   "outputs": [],
   "source": [
    "# 2. Ensuring correct data types (e.g., 'Date of Incident' to datetime, numeric columns for breach size and financial loss)\n",
    "df_comp['Date of Incident'] = pd.to_datetime(df_comp['Date of Incident'])\n",
    "df_comp['Breach Size (No. of Records)'] = pd.to_numeric(df_comp['Breach Size (No. of Records)'])\n",
    "df_comp['Financial Loss (USD)'] = pd.to_numeric(df_comp['Financial Loss (USD)'])\n",
    "df_comp['Mitigation Time (Days)'] = pd.to_numeric(df_comp['Mitigation Time (Days)'])\n"
   ]
  },
  {
   "cell_type": "code",
   "execution_count": 61,
   "id": "ce9adb48-c7cf-438d-8d25-ec231814a1fe",
   "metadata": {},
   "outputs": [],
   "source": [
    "# 3. Standardizing text data (Company Name, Country, and Industry columns)\n",
    "df_comp['Company Name'] = df_comp['Company Name'].str.title().str.strip()\n",
    "df_comp['Industry'] = df_comp['Industry'].str.title().str.strip()\n",
    "df_comp['Country'] = df_comp['Country'].str.title().str.strip()\n"
   ]
  },
  {
   "cell_type": "code",
   "execution_count": 62,
   "id": "56a7460f-fb08-4c10-9e68-bf58deac36ac",
   "metadata": {},
   "outputs": [],
   "source": [
    "# 4. Removing duplicates\n",
    "df_comp = df_comp.drop_duplicates()"
   ]
  },
  {
   "cell_type": "code",
   "execution_count": 63,
   "id": "29bad613-3105-4c0f-8f93-5e4436621da8",
   "metadata": {},
   "outputs": [
    {
     "name": "stderr",
     "output_type": "stream",
     "text": [
      "C:\\Users\\JasonGreich\\AppData\\Local\\Temp\\ipykernel_9580\\381758125.py:3: FutureWarning: A value is trying to be set on a copy of a DataFrame or Series through chained assignment using an inplace method.\n",
      "The behavior will change in pandas 3.0. This inplace method will never work because the intermediate object on which we are setting values always behaves as a copy.\n",
      "\n",
      "For example, when doing 'df[col].method(value, inplace=True)', try using 'df.method({col: value}, inplace=True)' or df[col] = df[col].method(value) instead, to perform the operation inplace on the original object.\n",
      "\n",
      "\n",
      "  df_comp['Breach Size (No. of Records)'].fillna(median_breach_size, inplace=True)\n"
     ]
    }
   ],
   "source": [
    "# 5. Handling missing values for 'Breach Size (No. of Records)'\n",
    "median_breach_size = df_comp['Breach Size (No. of Records)'].median()\n",
    "df_comp['Breach Size (No. of Records)'].fillna(median_breach_size, inplace=True)"
   ]
  },
  {
   "cell_type": "code",
   "execution_count": 64,
   "id": "175043eb-d290-406d-9774-8626c01e090a",
   "metadata": {},
   "outputs": [],
   "source": [
    "# 6. Creating new columns for year, month, and day from 'Date of Incident'\n",
    "df_comp['Year'] = df_comp['Date of Incident'].dt.year\n",
    "df_comp['Month'] = df_comp['Date of Incident'].dt.month\n",
    "df_comp['Day'] = df_comp['Date of Incident'].dt.day\n"
   ]
  },
  {
   "cell_type": "code",
   "execution_count": 65,
   "id": "2e7eafd3-b4ab-44de-bbf5-7ceb4d072fed",
   "metadata": {},
   "outputs": [
    {
     "data": {
      "text/html": [
       "<div>\n",
       "<style scoped>\n",
       "    .dataframe tbody tr th:only-of-type {\n",
       "        vertical-align: middle;\n",
       "    }\n",
       "\n",
       "    .dataframe tbody tr th {\n",
       "        vertical-align: top;\n",
       "    }\n",
       "\n",
       "    .dataframe thead th {\n",
       "        text-align: right;\n",
       "    }\n",
       "</style>\n",
       "<table border=\"1\" class=\"dataframe\">\n",
       "  <thead>\n",
       "    <tr style=\"text-align: right;\">\n",
       "      <th></th>\n",
       "      <th>Incident ID</th>\n",
       "      <th>Company Name</th>\n",
       "      <th>Industry</th>\n",
       "      <th>Attack Type</th>\n",
       "      <th>Date of Incident</th>\n",
       "      <th>Breach Size (No. of Records)</th>\n",
       "      <th>Financial Loss (USD)</th>\n",
       "      <th>Country</th>\n",
       "      <th>Attack Vector</th>\n",
       "      <th>Mitigation Time (Days)</th>\n",
       "      <th>Year</th>\n",
       "      <th>Month</th>\n",
       "      <th>Day</th>\n",
       "    </tr>\n",
       "  </thead>\n",
       "  <tbody>\n",
       "    <tr>\n",
       "      <th>0</th>\n",
       "      <td>1</td>\n",
       "      <td>White Inc</td>\n",
       "      <td>Retail</td>\n",
       "      <td>Ransomware</td>\n",
       "      <td>2018-08-27</td>\n",
       "      <td>6525846.0</td>\n",
       "      <td>506815.46</td>\n",
       "      <td>Italy</td>\n",
       "      <td>DDoS Attack</td>\n",
       "      <td>25</td>\n",
       "      <td>2018</td>\n",
       "      <td>8</td>\n",
       "      <td>27</td>\n",
       "    </tr>\n",
       "    <tr>\n",
       "      <th>1</th>\n",
       "      <td>2</td>\n",
       "      <td>Vasquez Plc</td>\n",
       "      <td>Telecommunications</td>\n",
       "      <td>Ransomware</td>\n",
       "      <td>2018-05-24</td>\n",
       "      <td>9114896.0</td>\n",
       "      <td>1668001.94</td>\n",
       "      <td>Netherlands</td>\n",
       "      <td>Compromised Vendor</td>\n",
       "      <td>29</td>\n",
       "      <td>2018</td>\n",
       "      <td>5</td>\n",
       "      <td>24</td>\n",
       "    </tr>\n",
       "    <tr>\n",
       "      <th>2</th>\n",
       "      <td>3</td>\n",
       "      <td>Gardner Llc</td>\n",
       "      <td>Retail</td>\n",
       "      <td>Supply Chain Attack</td>\n",
       "      <td>2018-07-04</td>\n",
       "      <td>3412886.0</td>\n",
       "      <td>4073566.14</td>\n",
       "      <td>Belgium</td>\n",
       "      <td>Compromised Vendor</td>\n",
       "      <td>22</td>\n",
       "      <td>2018</td>\n",
       "      <td>7</td>\n",
       "      <td>4</td>\n",
       "    </tr>\n",
       "    <tr>\n",
       "      <th>3</th>\n",
       "      <td>4</td>\n",
       "      <td>Pena-Kirk</td>\n",
       "      <td>Manufacturing</td>\n",
       "      <td>Ransomware</td>\n",
       "      <td>2018-02-05</td>\n",
       "      <td>5829814.0</td>\n",
       "      <td>3211005.93</td>\n",
       "      <td>Belgium</td>\n",
       "      <td>Compromised Vendor</td>\n",
       "      <td>60</td>\n",
       "      <td>2018</td>\n",
       "      <td>2</td>\n",
       "      <td>5</td>\n",
       "    </tr>\n",
       "    <tr>\n",
       "      <th>4</th>\n",
       "      <td>5</td>\n",
       "      <td>Garcia, Butler And Kennedy</td>\n",
       "      <td>Healthcare</td>\n",
       "      <td>Ransomware</td>\n",
       "      <td>2019-04-05</td>\n",
       "      <td>9996201.0</td>\n",
       "      <td>4033042.07</td>\n",
       "      <td>Uk</td>\n",
       "      <td>Compromised Vendor</td>\n",
       "      <td>59</td>\n",
       "      <td>2019</td>\n",
       "      <td>4</td>\n",
       "      <td>5</td>\n",
       "    </tr>\n",
       "  </tbody>\n",
       "</table>\n",
       "</div>"
      ],
      "text/plain": [
       "   Incident ID                Company Name            Industry  \\\n",
       "0            1                   White Inc              Retail   \n",
       "1            2                 Vasquez Plc  Telecommunications   \n",
       "2            3                 Gardner Llc              Retail   \n",
       "3            4                   Pena-Kirk       Manufacturing   \n",
       "4            5  Garcia, Butler And Kennedy          Healthcare   \n",
       "\n",
       "           Attack Type Date of Incident  Breach Size (No. of Records)  \\\n",
       "0           Ransomware       2018-08-27                     6525846.0   \n",
       "1           Ransomware       2018-05-24                     9114896.0   \n",
       "2  Supply Chain Attack       2018-07-04                     3412886.0   \n",
       "3           Ransomware       2018-02-05                     5829814.0   \n",
       "4           Ransomware       2019-04-05                     9996201.0   \n",
       "\n",
       "   Financial Loss (USD)      Country       Attack Vector  \\\n",
       "0             506815.46        Italy         DDoS Attack   \n",
       "1            1668001.94  Netherlands  Compromised Vendor   \n",
       "2            4073566.14      Belgium  Compromised Vendor   \n",
       "3            3211005.93      Belgium  Compromised Vendor   \n",
       "4            4033042.07           Uk  Compromised Vendor   \n",
       "\n",
       "   Mitigation Time (Days)  Year  Month  Day  \n",
       "0                      25  2018      8   27  \n",
       "1                      29  2018      5   24  \n",
       "2                      22  2018      7    4  \n",
       "3                      60  2018      2    5  \n",
       "4                      59  2019      4    5  "
      ]
     },
     "execution_count": 65,
     "metadata": {},
     "output_type": "execute_result"
    }
   ],
   "source": [
    "# Display the cleaned data\n",
    "df_comp.head()"
   ]
  },
  {
   "cell_type": "markdown",
   "id": "5063422c-b052-42f0-83b5-d3ec23114824",
   "metadata": {},
   "source": [
    "## Active Users"
   ]
  },
  {
   "cell_type": "code",
   "execution_count": 66,
   "id": "4ef03ef1-48de-458e-87e6-72df9d31280d",
   "metadata": {},
   "outputs": [],
   "source": [
    "# Convert the 'Date' column to datetime format\n",
    "df_users['Date'] = pd.to_datetime(df_users['Date'])"
   ]
  },
  {
   "cell_type": "code",
   "execution_count": 67,
   "id": "d847c510-06fc-46b1-b421-a0fd32518414",
   "metadata": {},
   "outputs": [],
   "source": [
    "# Create new columns for year, month, and day\n",
    "df_users['Year'] = df_users['Date'].dt.year\n",
    "df_users['Month'] = df_users['Date'].dt.month\n",
    "df_users['Day'] = df_users['Date'].dt.day"
   ]
  },
  {
   "cell_type": "code",
   "execution_count": 68,
   "id": "5d4c66f9-9798-4e53-98f5-55d1afa4f7ef",
   "metadata": {},
   "outputs": [
    {
     "data": {
      "text/html": [
       "<div>\n",
       "<style scoped>\n",
       "    .dataframe tbody tr th:only-of-type {\n",
       "        vertical-align: middle;\n",
       "    }\n",
       "\n",
       "    .dataframe tbody tr th {\n",
       "        vertical-align: top;\n",
       "    }\n",
       "\n",
       "    .dataframe thead th {\n",
       "        text-align: right;\n",
       "    }\n",
       "</style>\n",
       "<table border=\"1\" class=\"dataframe\">\n",
       "  <thead>\n",
       "    <tr style=\"text-align: right;\">\n",
       "      <th></th>\n",
       "      <th>Date</th>\n",
       "      <th>Active Online Users</th>\n",
       "      <th>Year</th>\n",
       "      <th>Month</th>\n",
       "      <th>Day</th>\n",
       "    </tr>\n",
       "  </thead>\n",
       "  <tbody>\n",
       "    <tr>\n",
       "      <th>0</th>\n",
       "      <td>2018-01-01</td>\n",
       "      <td>412000000</td>\n",
       "      <td>2018</td>\n",
       "      <td>1</td>\n",
       "      <td>1</td>\n",
       "    </tr>\n",
       "    <tr>\n",
       "      <th>1</th>\n",
       "      <td>2018-01-02</td>\n",
       "      <td>413653325</td>\n",
       "      <td>2018</td>\n",
       "      <td>1</td>\n",
       "      <td>2</td>\n",
       "    </tr>\n",
       "    <tr>\n",
       "      <th>2</th>\n",
       "      <td>2018-01-03</td>\n",
       "      <td>412789947</td>\n",
       "      <td>2018</td>\n",
       "      <td>1</td>\n",
       "      <td>3</td>\n",
       "    </tr>\n",
       "    <tr>\n",
       "      <th>3</th>\n",
       "      <td>2018-01-04</td>\n",
       "      <td>413882307</td>\n",
       "      <td>2018</td>\n",
       "      <td>1</td>\n",
       "      <td>4</td>\n",
       "    </tr>\n",
       "    <tr>\n",
       "      <th>4</th>\n",
       "      <td>2018-01-05</td>\n",
       "      <td>412000000</td>\n",
       "      <td>2018</td>\n",
       "      <td>1</td>\n",
       "      <td>5</td>\n",
       "    </tr>\n",
       "  </tbody>\n",
       "</table>\n",
       "</div>"
      ],
      "text/plain": [
       "        Date  Active Online Users  Year  Month  Day\n",
       "0 2018-01-01            412000000  2018      1    1\n",
       "1 2018-01-02            413653325  2018      1    2\n",
       "2 2018-01-03            412789947  2018      1    3\n",
       "3 2018-01-04            413882307  2018      1    4\n",
       "4 2018-01-05            412000000  2018      1    5"
      ]
     },
     "execution_count": 68,
     "metadata": {},
     "output_type": "execute_result"
    }
   ],
   "source": [
    "df_users.head()"
   ]
  },
  {
   "cell_type": "markdown",
   "id": "28b7779b-584d-4732-a1da-72b034968ec3",
   "metadata": {},
   "source": [
    "## Changing Columns Names"
   ]
  },
  {
   "cell_type": "code",
   "execution_count": 69,
   "id": "69b64ef6-18b4-4f03-be27-e1544e4d5d7c",
   "metadata": {},
   "outputs": [],
   "source": [
    "# Rename for individuals dataset\n",
    "individuals_rename_mapping = {\n",
    "    'Unnamed: 0': 'ID',\n",
    "    'Timestamp': 'Timestamp',\n",
    "    'Source IP Address': 'Source_IP_Address',\n",
    "    'Destination IP Address': 'Destination_IP_Address',\n",
    "    'Source Port': 'Source_Port',\n",
    "    'Destination Port': 'Destination_Port',\n",
    "    'Protocol': 'Protocol',\n",
    "    'Packet Length': 'Packet_Length',\n",
    "    'Packet Type': 'Packet_Type',\n",
    "    'Traffic Type': 'Traffic_Type',\n",
    "    'Payload Data': 'Payload_Data',\n",
    "    'Malware Indicators': 'Malware_Indicators',\n",
    "    'Anomaly Scores': 'Anomaly_Scores',\n",
    "    'Alerts/Warnings': 'Alerts_Warnings',\n",
    "    'Attack Type': 'Attack_Type',\n",
    "    'Attack Signature': 'Attack_Signature',\n",
    "    'Action Taken': 'Action_Taken',\n",
    "    'Severity Level': 'Severity_Level',\n",
    "    'User Information': 'User_Information',\n",
    "    'Network Segment': 'Network_Segment',\n",
    "    'Proxy Information': 'Proxy_Information',\n",
    "    'Firewall Logs': 'Firewall_Logs',\n",
    "    'IDS/IPS Alerts': 'IDS_IPS_Alerts',\n",
    "    'Log Source': 'Log_Source',\n",
    "    'Country': 'Country',\n",
    "    'Valid Source IP': 'Valid_Source_IP',\n",
    "    'Valid Destination IP': 'Valid_Destination_IP',\n",
    "    'Day': 'Day',\n",
    "    'Hour of Day': 'Hour_of_Day',\n",
    "    'Month': 'Month',\n",
    "    'Year': 'Year',\n",
    "    'Browser': 'Browser',\n",
    "    'Operating System': 'Operating_System',\n",
    "    'Device Type': 'Device_Type'\n",
    "}\n",
    "\n",
    "# Rename for companies dataset\n",
    "companies_rename_mapping = {\n",
    "    'Unnamed: 0': 'ID',\n",
    "    'Incident ID': 'Incident_ID',\n",
    "    'Company Name': 'Company_Name',\n",
    "    'Industry': 'Industry',\n",
    "    'Attack Type': 'Attack_Type',\n",
    "    'Date of Incident': 'Date_of_Incident',\n",
    "    'Breach Size (No. of Records)': 'Breach_Size',\n",
    "    'Financial Loss (USD)': 'Financial_Loss',\n",
    "    'Country': 'Country',\n",
    "    'Attack Vector': 'Attack_Vector',\n",
    "    'Mitigation Time (Days)': 'Mitigation_Time',\n",
    "    'Year': 'Year',\n",
    "    'Month': 'Month',\n",
    "    'Day': 'Day'\n",
    "}\n",
    "\n",
    "# Rename for active users dataset\n",
    "active_users_rename_mapping = {\n",
    "    'Unnamed: 0': 'ID',\n",
    "    'Date': 'Date',\n",
    "    'Active Online Users': 'Active_Online_Users',\n",
    "    'Year': 'Year',\n",
    "    'Month': 'Month',\n",
    "    'Day': 'Day'\n",
    "}\n",
    "\n",
    "# Apply renaming\n",
    "df_ind.rename(columns=individuals_rename_mapping, inplace=True)\n",
    "df_comp.rename(columns=companies_rename_mapping, inplace=True)\n",
    "df_users.rename(columns=active_users_rename_mapping, inplace=True)\n",
    "\n",
    "# Save the updated files\n",
    "df_ind.to_csv('./Transformed_Data/individuals_cyber_attacks_europe.csv', index=False)\n",
    "df_comp.to_csv('./Transformed_Data/companies_cyber_attacks_europe.csv', index=False)\n",
    "df_users.to_csv('./Transformed_Data/active_online_users_europe_2018_2023.csv', index=False)"
   ]
  },
  {
   "cell_type": "markdown",
   "id": "df9de28f-4b2c-4eda-8a71-acd56b462c18",
   "metadata": {},
   "source": [
    "# Loading "
   ]
  },
  {
   "cell_type": "markdown",
   "id": "59211f22-c4ed-4ada-8286-5ba7a4301b28",
   "metadata": {},
   "source": [
    "## Loading to transfomation DB"
   ]
  },
  {
   "cell_type": "code",
   "execution_count": 70,
   "id": "02644c77-67cf-4b4e-b9e1-9cf9a2c06646",
   "metadata": {},
   "outputs": [
    {
     "name": "stdout",
     "output_type": "stream",
     "text": [
      "Data imported successfully to table 'companies_cyber_attacks' in database 'transformed_cyber_staging'\n"
     ]
    }
   ],
   "source": [
    "# Database connection details\n",
    "db_user = 'root'  # Replace with your MySQL username\n",
    "db_password = 'root'  # Replace with your MySQL password\n",
    "db_host = 'localhost'  # Or your database server hostname\n",
    "db_name = 'transformed_cyber_staging'  # Replace with your database name\n",
    "table_name = 'companies_cyber_attacks'  # Replace with your desired table name\n",
    "\n",
    "# Create the database engine\n",
    "engine = create_engine(f'mysql+pymysql://{db_user}:{db_password}@{db_host}/{db_name}')\n",
    "\n",
    "# Write the DataFrame to the MySQL table\n",
    "df_comp.to_sql(table_name, con=engine, if_exists='replace', index=False)\n",
    "\n",
    "print(f\"Data imported successfully to table '{table_name}' in database '{db_name}'\")"
   ]
  },
  {
   "cell_type": "code",
   "execution_count": 71,
   "id": "803acc9e-03ec-4939-a454-254a7afebd3b",
   "metadata": {},
   "outputs": [
    {
     "name": "stdout",
     "output_type": "stream",
     "text": [
      "Data imported successfully to table 'individual_cyber_attacks' in database 'transformed_cyber_staging'\n"
     ]
    }
   ],
   "source": [
    "# Database connection details\n",
    "db_user = 'root'  # Replace with your MySQL username\n",
    "db_password = 'root'  # Replace with your MySQL password\n",
    "db_host = 'localhost'  # Or your database server hostname\n",
    "db_name = 'transformed_cyber_staging'  # Replace with your database name\n",
    "table_name = 'individual_cyber_attacks'  # Replace with your desired table name\n",
    "\n",
    "# Create the database engine\n",
    "engine = create_engine(f'mysql+pymysql://{db_user}:{db_password}@{db_host}/{db_name}')\n",
    "\n",
    "# Write the DataFrame to the MySQL table\n",
    "df_ind.to_sql(table_name, con=engine, if_exists='replace', index=False)\n",
    "\n",
    "print(f\"Data imported successfully to table '{table_name}' in database '{db_name}'\")"
   ]
  },
  {
   "cell_type": "code",
   "execution_count": 72,
   "id": "5684df35-8e4d-4f37-8739-8380846f8065",
   "metadata": {},
   "outputs": [
    {
     "name": "stdout",
     "output_type": "stream",
     "text": [
      "Data imported successfully to table 'active_online_users' in database 'transformed_cyber_staging'\n"
     ]
    }
   ],
   "source": [
    "# Database connection details\n",
    "db_user = 'root'  # Replace with your MySQL username\n",
    "db_password = 'root'  # Replace with your MySQL password\n",
    "db_host = 'localhost'  # Or your database server hostname\n",
    "db_name = 'transformed_cyber_staging'  # Replace with your database name\n",
    "table_name = 'active_online_users'  # Replace with your desired table name\n",
    "\n",
    "# Create the database engine\n",
    "engine = create_engine(f'mysql+pymysql://{db_user}:{db_password}@{db_host}/{db_name}')\n",
    "\n",
    "# Write the DataFrame to the MySQL table\n",
    "df_users.to_sql(table_name, con=engine, if_exists='replace', index=False)\n",
    "\n",
    "print(f\"Data imported successfully to table '{table_name}' in database '{db_name}'\")"
   ]
  }
 ],
 "metadata": {
  "kernelspec": {
   "display_name": "Python 3 (ipykernel)",
   "language": "python",
   "name": "python3"
  },
  "language_info": {
   "codemirror_mode": {
    "name": "ipython",
    "version": 3
   },
   "file_extension": ".py",
   "mimetype": "text/x-python",
   "name": "python",
   "nbconvert_exporter": "python",
   "pygments_lexer": "ipython3",
   "version": "3.12.4"
  }
 },
 "nbformat": 4,
 "nbformat_minor": 5
}
