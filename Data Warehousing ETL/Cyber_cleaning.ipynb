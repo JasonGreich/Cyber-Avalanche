{
 "cells": [
  {
   "cell_type": "code",
   "execution_count": 582,
   "id": "41c55ba2-35c6-44cd-9352-8cfff6fcc6cf",
   "metadata": {},
   "outputs": [],
   "source": [
    "import pandas as pd\n",
    "import re\n",
    "from sqlalchemy import create_engine"
   ]
  },
  {
   "cell_type": "markdown",
   "id": "bb2f5f43-04f1-4a61-bb80-5dfbd796555d",
   "metadata": {},
   "source": [
    "# Extracting Data"
   ]
  },
  {
   "cell_type": "markdown",
   "id": "ac440d3c-b9a7-471b-9189-e2940c80081b",
   "metadata": {},
   "source": [
    "## Individual cyber attacks"
   ]
  },
  {
   "cell_type": "code",
   "execution_count": 583,
   "id": "bb9c78ca-6654-42dc-b229-7592d2d680f9",
   "metadata": {},
   "outputs": [],
   "source": [
    "# Read the CSV file\n",
    "df_individuals = pd.read_csv('../Original Datasets/individuals_cyber_attacks_europe.csv')\n",
    "df_ind = df_individuals.copy()\n",
    "pd.set_option('display.max_rows', None)\n",
    "pd.set_option('display.max_columns', None)"
   ]
  },
  {
   "cell_type": "code",
   "execution_count": 584,
   "id": "e1ad1a1e-0220-440e-968b-27a16a0db1af",
   "metadata": {},
   "outputs": [
    {
     "name": "stdout",
     "output_type": "stream",
     "text": [
      "Data imported successfully to table 'cyber_attacks_individuals' in database 'staging_cyber_attacks'\n"
     ]
    }
   ],
   "source": [
    "# Database connection details\n",
    "db_user = 'root'  # Replace with your MySQL username\n",
    "db_password = 'root'  # Replace with your MySQL password\n",
    "db_host = 'localhost'  # Or your database server hostname\n",
    "db_name = 'staging_cyber_attacks'  # Replace with your database name\n",
    "table_name = 'cyber_attacks_individuals'  # Replace with your desired table name\n",
    "\n",
    "# Create the database engine\n",
    "engine = create_engine(f'mysql+pymysql://{db_user}:{db_password}@{db_host}/{db_name}')\n",
    "\n",
    "# Write the DataFrame to the MySQL table\n",
    "df_individuals.to_sql(table_name, con=engine, if_exists='replace', index=False)\n",
    "\n",
    "print(f\"Data imported successfully to table '{table_name}' in database '{db_name}'\")"
   ]
  },
  {
   "cell_type": "markdown",
   "id": "69503b0d-aa77-4ab2-88c3-69eaa6ac2d45",
   "metadata": {},
   "source": [
    "## Companies cyber attacks"
   ]
  },
  {
   "cell_type": "code",
   "execution_count": 585,
   "id": "074d6415-3d8e-4ee5-b1cd-a36530c85994",
   "metadata": {},
   "outputs": [],
   "source": [
    "# Read the CSV file\n",
    "df_companies = pd.read_csv('../Original Datasets/companies_cyber_attacks_europe.csv')\n",
    "df_comp = df_companies.copy()\n",
    "pd.set_option('display.max_rows', None)\n",
    "pd.set_option('display.max_columns', None)"
   ]
  },
  {
   "cell_type": "code",
   "execution_count": 586,
   "id": "0ee10df4-c78d-48d4-b0ad-4e5c4ce0fb45",
   "metadata": {},
   "outputs": [
    {
     "name": "stdout",
     "output_type": "stream",
     "text": [
      "Data imported successfully to table 'cyber_attacks_companies' in database 'staging_cyber_attacks'\n"
     ]
    }
   ],
   "source": [
    "# Database connection details\n",
    "db_user = 'root'  # Replace with your MySQL username\n",
    "db_password = 'root'  # Replace with your MySQL password\n",
    "db_host = 'localhost'  # Or your database server hostname\n",
    "db_name = 'staging_cyber_attacks'  # Replace with your database name\n",
    "table_name = 'cyber_attacks_companies'  # Replace with your desired table name\n",
    "\n",
    "# Create the database engine\n",
    "engine = create_engine(f'mysql+pymysql://{db_user}:{db_password}@{db_host}/{db_name}')\n",
    "\n",
    "# Write the DataFrame to the MySQL table\n",
    "df_companies.to_sql(table_name, con=engine, if_exists='replace', index=False)\n",
    "\n",
    "print(f\"Data imported successfully to table '{table_name}' in database '{db_name}'\")"
   ]
  },
  {
   "cell_type": "markdown",
   "id": "d09ffd41-feed-406c-9f8a-405f61f0c333",
   "metadata": {},
   "source": [
    "## Active Users"
   ]
  },
  {
   "cell_type": "code",
   "execution_count": 587,
   "id": "5f5c6c6e-5352-4985-81a7-c672ee57bd74",
   "metadata": {},
   "outputs": [],
   "source": [
    "# Read the CSV file\n",
    "df_users = pd.read_csv('../Original Datasets/active_online_users_europe_2018_2023.csv')\n",
    "pd.set_option('display.max_rows', None)\n",
    "pd.set_option('display.max_columns', None)"
   ]
  },
  {
   "cell_type": "code",
   "execution_count": 588,
   "id": "5eb9ae51-d5e2-47b9-bad8-6b70281847dd",
   "metadata": {},
   "outputs": [
    {
     "name": "stdout",
     "output_type": "stream",
     "text": [
      "Data imported successfully to table 'active_online_users' in database 'staging_cyber_attacks'\n"
     ]
    }
   ],
   "source": [
    "# Database connection details\n",
    "db_user = 'root'  # Replace with your MySQL username\n",
    "db_password = 'root'  # Replace with your MySQL password\n",
    "db_host = 'localhost'  # Or your database server hostname\n",
    "db_name = 'staging_cyber_attacks'  # Replace with your database name\n",
    "table_name = 'active_online_users'  # Replace with your desired table name\n",
    "\n",
    "# Create the database engine\n",
    "engine = create_engine(f'mysql+pymysql://{db_user}:{db_password}@{db_host}/{db_name}')\n",
    "\n",
    "# Write the DataFrame to the MySQL table\n",
    "df_users.to_sql(table_name, con=engine, if_exists='replace', index=False)\n",
    "\n",
    "print(f\"Data imported successfully to table '{table_name}' in database '{db_name}'\")"
   ]
  },
  {
   "cell_type": "markdown",
   "id": "20f756f1-a2ac-4fbd-94f5-eca47acfd557",
   "metadata": {},
   "source": [
    "# Transforming Data"
   ]
  },
  {
   "cell_type": "markdown",
   "id": "c2a73afb-b7e7-45a2-b8c1-d4bff29fbc33",
   "metadata": {},
   "source": [
    "## Cyber Attacks on Individuals"
   ]
  },
  {
   "cell_type": "code",
   "execution_count": 589,
   "id": "ad49bee8-169e-4b91-98cc-605e83fe92e9",
   "metadata": {},
   "outputs": [],
   "source": [
    "# Drop rows where all elements are missing\n",
    "df_ind.dropna(how='all', inplace=True)"
   ]
  },
  {
   "cell_type": "code",
   "execution_count": 590,
   "id": "450a67b0-96f8-48ab-a41c-02902e2ca4b9",
   "metadata": {},
   "outputs": [],
   "source": [
    "df_ind['Timestamp'] = pd.to_datetime(df_ind['Timestamp'], format='%m/%d/%Y %H:%M')"
   ]
  },
  {
   "cell_type": "code",
   "execution_count": 591,
   "id": "435abf3f-eb7e-40b7-aee3-51d329f16021",
   "metadata": {},
   "outputs": [],
   "source": [
    "# Fill nulls with 'Not Available'\n",
    "columns_to_fill = ['Malware Indicators', 'Alerts/Warnings', 'Proxy Information', 'Firewall Logs', 'IDS/IPS Alerts']\n",
    "df_ind[columns_to_fill] = df_ind[columns_to_fill].fillna('Not Available')"
   ]
  },
  {
   "cell_type": "code",
   "execution_count": 592,
   "id": "3adf8e90-c414-403a-9f4b-e61cd2d077f6",
   "metadata": {},
   "outputs": [],
   "source": [
    "# Drop duplicates\n",
    "df_ind.drop_duplicates(inplace=True)\n",
    "df_ind.reset_index(drop=True, inplace=True)"
   ]
  },
  {
   "cell_type": "code",
   "execution_count": 593,
   "id": "ae04cf8e-3d94-4b11-b726-892a6f61be9f",
   "metadata": {},
   "outputs": [],
   "source": [
    "# Validate IP addresses\n",
    "def is_valid_ip(ip):\n",
    "    pattern = r\"^((25[0-5]|2[0-4][0-9]|[01]?[0-9][0-9]?)\\.){3}(25[0-5]|2[0-4][0-9]|[01]?[0-9][0-9]?)$\"\n",
    "    return bool(re.match(pattern, ip))\n",
    "\n",
    "df_ind['Valid Source IP'] = df_ind['Source IP Address'].apply(is_valid_ip)\n",
    "df_ind['Valid Destination IP'] = df_ind['Destination IP Address'].apply(is_valid_ip)"
   ]
  },
  {
   "cell_type": "code",
   "execution_count": 594,
   "id": "a0e56ea9-dc21-4fc6-a048-96e7f317c777",
   "metadata": {},
   "outputs": [
    {
     "name": "stdout",
     "output_type": "stream",
     "text": [
      "All port numbers are valid\n"
     ]
    }
   ],
   "source": [
    "# Check for invalid port numbers\n",
    "invalid_source_ports = df_ind[(df_ind['Source Port'] < 0) | (df_ind['Source Port'] > 65535)]\n",
    "invalid_destination_ports = df_ind[(df_ind['Destination Port'] < 0) | (df_ind['Destination Port'] > 65535)]\n",
    "\n",
    "if invalid_source_ports.shape[0] > 0 or invalid_destination_ports.shape[0] > 0:\n",
    "    print('Invalid port numbers found')\n",
    "else:\n",
    "    print('All port numbers are valid')"
   ]
  },
  {
   "cell_type": "code",
   "execution_count": 595,
   "id": "b2701b26-809f-4026-b5d8-05ad8e226a79",
   "metadata": {},
   "outputs": [
    {
     "name": "stdout",
     "output_type": "stream",
     "text": [
      "\n",
      "Number of rows with invalid Source IP Address: 0\n",
      "Number of rows with invalid Destination IP Address: 0\n"
     ]
    }
   ],
   "source": [
    "# Count invalid IPs\n",
    "invalid_source_ip_count = df_ind[df_ind['Valid Source IP'] == False].shape[0]\n",
    "invalid_destination_ip_count = df_ind[df_ind['Valid Destination IP'] == False].shape[0]\n",
    "\n",
    "print(f\"\\nNumber of rows with invalid Source IP Address: {invalid_source_ip_count}\")\n",
    "print(f\"Number of rows with invalid Destination IP Address: {invalid_destination_ip_count}\")"
   ]
  },
  {
   "cell_type": "code",
   "execution_count": 596,
   "id": "fb36686c-bb0d-4185-bfd9-04f400f81a27",
   "metadata": {},
   "outputs": [],
   "source": [
    "# Extract features from 'Timestamp'\n",
    "df_ind['Day'] = df_ind['Timestamp'].dt.day\n",
    "df_ind['Hour of Day'] = df_ind['Timestamp'].dt.hour\n",
    "df_ind['Month'] = df_ind['Timestamp'].dt.month\n",
    "df_ind['Year'] = df_ind['Timestamp'].dt.year"
   ]
  },
  {
   "cell_type": "code",
   "execution_count": 597,
   "id": "963e875a-6fbd-4ec2-a5d8-caa01f423868",
   "metadata": {},
   "outputs": [],
   "source": [
    "def extract_browser(text):\n",
    "    # Define patterns for common browsers\n",
    "    patterns = {\n",
    "        'Chrome': r'Chrome\\/[\\d.]+',\n",
    "        'Firefox': r'Firefox\\/[\\d.]+',\n",
    "        'Safari': r'Safari\\/[\\d.]+',\n",
    "        'Edge': r'Edge\\/[\\d.]+',\n",
    "        'MSIE': r'MSIE [\\d.]+',\n",
    "        'Trident': r'Trident\\/[\\d.]+'  # For older IE versions\n",
    "    }\n",
    "\n",
    "    for browser, pattern in patterns.items():\n",
    "        match = re.search(pattern, text)\n",
    "        if match:\n",
    "            return browser\n",
    "    return 'Unknown'"
   ]
  },
  {
   "cell_type": "code",
   "execution_count": 598,
   "id": "072a7b2c-77ff-4453-a128-77762c106245",
   "metadata": {},
   "outputs": [],
   "source": [
    "def extract_os(text):\n",
    "    # Define patterns for common operating systems\n",
    "    patterns = {\n",
    "        'Windows': r'Windows NT [\\d.]+',\n",
    "        'Mac OS X': r'Mac OS X [\\d._]+',\n",
    "        'Linux': r'Linux',\n",
    "        'Android': r'Android [\\d.]+',\n",
    "        'iOS': r'iPhone|iPad|iPod'\n",
    "    }\n",
    "\n",
    "    for os, pattern in patterns.items():\n",
    "        match = re.search(pattern, text)\n",
    "        if match:\n",
    "            return os\n",
    "    return 'Unknown'"
   ]
  },
  {
   "cell_type": "code",
   "execution_count": 599,
   "id": "2496bdec-79b8-4d80-ae87-b9743a13db1f",
   "metadata": {},
   "outputs": [],
   "source": [
    "def extract_device_type(text):\n",
    "    # Define patterns for common device types\n",
    "    if 'Mobile' in text or 'Android' in text or 'iPhone' in text or 'iPad' in text or 'iPod' in text:\n",
    "        return 'Mobile'\n",
    "    elif 'Tablet' in text:\n",
    "        return 'Tablet'\n",
    "    else:\n",
    "        return 'Desktop'"
   ]
  },
  {
   "cell_type": "code",
   "execution_count": 600,
   "id": "dca1f669-2853-46c2-9ad5-ec39e30f53cb",
   "metadata": {},
   "outputs": [],
   "source": [
    "# Apply the functions to the 'Device Information' column\n",
    "df_ind['Browser'] = df_ind['Device Information'].astype(str).apply(extract_browser)\n",
    "df_ind['Operating System'] = df_ind['Device Information'].astype(str).apply(extract_os)\n",
    "df_ind['Device Type'] = df_ind['Device Information'].astype(str).apply(extract_device_type)"
   ]
  },
  {
   "cell_type": "code",
   "execution_count": 601,
   "id": "32ffdbc6-6ed8-476d-bd8f-4e3c18ff342c",
   "metadata": {},
   "outputs": [],
   "source": [
    "df_ind = df_ind.drop('Device Information', axis=1)"
   ]
  },
  {
   "cell_type": "code",
   "execution_count": 602,
   "id": "646e7d08-e881-4bf0-90ee-164ff8bf26ea",
   "metadata": {},
   "outputs": [
    {
     "data": {
      "text/html": [
       "<div>\n",
       "<style scoped>\n",
       "    .dataframe tbody tr th:only-of-type {\n",
       "        vertical-align: middle;\n",
       "    }\n",
       "\n",
       "    .dataframe tbody tr th {\n",
       "        vertical-align: top;\n",
       "    }\n",
       "\n",
       "    .dataframe thead th {\n",
       "        text-align: right;\n",
       "    }\n",
       "</style>\n",
       "<table border=\"1\" class=\"dataframe\">\n",
       "  <thead>\n",
       "    <tr style=\"text-align: right;\">\n",
       "      <th></th>\n",
       "      <th>Timestamp</th>\n",
       "      <th>Source IP Address</th>\n",
       "      <th>Destination IP Address</th>\n",
       "      <th>Source Port</th>\n",
       "      <th>Destination Port</th>\n",
       "      <th>Protocol</th>\n",
       "      <th>Packet Length</th>\n",
       "      <th>Packet Type</th>\n",
       "      <th>Traffic Type</th>\n",
       "      <th>Payload Data</th>\n",
       "      <th>Malware Indicators</th>\n",
       "      <th>Anomaly Scores</th>\n",
       "      <th>Alerts/Warnings</th>\n",
       "      <th>Attack Type</th>\n",
       "      <th>Attack Signature</th>\n",
       "      <th>Action Taken</th>\n",
       "      <th>Severity Level</th>\n",
       "      <th>User Information</th>\n",
       "      <th>Network Segment</th>\n",
       "      <th>Proxy Information</th>\n",
       "      <th>Firewall Logs</th>\n",
       "      <th>IDS/IPS Alerts</th>\n",
       "      <th>Log Source</th>\n",
       "      <th>Country</th>\n",
       "      <th>Valid Source IP</th>\n",
       "      <th>Valid Destination IP</th>\n",
       "      <th>Day</th>\n",
       "      <th>Hour of Day</th>\n",
       "      <th>Month</th>\n",
       "      <th>Year</th>\n",
       "      <th>Browser</th>\n",
       "      <th>Operating System</th>\n",
       "      <th>Device Type</th>\n",
       "    </tr>\n",
       "  </thead>\n",
       "  <tbody>\n",
       "    <tr>\n",
       "      <th>0</th>\n",
       "      <td>2023-05-30 06:33:00</td>\n",
       "      <td>103.216.15.12</td>\n",
       "      <td>84.9.164.252</td>\n",
       "      <td>31225</td>\n",
       "      <td>17616</td>\n",
       "      <td>ICMP</td>\n",
       "      <td>503</td>\n",
       "      <td>Data</td>\n",
       "      <td>HTTP</td>\n",
       "      <td>Qui natus odio asperiores nam. Optio nobis ius...</td>\n",
       "      <td>IoC Detected</td>\n",
       "      <td>28.67</td>\n",
       "      <td>Not Available</td>\n",
       "      <td>Malware</td>\n",
       "      <td>Known Pattern B</td>\n",
       "      <td>Logged</td>\n",
       "      <td>Low</td>\n",
       "      <td>Reyansh Dugal</td>\n",
       "      <td>Segment A</td>\n",
       "      <td>150.9.97.135</td>\n",
       "      <td>Log Data</td>\n",
       "      <td>Not Available</td>\n",
       "      <td>Server</td>\n",
       "      <td>Germany</td>\n",
       "      <td>True</td>\n",
       "      <td>True</td>\n",
       "      <td>30</td>\n",
       "      <td>6</td>\n",
       "      <td>5</td>\n",
       "      <td>2023</td>\n",
       "      <td>MSIE</td>\n",
       "      <td>Windows</td>\n",
       "      <td>Desktop</td>\n",
       "    </tr>\n",
       "    <tr>\n",
       "      <th>1</th>\n",
       "      <td>2020-08-26 07:08:00</td>\n",
       "      <td>78.199.217.198</td>\n",
       "      <td>66.191.137.154</td>\n",
       "      <td>17245</td>\n",
       "      <td>48166</td>\n",
       "      <td>ICMP</td>\n",
       "      <td>1174</td>\n",
       "      <td>Data</td>\n",
       "      <td>HTTP</td>\n",
       "      <td>Aperiam quos modi officiis veritatis rem. Omni...</td>\n",
       "      <td>IoC Detected</td>\n",
       "      <td>51.50</td>\n",
       "      <td>Not Available</td>\n",
       "      <td>Malware</td>\n",
       "      <td>Known Pattern A</td>\n",
       "      <td>Blocked</td>\n",
       "      <td>Low</td>\n",
       "      <td>Sumer Rana</td>\n",
       "      <td>Segment B</td>\n",
       "      <td>Not Available</td>\n",
       "      <td>Log Data</td>\n",
       "      <td>Not Available</td>\n",
       "      <td>Firewall</td>\n",
       "      <td>Germany</td>\n",
       "      <td>True</td>\n",
       "      <td>True</td>\n",
       "      <td>26</td>\n",
       "      <td>7</td>\n",
       "      <td>8</td>\n",
       "      <td>2020</td>\n",
       "      <td>MSIE</td>\n",
       "      <td>Windows</td>\n",
       "      <td>Desktop</td>\n",
       "    </tr>\n",
       "    <tr>\n",
       "      <th>2</th>\n",
       "      <td>2022-11-13 08:23:00</td>\n",
       "      <td>63.79.210.48</td>\n",
       "      <td>198.219.82.17</td>\n",
       "      <td>16811</td>\n",
       "      <td>53600</td>\n",
       "      <td>UDP</td>\n",
       "      <td>306</td>\n",
       "      <td>Control</td>\n",
       "      <td>HTTP</td>\n",
       "      <td>Perferendis sapiente vitae soluta. Hic delectu...</td>\n",
       "      <td>IoC Detected</td>\n",
       "      <td>87.42</td>\n",
       "      <td>Alert Triggered</td>\n",
       "      <td>DDoS</td>\n",
       "      <td>Known Pattern B</td>\n",
       "      <td>Ignored</td>\n",
       "      <td>Low</td>\n",
       "      <td>Himmat Karpe</td>\n",
       "      <td>Segment C</td>\n",
       "      <td>114.133.48.179</td>\n",
       "      <td>Log Data</td>\n",
       "      <td>Alert Data</td>\n",
       "      <td>Firewall</td>\n",
       "      <td>Spain</td>\n",
       "      <td>True</td>\n",
       "      <td>True</td>\n",
       "      <td>13</td>\n",
       "      <td>8</td>\n",
       "      <td>11</td>\n",
       "      <td>2022</td>\n",
       "      <td>MSIE</td>\n",
       "      <td>Windows</td>\n",
       "      <td>Desktop</td>\n",
       "    </tr>\n",
       "    <tr>\n",
       "      <th>3</th>\n",
       "      <td>2023-07-02 10:38:00</td>\n",
       "      <td>163.42.196.10</td>\n",
       "      <td>101.228.192.255</td>\n",
       "      <td>20018</td>\n",
       "      <td>32534</td>\n",
       "      <td>UDP</td>\n",
       "      <td>385</td>\n",
       "      <td>Data</td>\n",
       "      <td>HTTP</td>\n",
       "      <td>Totam maxime beatae expedita explicabo porro l...</td>\n",
       "      <td>Not Available</td>\n",
       "      <td>15.79</td>\n",
       "      <td>Alert Triggered</td>\n",
       "      <td>Malware</td>\n",
       "      <td>Known Pattern B</td>\n",
       "      <td>Blocked</td>\n",
       "      <td>Medium</td>\n",
       "      <td>Fateh Kibe</td>\n",
       "      <td>Segment B</td>\n",
       "      <td>Not Available</td>\n",
       "      <td>Not Available</td>\n",
       "      <td>Alert Data</td>\n",
       "      <td>Firewall</td>\n",
       "      <td>Netherlands</td>\n",
       "      <td>True</td>\n",
       "      <td>True</td>\n",
       "      <td>2</td>\n",
       "      <td>10</td>\n",
       "      <td>7</td>\n",
       "      <td>2023</td>\n",
       "      <td>Firefox</td>\n",
       "      <td>Mac OS X</td>\n",
       "      <td>Desktop</td>\n",
       "    </tr>\n",
       "    <tr>\n",
       "      <th>4</th>\n",
       "      <td>2023-07-16 13:11:00</td>\n",
       "      <td>71.166.185.76</td>\n",
       "      <td>189.243.174.238</td>\n",
       "      <td>6131</td>\n",
       "      <td>26646</td>\n",
       "      <td>TCP</td>\n",
       "      <td>1462</td>\n",
       "      <td>Data</td>\n",
       "      <td>DNS</td>\n",
       "      <td>Odit nesciunt dolorem nisi iste iusto. Animi v...</td>\n",
       "      <td>Not Available</td>\n",
       "      <td>0.52</td>\n",
       "      <td>Alert Triggered</td>\n",
       "      <td>DDoS</td>\n",
       "      <td>Known Pattern B</td>\n",
       "      <td>Blocked</td>\n",
       "      <td>Low</td>\n",
       "      <td>Dhanush Chad</td>\n",
       "      <td>Segment C</td>\n",
       "      <td>149.6.110.119</td>\n",
       "      <td>Not Available</td>\n",
       "      <td>Alert Data</td>\n",
       "      <td>Firewall</td>\n",
       "      <td>Belgium</td>\n",
       "      <td>True</td>\n",
       "      <td>True</td>\n",
       "      <td>16</td>\n",
       "      <td>13</td>\n",
       "      <td>7</td>\n",
       "      <td>2023</td>\n",
       "      <td>MSIE</td>\n",
       "      <td>Windows</td>\n",
       "      <td>Desktop</td>\n",
       "    </tr>\n",
       "  </tbody>\n",
       "</table>\n",
       "</div>"
      ],
      "text/plain": [
       "            Timestamp Source IP Address Destination IP Address  Source Port  \\\n",
       "0 2023-05-30 06:33:00     103.216.15.12           84.9.164.252        31225   \n",
       "1 2020-08-26 07:08:00    78.199.217.198         66.191.137.154        17245   \n",
       "2 2022-11-13 08:23:00      63.79.210.48          198.219.82.17        16811   \n",
       "3 2023-07-02 10:38:00     163.42.196.10        101.228.192.255        20018   \n",
       "4 2023-07-16 13:11:00     71.166.185.76        189.243.174.238         6131   \n",
       "\n",
       "   Destination Port Protocol  Packet Length Packet Type Traffic Type  \\\n",
       "0             17616     ICMP            503        Data         HTTP   \n",
       "1             48166     ICMP           1174        Data         HTTP   \n",
       "2             53600      UDP            306     Control         HTTP   \n",
       "3             32534      UDP            385        Data         HTTP   \n",
       "4             26646      TCP           1462        Data          DNS   \n",
       "\n",
       "                                        Payload Data Malware Indicators  \\\n",
       "0  Qui natus odio asperiores nam. Optio nobis ius...       IoC Detected   \n",
       "1  Aperiam quos modi officiis veritatis rem. Omni...       IoC Detected   \n",
       "2  Perferendis sapiente vitae soluta. Hic delectu...       IoC Detected   \n",
       "3  Totam maxime beatae expedita explicabo porro l...      Not Available   \n",
       "4  Odit nesciunt dolorem nisi iste iusto. Animi v...      Not Available   \n",
       "\n",
       "   Anomaly Scores  Alerts/Warnings Attack Type Attack Signature Action Taken  \\\n",
       "0           28.67    Not Available     Malware  Known Pattern B       Logged   \n",
       "1           51.50    Not Available     Malware  Known Pattern A      Blocked   \n",
       "2           87.42  Alert Triggered        DDoS  Known Pattern B      Ignored   \n",
       "3           15.79  Alert Triggered     Malware  Known Pattern B      Blocked   \n",
       "4            0.52  Alert Triggered        DDoS  Known Pattern B      Blocked   \n",
       "\n",
       "  Severity Level User Information Network Segment Proxy Information  \\\n",
       "0            Low    Reyansh Dugal       Segment A      150.9.97.135   \n",
       "1            Low       Sumer Rana       Segment B     Not Available   \n",
       "2            Low     Himmat Karpe       Segment C    114.133.48.179   \n",
       "3         Medium       Fateh Kibe       Segment B     Not Available   \n",
       "4            Low     Dhanush Chad       Segment C     149.6.110.119   \n",
       "\n",
       "   Firewall Logs IDS/IPS Alerts Log Source      Country  Valid Source IP  \\\n",
       "0       Log Data  Not Available     Server      Germany             True   \n",
       "1       Log Data  Not Available   Firewall      Germany             True   \n",
       "2       Log Data     Alert Data   Firewall        Spain             True   \n",
       "3  Not Available     Alert Data   Firewall  Netherlands             True   \n",
       "4  Not Available     Alert Data   Firewall      Belgium             True   \n",
       "\n",
       "   Valid Destination IP  Day  Hour of Day  Month  Year  Browser  \\\n",
       "0                  True   30            6      5  2023     MSIE   \n",
       "1                  True   26            7      8  2020     MSIE   \n",
       "2                  True   13            8     11  2022     MSIE   \n",
       "3                  True    2           10      7  2023  Firefox   \n",
       "4                  True   16           13      7  2023     MSIE   \n",
       "\n",
       "  Operating System Device Type  \n",
       "0          Windows     Desktop  \n",
       "1          Windows     Desktop  \n",
       "2          Windows     Desktop  \n",
       "3         Mac OS X     Desktop  \n",
       "4          Windows     Desktop  "
      ]
     },
     "execution_count": 602,
     "metadata": {},
     "output_type": "execute_result"
    }
   ],
   "source": [
    "df_ind.head()"
   ]
  },
  {
   "cell_type": "markdown",
   "id": "2ffb394a-a3c6-4df2-b048-d4003da7eb94",
   "metadata": {},
   "source": [
    "## Cyber Attacks on Companies"
   ]
  },
  {
   "cell_type": "code",
   "execution_count": 603,
   "id": "14a55e6f-bcb4-4640-85e9-56efa9885348",
   "metadata": {},
   "outputs": [
    {
     "data": {
      "text/plain": [
       "Incident ID                        0\n",
       "Company Name                       0\n",
       "Industry                           0\n",
       "Attack Type                        0\n",
       "Date of Incident                   0\n",
       "Breach Size (No. of Records)    6005\n",
       "Financial Loss (USD)               0\n",
       "Country                            0\n",
       "Attack Vector                      0\n",
       "Mitigation Time (Days)             0\n",
       "dtype: int64"
      ]
     },
     "execution_count": 603,
     "metadata": {},
     "output_type": "execute_result"
    }
   ],
   "source": [
    "# 1. Checking for missing values\n",
    "missing_values = df_comp.isnull().sum()\n",
    "missing_values"
   ]
  },
  {
   "cell_type": "code",
   "execution_count": 604,
   "id": "7b3e1f54-b0c8-48c1-b641-b6f5530f9899",
   "metadata": {},
   "outputs": [
    {
     "data": {
      "text/html": [
       "<div>\n",
       "<style scoped>\n",
       "    .dataframe tbody tr th:only-of-type {\n",
       "        vertical-align: middle;\n",
       "    }\n",
       "\n",
       "    .dataframe tbody tr th {\n",
       "        vertical-align: top;\n",
       "    }\n",
       "\n",
       "    .dataframe thead th {\n",
       "        text-align: right;\n",
       "    }\n",
       "</style>\n",
       "<table border=\"1\" class=\"dataframe\">\n",
       "  <thead>\n",
       "    <tr style=\"text-align: right;\">\n",
       "      <th></th>\n",
       "      <th>Incident ID</th>\n",
       "      <th>Company Name</th>\n",
       "      <th>Industry</th>\n",
       "      <th>Attack Type</th>\n",
       "      <th>Date of Incident</th>\n",
       "      <th>Breach Size (No. of Records)</th>\n",
       "      <th>Financial Loss (USD)</th>\n",
       "      <th>Country</th>\n",
       "      <th>Attack Vector</th>\n",
       "      <th>Mitigation Time (Days)</th>\n",
       "    </tr>\n",
       "  </thead>\n",
       "  <tbody>\n",
       "    <tr>\n",
       "      <th>0</th>\n",
       "      <td>1</td>\n",
       "      <td>White Inc</td>\n",
       "      <td>Retail</td>\n",
       "      <td>Ransomware</td>\n",
       "      <td>2018-08-27</td>\n",
       "      <td>6525846.0</td>\n",
       "      <td>506815.46</td>\n",
       "      <td>Italy</td>\n",
       "      <td>DDoS Attack</td>\n",
       "      <td>25</td>\n",
       "    </tr>\n",
       "    <tr>\n",
       "      <th>1</th>\n",
       "      <td>2</td>\n",
       "      <td>Vasquez PLC</td>\n",
       "      <td>Telecommunications</td>\n",
       "      <td>Ransomware</td>\n",
       "      <td>2018-05-24</td>\n",
       "      <td>9114896.0</td>\n",
       "      <td>1668001.94</td>\n",
       "      <td>Netherlands</td>\n",
       "      <td>Compromised Vendor</td>\n",
       "      <td>29</td>\n",
       "    </tr>\n",
       "    <tr>\n",
       "      <th>2</th>\n",
       "      <td>3</td>\n",
       "      <td>Gardner LLC</td>\n",
       "      <td>Retail</td>\n",
       "      <td>Supply Chain Attack</td>\n",
       "      <td>2018-07-04</td>\n",
       "      <td>3412886.0</td>\n",
       "      <td>4073566.14</td>\n",
       "      <td>Belgium</td>\n",
       "      <td>Compromised Vendor</td>\n",
       "      <td>22</td>\n",
       "    </tr>\n",
       "    <tr>\n",
       "      <th>3</th>\n",
       "      <td>4</td>\n",
       "      <td>Pena-Kirk</td>\n",
       "      <td>Manufacturing</td>\n",
       "      <td>Ransomware</td>\n",
       "      <td>2018-02-05</td>\n",
       "      <td>5829814.0</td>\n",
       "      <td>3211005.93</td>\n",
       "      <td>Belgium</td>\n",
       "      <td>Compromised Vendor</td>\n",
       "      <td>60</td>\n",
       "    </tr>\n",
       "    <tr>\n",
       "      <th>4</th>\n",
       "      <td>5</td>\n",
       "      <td>Garcia, Butler and Kennedy</td>\n",
       "      <td>Healthcare</td>\n",
       "      <td>Ransomware</td>\n",
       "      <td>2019-04-05</td>\n",
       "      <td>9996201.0</td>\n",
       "      <td>4033042.07</td>\n",
       "      <td>UK</td>\n",
       "      <td>Compromised Vendor</td>\n",
       "      <td>59</td>\n",
       "    </tr>\n",
       "  </tbody>\n",
       "</table>\n",
       "</div>"
      ],
      "text/plain": [
       "   Incident ID                Company Name            Industry  \\\n",
       "0            1                   White Inc              Retail   \n",
       "1            2                 Vasquez PLC  Telecommunications   \n",
       "2            3                 Gardner LLC              Retail   \n",
       "3            4                   Pena-Kirk       Manufacturing   \n",
       "4            5  Garcia, Butler and Kennedy          Healthcare   \n",
       "\n",
       "           Attack Type Date of Incident  Breach Size (No. of Records)  \\\n",
       "0           Ransomware       2018-08-27                     6525846.0   \n",
       "1           Ransomware       2018-05-24                     9114896.0   \n",
       "2  Supply Chain Attack       2018-07-04                     3412886.0   \n",
       "3           Ransomware       2018-02-05                     5829814.0   \n",
       "4           Ransomware       2019-04-05                     9996201.0   \n",
       "\n",
       "   Financial Loss (USD)      Country       Attack Vector  \\\n",
       "0             506815.46        Italy         DDoS Attack   \n",
       "1            1668001.94  Netherlands  Compromised Vendor   \n",
       "2            4073566.14      Belgium  Compromised Vendor   \n",
       "3            3211005.93      Belgium  Compromised Vendor   \n",
       "4            4033042.07           UK  Compromised Vendor   \n",
       "\n",
       "   Mitigation Time (Days)  \n",
       "0                      25  \n",
       "1                      29  \n",
       "2                      22  \n",
       "3                      60  \n",
       "4                      59  "
      ]
     },
     "execution_count": 604,
     "metadata": {},
     "output_type": "execute_result"
    }
   ],
   "source": [
    "df_comp.head()"
   ]
  },
  {
   "cell_type": "code",
   "execution_count": 605,
   "id": "2409fecc-3f19-41f5-be3a-b10df02314e7",
   "metadata": {},
   "outputs": [],
   "source": [
    "# 2. Ensuring correct data types (e.g., 'Date of Incident' to datetime, numeric columns for breach size and financial loss)\n",
    "df_comp['Date of Incident'] = pd.to_datetime(df_comp['Date of Incident'])\n",
    "df_comp['Breach Size (No. of Records)'] = pd.to_numeric(df_comp['Breach Size (No. of Records)'])\n",
    "df_comp['Financial Loss (USD)'] = pd.to_numeric(df_comp['Financial Loss (USD)'])\n",
    "df_comp['Mitigation Time (Days)'] = pd.to_numeric(df_comp['Mitigation Time (Days)'])\n"
   ]
  },
  {
   "cell_type": "code",
   "execution_count": 606,
   "id": "ce9adb48-c7cf-438d-8d25-ec231814a1fe",
   "metadata": {},
   "outputs": [],
   "source": [
    "# 3. Standardizing text data (Company Name, Country, and Industry columns)\n",
    "df_comp['Company Name'] = df_comp['Company Name'].str.title().str.strip()\n",
    "df_comp['Industry'] = df_comp['Industry'].str.title().str.strip()\n",
    "df_comp['Country'] = df_comp['Country'].str.title().str.strip()\n"
   ]
  },
  {
   "cell_type": "code",
   "execution_count": 607,
   "id": "56a7460f-fb08-4c10-9e68-bf58deac36ac",
   "metadata": {},
   "outputs": [],
   "source": [
    "# 4. Removing duplicates\n",
    "df_comp = df_comp.drop_duplicates()"
   ]
  },
  {
   "cell_type": "code",
   "execution_count": 608,
   "id": "29bad613-3105-4c0f-8f93-5e4436621da8",
   "metadata": {},
   "outputs": [
    {
     "name": "stderr",
     "output_type": "stream",
     "text": [
      "C:\\Users\\JasonGreich\\AppData\\Local\\Temp\\ipykernel_9944\\381758125.py:3: FutureWarning: A value is trying to be set on a copy of a DataFrame or Series through chained assignment using an inplace method.\n",
      "The behavior will change in pandas 3.0. This inplace method will never work because the intermediate object on which we are setting values always behaves as a copy.\n",
      "\n",
      "For example, when doing 'df[col].method(value, inplace=True)', try using 'df.method({col: value}, inplace=True)' or df[col] = df[col].method(value) instead, to perform the operation inplace on the original object.\n",
      "\n",
      "\n",
      "  df_comp['Breach Size (No. of Records)'].fillna(median_breach_size, inplace=True)\n"
     ]
    }
   ],
   "source": [
    "# 5. Handling missing values for 'Breach Size (No. of Records)'\n",
    "median_breach_size = df_comp['Breach Size (No. of Records)'].median()\n",
    "df_comp['Breach Size (No. of Records)'].fillna(median_breach_size, inplace=True)"
   ]
  },
  {
   "cell_type": "code",
   "execution_count": 609,
   "id": "175043eb-d290-406d-9774-8626c01e090a",
   "metadata": {},
   "outputs": [],
   "source": [
    "# 6. Creating new columns for year, month, and day from 'Date of Incident'\n",
    "df_comp['Year'] = df_comp['Date of Incident'].dt.year\n",
    "df_comp['Month'] = df_comp['Date of Incident'].dt.month\n",
    "df_comp['Day'] = df_comp['Date of Incident'].dt.day\n"
   ]
  },
  {
   "cell_type": "code",
   "execution_count": 610,
   "id": "2e7eafd3-b4ab-44de-bbf5-7ceb4d072fed",
   "metadata": {},
   "outputs": [
    {
     "data": {
      "text/html": [
       "<div>\n",
       "<style scoped>\n",
       "    .dataframe tbody tr th:only-of-type {\n",
       "        vertical-align: middle;\n",
       "    }\n",
       "\n",
       "    .dataframe tbody tr th {\n",
       "        vertical-align: top;\n",
       "    }\n",
       "\n",
       "    .dataframe thead th {\n",
       "        text-align: right;\n",
       "    }\n",
       "</style>\n",
       "<table border=\"1\" class=\"dataframe\">\n",
       "  <thead>\n",
       "    <tr style=\"text-align: right;\">\n",
       "      <th></th>\n",
       "      <th>Incident ID</th>\n",
       "      <th>Company Name</th>\n",
       "      <th>Industry</th>\n",
       "      <th>Attack Type</th>\n",
       "      <th>Date of Incident</th>\n",
       "      <th>Breach Size (No. of Records)</th>\n",
       "      <th>Financial Loss (USD)</th>\n",
       "      <th>Country</th>\n",
       "      <th>Attack Vector</th>\n",
       "      <th>Mitigation Time (Days)</th>\n",
       "      <th>Year</th>\n",
       "      <th>Month</th>\n",
       "      <th>Day</th>\n",
       "    </tr>\n",
       "  </thead>\n",
       "  <tbody>\n",
       "    <tr>\n",
       "      <th>0</th>\n",
       "      <td>1</td>\n",
       "      <td>White Inc</td>\n",
       "      <td>Retail</td>\n",
       "      <td>Ransomware</td>\n",
       "      <td>2018-08-27</td>\n",
       "      <td>6525846.0</td>\n",
       "      <td>506815.46</td>\n",
       "      <td>Italy</td>\n",
       "      <td>DDoS Attack</td>\n",
       "      <td>25</td>\n",
       "      <td>2018</td>\n",
       "      <td>8</td>\n",
       "      <td>27</td>\n",
       "    </tr>\n",
       "    <tr>\n",
       "      <th>1</th>\n",
       "      <td>2</td>\n",
       "      <td>Vasquez Plc</td>\n",
       "      <td>Telecommunications</td>\n",
       "      <td>Ransomware</td>\n",
       "      <td>2018-05-24</td>\n",
       "      <td>9114896.0</td>\n",
       "      <td>1668001.94</td>\n",
       "      <td>Netherlands</td>\n",
       "      <td>Compromised Vendor</td>\n",
       "      <td>29</td>\n",
       "      <td>2018</td>\n",
       "      <td>5</td>\n",
       "      <td>24</td>\n",
       "    </tr>\n",
       "    <tr>\n",
       "      <th>2</th>\n",
       "      <td>3</td>\n",
       "      <td>Gardner Llc</td>\n",
       "      <td>Retail</td>\n",
       "      <td>Supply Chain Attack</td>\n",
       "      <td>2018-07-04</td>\n",
       "      <td>3412886.0</td>\n",
       "      <td>4073566.14</td>\n",
       "      <td>Belgium</td>\n",
       "      <td>Compromised Vendor</td>\n",
       "      <td>22</td>\n",
       "      <td>2018</td>\n",
       "      <td>7</td>\n",
       "      <td>4</td>\n",
       "    </tr>\n",
       "    <tr>\n",
       "      <th>3</th>\n",
       "      <td>4</td>\n",
       "      <td>Pena-Kirk</td>\n",
       "      <td>Manufacturing</td>\n",
       "      <td>Ransomware</td>\n",
       "      <td>2018-02-05</td>\n",
       "      <td>5829814.0</td>\n",
       "      <td>3211005.93</td>\n",
       "      <td>Belgium</td>\n",
       "      <td>Compromised Vendor</td>\n",
       "      <td>60</td>\n",
       "      <td>2018</td>\n",
       "      <td>2</td>\n",
       "      <td>5</td>\n",
       "    </tr>\n",
       "    <tr>\n",
       "      <th>4</th>\n",
       "      <td>5</td>\n",
       "      <td>Garcia, Butler And Kennedy</td>\n",
       "      <td>Healthcare</td>\n",
       "      <td>Ransomware</td>\n",
       "      <td>2019-04-05</td>\n",
       "      <td>9996201.0</td>\n",
       "      <td>4033042.07</td>\n",
       "      <td>Uk</td>\n",
       "      <td>Compromised Vendor</td>\n",
       "      <td>59</td>\n",
       "      <td>2019</td>\n",
       "      <td>4</td>\n",
       "      <td>5</td>\n",
       "    </tr>\n",
       "  </tbody>\n",
       "</table>\n",
       "</div>"
      ],
      "text/plain": [
       "   Incident ID                Company Name            Industry  \\\n",
       "0            1                   White Inc              Retail   \n",
       "1            2                 Vasquez Plc  Telecommunications   \n",
       "2            3                 Gardner Llc              Retail   \n",
       "3            4                   Pena-Kirk       Manufacturing   \n",
       "4            5  Garcia, Butler And Kennedy          Healthcare   \n",
       "\n",
       "           Attack Type Date of Incident  Breach Size (No. of Records)  \\\n",
       "0           Ransomware       2018-08-27                     6525846.0   \n",
       "1           Ransomware       2018-05-24                     9114896.0   \n",
       "2  Supply Chain Attack       2018-07-04                     3412886.0   \n",
       "3           Ransomware       2018-02-05                     5829814.0   \n",
       "4           Ransomware       2019-04-05                     9996201.0   \n",
       "\n",
       "   Financial Loss (USD)      Country       Attack Vector  \\\n",
       "0             506815.46        Italy         DDoS Attack   \n",
       "1            1668001.94  Netherlands  Compromised Vendor   \n",
       "2            4073566.14      Belgium  Compromised Vendor   \n",
       "3            3211005.93      Belgium  Compromised Vendor   \n",
       "4            4033042.07           Uk  Compromised Vendor   \n",
       "\n",
       "   Mitigation Time (Days)  Year  Month  Day  \n",
       "0                      25  2018      8   27  \n",
       "1                      29  2018      5   24  \n",
       "2                      22  2018      7    4  \n",
       "3                      60  2018      2    5  \n",
       "4                      59  2019      4    5  "
      ]
     },
     "execution_count": 610,
     "metadata": {},
     "output_type": "execute_result"
    }
   ],
   "source": [
    "# Display the cleaned data\n",
    "df_comp.head()"
   ]
  },
  {
   "cell_type": "markdown",
   "id": "5063422c-b052-42f0-83b5-d3ec23114824",
   "metadata": {},
   "source": [
    "# Active Users"
   ]
  },
  {
   "cell_type": "code",
   "execution_count": 611,
   "id": "4ef03ef1-48de-458e-87e6-72df9d31280d",
   "metadata": {},
   "outputs": [],
   "source": [
    "# Convert the 'Date' column to datetime format\n",
    "df_users['Date'] = pd.to_datetime(df_users['Date'])"
   ]
  },
  {
   "cell_type": "code",
   "execution_count": 612,
   "id": "d847c510-06fc-46b1-b421-a0fd32518414",
   "metadata": {},
   "outputs": [],
   "source": [
    "# Create new columns for year, month, and day\n",
    "df_users['Year'] = df_users['Date'].dt.year\n",
    "df_users['Month'] = df_users['Date'].dt.month\n",
    "df_users['Day'] = df_users['Date'].dt.day"
   ]
  },
  {
   "cell_type": "code",
   "execution_count": 613,
   "id": "5d4c66f9-9798-4e53-98f5-55d1afa4f7ef",
   "metadata": {},
   "outputs": [
    {
     "data": {
      "text/html": [
       "<div>\n",
       "<style scoped>\n",
       "    .dataframe tbody tr th:only-of-type {\n",
       "        vertical-align: middle;\n",
       "    }\n",
       "\n",
       "    .dataframe tbody tr th {\n",
       "        vertical-align: top;\n",
       "    }\n",
       "\n",
       "    .dataframe thead th {\n",
       "        text-align: right;\n",
       "    }\n",
       "</style>\n",
       "<table border=\"1\" class=\"dataframe\">\n",
       "  <thead>\n",
       "    <tr style=\"text-align: right;\">\n",
       "      <th></th>\n",
       "      <th>Date</th>\n",
       "      <th>Active Online Users</th>\n",
       "      <th>Year</th>\n",
       "      <th>Month</th>\n",
       "      <th>Day</th>\n",
       "    </tr>\n",
       "  </thead>\n",
       "  <tbody>\n",
       "    <tr>\n",
       "      <th>0</th>\n",
       "      <td>2018-01-01</td>\n",
       "      <td>412000000</td>\n",
       "      <td>2018</td>\n",
       "      <td>1</td>\n",
       "      <td>1</td>\n",
       "    </tr>\n",
       "    <tr>\n",
       "      <th>1</th>\n",
       "      <td>2018-01-02</td>\n",
       "      <td>413653325</td>\n",
       "      <td>2018</td>\n",
       "      <td>1</td>\n",
       "      <td>2</td>\n",
       "    </tr>\n",
       "    <tr>\n",
       "      <th>2</th>\n",
       "      <td>2018-01-03</td>\n",
       "      <td>412789947</td>\n",
       "      <td>2018</td>\n",
       "      <td>1</td>\n",
       "      <td>3</td>\n",
       "    </tr>\n",
       "    <tr>\n",
       "      <th>3</th>\n",
       "      <td>2018-01-04</td>\n",
       "      <td>413882307</td>\n",
       "      <td>2018</td>\n",
       "      <td>1</td>\n",
       "      <td>4</td>\n",
       "    </tr>\n",
       "    <tr>\n",
       "      <th>4</th>\n",
       "      <td>2018-01-05</td>\n",
       "      <td>412000000</td>\n",
       "      <td>2018</td>\n",
       "      <td>1</td>\n",
       "      <td>5</td>\n",
       "    </tr>\n",
       "  </tbody>\n",
       "</table>\n",
       "</div>"
      ],
      "text/plain": [
       "        Date  Active Online Users  Year  Month  Day\n",
       "0 2018-01-01            412000000  2018      1    1\n",
       "1 2018-01-02            413653325  2018      1    2\n",
       "2 2018-01-03            412789947  2018      1    3\n",
       "3 2018-01-04            413882307  2018      1    4\n",
       "4 2018-01-05            412000000  2018      1    5"
      ]
     },
     "execution_count": 613,
     "metadata": {},
     "output_type": "execute_result"
    }
   ],
   "source": [
    "df_users.head()"
   ]
  },
  {
   "cell_type": "markdown",
   "id": "28b7779b-584d-4732-a1da-72b034968ec3",
   "metadata": {},
   "source": [
    "## Changing Columns Names"
   ]
  },
  {
   "cell_type": "code",
   "execution_count": 614,
   "id": "69b64ef6-18b4-4f03-be27-e1544e4d5d7c",
   "metadata": {},
   "outputs": [],
   "source": [
    "# Rename for individuals dataset\n",
    "individuals_rename_mapping = {\n",
    "    'Unnamed: 0': 'ID',\n",
    "    'Timestamp': 'Timestamp',\n",
    "    'Source IP Address': 'Source_IP_Address',\n",
    "    'Destination IP Address': 'Destination_IP_Address',\n",
    "    'Source Port': 'Source_Port',\n",
    "    'Destination Port': 'Destination_Port',\n",
    "    'Protocol': 'Protocol',\n",
    "    'Packet Length': 'Packet_Length',\n",
    "    'Packet Type': 'Packet_Type',\n",
    "    'Traffic Type': 'Traffic_Type',\n",
    "    'Payload Data': 'Payload_Data',\n",
    "    'Malware Indicators': 'Malware_Indicators',\n",
    "    'Anomaly Scores': 'Anomaly_Scores',\n",
    "    'Alerts/Warnings': 'Alerts_Warnings',\n",
    "    'Attack Type': 'Attack_Type',\n",
    "    'Attack Signature': 'Attack_Signature',\n",
    "    'Action Taken': 'Action_Taken',\n",
    "    'Severity Level': 'Severity_Level',\n",
    "    'User Information': 'User_Information',\n",
    "    'Network Segment': 'Network_Segment',\n",
    "    'Proxy Information': 'Proxy_Information',\n",
    "    'Firewall Logs': 'Firewall_Logs',\n",
    "    'IDS/IPS Alerts': 'IDS_IPS_Alerts',\n",
    "    'Log Source': 'Log_Source',\n",
    "    'Country': 'Country',\n",
    "    'Valid Source IP': 'Valid_Source_IP',\n",
    "    'Valid Destination IP': 'Valid_Destination_IP',\n",
    "    'Day': 'Day',\n",
    "    'Hour of Day': 'Hour_of_Day',\n",
    "    'Month': 'Month',\n",
    "    'Year': 'Year',\n",
    "    'Browser': 'Browser',\n",
    "    'Operating System': 'Operating_System',\n",
    "    'Device Type': 'Device_Type'\n",
    "}\n",
    "\n",
    "# Rename for companies dataset\n",
    "companies_rename_mapping = {\n",
    "    'Unnamed: 0': 'ID',\n",
    "    'Incident ID': 'Incident_ID',\n",
    "    'Company Name': 'Company_Name',\n",
    "    'Industry': 'Industry',\n",
    "    'Attack Type': 'Attack_Type',\n",
    "    'Date of Incident': 'Date_of_Incident',\n",
    "    'Breach Size (No. of Records)': 'Breach_Size',\n",
    "    'Financial Loss (USD)': 'Financial_Loss',\n",
    "    'Country': 'Country',\n",
    "    'Attack Vector': 'Attack_Vector',\n",
    "    'Mitigation Time (Days)': 'Mitigation_Time',\n",
    "    'Year': 'Year',\n",
    "    'Month': 'Month',\n",
    "    'Day': 'Day'\n",
    "}\n",
    "\n",
    "# Rename for active users dataset\n",
    "active_users_rename_mapping = {\n",
    "    'Unnamed: 0': 'ID',\n",
    "    'Date': 'Date',\n",
    "    'Active Online Users': 'Active_Online_Users',\n",
    "    'Year': 'Year',\n",
    "    'Month': 'Month',\n",
    "    'Day': 'Day'\n",
    "}\n",
    "\n",
    "# Apply renaming\n",
    "df_ind.rename(columns=individuals_rename_mapping, inplace=True)\n",
    "df_comp.rename(columns=companies_rename_mapping, inplace=True)\n",
    "df_users.rename(columns=active_users_rename_mapping, inplace=True)\n",
    "\n",
    "# Save the updated files\n",
    "df_ind.to_csv('./Transformed_Data/individuals_cyber_attacks_europe.csv', index=False)\n",
    "df_comp.to_csv('./Transformed_Data/companies_cyber_attacks_europe.csv', index=False)\n",
    "df_users.to_csv('./Transformed_Data/active_online_users_europe_2018_2023.csv', index=False)"
   ]
  },
  {
   "cell_type": "markdown",
   "id": "df9de28f-4b2c-4eda-8a71-acd56b462c18",
   "metadata": {},
   "source": [
    "# Loading "
   ]
  },
  {
   "cell_type": "markdown",
   "id": "59211f22-c4ed-4ada-8286-5ba7a4301b28",
   "metadata": {},
   "source": [
    "## Loading to transfomation DB"
   ]
  },
  {
   "cell_type": "code",
   "execution_count": 616,
   "id": "02644c77-67cf-4b4e-b9e1-9cf9a2c06646",
   "metadata": {},
   "outputs": [
    {
     "name": "stdout",
     "output_type": "stream",
     "text": [
      "Data imported successfully to table 'companies_cyber_attacks' in database 'transformed_cyber_staging'\n"
     ]
    }
   ],
   "source": [
    "# Database connection details\n",
    "db_user = 'root'  # Replace with your MySQL username\n",
    "db_password = 'root'  # Replace with your MySQL password\n",
    "db_host = 'localhost'  # Or your database server hostname\n",
    "db_name = 'transformed_cyber_staging'  # Replace with your database name\n",
    "table_name = 'companies_cyber_attacks'  # Replace with your desired table name\n",
    "\n",
    "# Create the database engine\n",
    "engine = create_engine(f'mysql+pymysql://{db_user}:{db_password}@{db_host}/{db_name}')\n",
    "\n",
    "# Write the DataFrame to the MySQL table\n",
    "df_comp.to_sql(table_name, con=engine, if_exists='replace', index=False)\n",
    "\n",
    "print(f\"Data imported successfully to table '{table_name}' in database '{db_name}'\")"
   ]
  },
  {
   "cell_type": "code",
   "execution_count": 617,
   "id": "803acc9e-03ec-4939-a454-254a7afebd3b",
   "metadata": {},
   "outputs": [
    {
     "name": "stdout",
     "output_type": "stream",
     "text": [
      "Data imported successfully to table 'individual_cyber_attacks' in database 'transformed_cyber_staging'\n"
     ]
    }
   ],
   "source": [
    "# Database connection details\n",
    "db_user = 'root'  # Replace with your MySQL username\n",
    "db_password = 'root'  # Replace with your MySQL password\n",
    "db_host = 'localhost'  # Or your database server hostname\n",
    "db_name = 'transformed_cyber_staging'  # Replace with your database name\n",
    "table_name = 'individual_cyber_attacks'  # Replace with your desired table name\n",
    "\n",
    "# Create the database engine\n",
    "engine = create_engine(f'mysql+pymysql://{db_user}:{db_password}@{db_host}/{db_name}')\n",
    "\n",
    "# Write the DataFrame to the MySQL table\n",
    "df_ind.to_sql(table_name, con=engine, if_exists='replace', index=False)\n",
    "\n",
    "print(f\"Data imported successfully to table '{table_name}' in database '{db_name}'\")"
   ]
  },
  {
   "cell_type": "code",
   "execution_count": 618,
   "id": "5684df35-8e4d-4f37-8739-8380846f8065",
   "metadata": {},
   "outputs": [
    {
     "name": "stdout",
     "output_type": "stream",
     "text": [
      "Data imported successfully to table 'active_online_users' in database 'transformed_cyber_staging'\n"
     ]
    }
   ],
   "source": [
    "# Database connection details\n",
    "db_user = 'root'  # Replace with your MySQL username\n",
    "db_password = 'root'  # Replace with your MySQL password\n",
    "db_host = 'localhost'  # Or your database server hostname\n",
    "db_name = 'transformed_cyber_staging'  # Replace with your database name\n",
    "table_name = 'active_online_users'  # Replace with your desired table name\n",
    "\n",
    "# Create the database engine\n",
    "engine = create_engine(f'mysql+pymysql://{db_user}:{db_password}@{db_host}/{db_name}')\n",
    "\n",
    "# Write the DataFrame to the MySQL table\n",
    "df_users.to_sql(table_name, con=engine, if_exists='replace', index=False)\n",
    "\n",
    "print(f\"Data imported successfully to table '{table_name}' in database '{db_name}'\")"
   ]
  },
  {
   "cell_type": "markdown",
   "id": "585f6163-c151-4444-9ad8-3c44f08b4ee9",
   "metadata": {
    "jp-MarkdownHeadingCollapsed": true
   },
   "source": [
    "## Loading To warehouse"
   ]
  },
  {
   "cell_type": "code",
   "execution_count": null,
   "id": "fdbb2eb9-88a3-4c9d-92bf-88030e8fe0ae",
   "metadata": {},
   "outputs": [],
   "source": [
    "# Example assuming 'Timestamp' column exists in both dataframes\n",
    "df_date = pd.concat([df_ind['Timestamp'], df_comp['Date_of_Incident'], df_users['Date']]).drop_duplicates()\n",
    "\n",
    "\n",
    "# Convert to datetime\n",
    "df_date = pd.to_datetime(df_date)\n",
    "\n",
    "# Create DateDimension table\n",
    "df_date_dimension = pd.DataFrame({\n",
    "    'Day': df_date.dt.day,\n",
    "    'Month': df_date.dt.month,\n",
    "    'Year': df_date.dt.year,\n",
    "})\n",
    "df_date_dimension.sort_values(by=['Year', 'Month', 'Day'], inplace=True)\n",
    "df_date_dimension.reset_index(drop=True, inplace=True)\n",
    "df_date_dimension['DateID'] = df_date_dimension.index + 1"
   ]
  },
  {
   "cell_type": "code",
   "execution_count": null,
   "id": "045c0a57-8b0d-43e0-8554-83ec0f67c5e2",
   "metadata": {},
   "outputs": [],
   "source": [
    "# Combine countries from individual and company dataframes and drop duplicates\n",
    "df_country = pd.concat([df_ind['Country'], df_comp['Country']]).drop_duplicates()\n",
    "\n",
    "# Create CountryDimension table\n",
    "df_country_dimension = pd.DataFrame({\n",
    "    'Country': df_country\n",
    "})\n",
    "df_country_dimension.reset_index(drop=True, inplace=True)\n",
    "df_country_dimension['CountryID'] = df_country_dimension.index + 1\n"
   ]
  },
  {
   "cell_type": "code",
   "execution_count": null,
   "id": "dcd1def4-d171-4d67-ac28-33dc2d373e54",
   "metadata": {},
   "outputs": [],
   "source": [
    "# Extract IP-related columns from df_ind and drop duplicates\n",
    "df_detailed_location_dimension = df_ind[['Source_IP_Address', 'Destination_IP_Address', 'Valid_Source_IP', 'Valid_Destination_IP']].drop_duplicates()\n",
    "\n",
    "\n",
    "df_detailed_location_dimension['DetailedGeoLocationID'] = df_detailed_location_dimension.index + 1"
   ]
  },
  {
   "cell_type": "code",
   "execution_count": null,
   "id": "e6948424-be63-42df-a8ae-ced4715d6bdf",
   "metadata": {},
   "outputs": [],
   "source": [
    "# Extract network traffic columns from df_ind and drop duplicates\n",
    "df_network_traffic_dimension = df_ind[['Source_Port', 'Destination_Port', 'Protocol', 'Packet_Length', 'Packet_Type', 'Traffic_Type', 'Network_Segment']].drop_duplicates()\n",
    "\n",
    "\n",
    "df_network_traffic_dimension['NetworkTrafficID'] = df_network_traffic_dimension.index + 1"
   ]
  },
  {
   "cell_type": "code",
   "execution_count": null,
   "id": "0a3e8b2e-3413-43f1-87a7-619a3e19b4bc",
   "metadata": {},
   "outputs": [],
   "source": [
    "# Extract company-related columns from df_comp and drop duplicates\n",
    "df_company_dimension = df_comp[['Company_Name', 'Industry']].drop_duplicates()\n",
    "\n",
    "df_company_dimension['CompanyID'] = df_company_dimension.index + 1"
   ]
  },
  {
   "cell_type": "code",
   "execution_count": null,
   "id": "54adaa14-813c-46ec-88e8-7e12f57cff5a",
   "metadata": {},
   "outputs": [],
   "source": [
    "# Extract device-related columns from df_ind and drop duplicates\n",
    "df_device_dimension = df_ind[['Browser', 'Operating_System', 'Device_Type']].drop_duplicates()\n",
    "\n",
    "\n",
    "df_device_dimension['DeviceID'] = df_device_dimension.index + 1"
   ]
  },
  {
   "cell_type": "code",
   "execution_count": null,
   "id": "858ddf8f-a24c-4487-9fef-92acb38fbda7",
   "metadata": {},
   "outputs": [],
   "source": [
    "df_ind.rename(columns={'IDS/IPS_Alerts': 'IDS_IPS_Alerts'}, inplace=True)\n",
    "df_ind.rename(columns={'Alerts/Warnings': 'Alerts_Warnings'}, inplace=True)\n",
    "\n",
    "df_individual_facts = df_ind[['Browser', 'Operating_System', 'Device_Type','Source_Port', 'Destination_Port', 'Protocol', 'Packet_Length', 'Packet_Type', 'Traffic_Type', 'Network_Segment','Source_IP_Address', 'Destination_IP_Address','Country','Attack_Type', 'Payload_Data', 'Malware_Indicators', 'Anomaly_Scores', 'Severity_Level', 'Alerts_Warnings', 'Attack_Signature', 'Action_Taken', 'User_Information', 'Proxy_Information', 'Firewall_Logs', 'IDS_IPS_Alerts', 'Log_Source']]\n"
   ]
  },
  {
   "cell_type": "code",
   "execution_count": null,
   "id": "52182bfd-f200-4ddc-90ea-451f3dc0130a",
   "metadata": {},
   "outputs": [],
   "source": [
    "df_comp.rename(columns={'Breach_Size_(No._of_Records)': 'Breach_Size_No_of_Records'}, inplace=True)\n",
    "df_comp.rename(columns={'Mitigation_Time_(Days)': 'Mitigation_Time_Days'}, inplace=True)\n",
    "df_comp.rename(columns={'Financial_Loss_(USD)': 'Financial_Loss_USD'}, inplace=True)\n",
    "\n",
    "df_company_facts = df_comp[['Company_Name', 'Industry','Country','Attack_Type', 'Breach_Size_No_of_Records', 'Attack_Vector', 'Mitigation_Time_Days', 'Financial_Loss_USD']]\n"
   ]
  },
  {
   "cell_type": "code",
   "execution_count": null,
   "id": "89566533-3893-42e6-baa3-be60318b0703",
   "metadata": {},
   "outputs": [],
   "source": [
    "df_active_users_facts = df_users[['Active_Online_Users']]\n"
   ]
  },
  {
   "cell_type": "code",
   "execution_count": null,
   "id": "a5bccda6-8b81-4984-947b-52a03831a3b9",
   "metadata": {},
   "outputs": [],
   "source": [
    "# Merge DateID into the individual facts\n",
    "df_individual_facts = pd.merge(df_individual_facts, df_date_dimension, how='left', \n",
    "                               left_on=pd.to_datetime(df_ind['Timestamp']).dt.date,\n",
    "                               right_on=pd.to_datetime(df_date_dimension[['Year', 'Month', 'Day']]).dt.date)\n",
    "\n",
    "df_individual_facts['DateID'] = df_individual_facts['DateID']\n",
    "\n",
    "# Merge DateID into the company facts\n",
    "df_company_facts = pd.merge(df_company_facts, df_date_dimension, how='left', \n",
    "                            left_on=pd.to_datetime(df_comp['Date_of_Incident']).dt.date,\n",
    "                            right_on=pd.to_datetime(df_date_dimension[['Year', 'Month', 'Day']]).dt.date)\n",
    "\n",
    "df_company_facts['DateID'] = df_company_facts['DateID']\n",
    "\n",
    "# Merge DateID into the active users facts\n",
    "df_active_users_facts = pd.merge(df_active_users_facts, df_date_dimension, how='left', \n",
    "                                 left_on=pd.to_datetime(df_users['Date']).dt.date,\n",
    "                                 right_on=pd.to_datetime(df_date_dimension[['Year', 'Month', 'Day']]).dt.date)\n",
    "\n",
    "df_active_users_facts['DateID'] = df_active_users_facts['DateID']\n"
   ]
  },
  {
   "cell_type": "code",
   "execution_count": null,
   "id": "dce44f1c-48cd-4301-b4e1-67a33be41f36",
   "metadata": {},
   "outputs": [],
   "source": [
    "print(df_individual_facts.columns)\n",
    "print(df_country_dimension.columns)\n"
   ]
  },
  {
   "cell_type": "code",
   "execution_count": null,
   "id": "7bf8501e-36b7-4e86-8932-cf7f50001b67",
   "metadata": {},
   "outputs": [],
   "source": [
    "# Merge CountryID into the individual facts\n",
    "df_individual_facts = pd.merge(df_individual_facts, df_country_dimension, how='left', \n",
    "                               left_on='Country', right_on='Country')\n",
    "\n",
    "df_individual_facts['CountryID'] = df_individual_facts['CountryID']\n",
    "\n",
    "# Merge CountryID into the company facts\n",
    "df_company_facts = pd.merge(df_company_facts, df_country_dimension, how='left', \n",
    "                            left_on='Country', right_on='Country')\n",
    "\n",
    "df_company_facts['CountryID'] = df_company_facts['CountryID']\n"
   ]
  },
  {
   "cell_type": "code",
   "execution_count": null,
   "id": "02408113-b17d-4fc3-b326-f42d38b93900",
   "metadata": {},
   "outputs": [],
   "source": [
    "# Merge DetailedGeoLocationID into the individual facts\n",
    "df_individual_facts = pd.merge(df_individual_facts, df_detailed_location_dimension, how='left',\n",
    "                               left_on=['Source_IP_Address', 'Destination_IP_Address'], \n",
    "                               right_on=['Source_IP_Address', 'Destination_IP_Address'])\n",
    "\n",
    "df_individual_facts['DetailedGeoLocationID'] = df_individual_facts['DetailedGeoLocationID']\n"
   ]
  },
  {
   "cell_type": "code",
   "execution_count": null,
   "id": "c2d1360d-2a25-44a4-ab8c-f8368354afd6",
   "metadata": {},
   "outputs": [],
   "source": [
    "# Merge NetworkTrafficID into the individual facts\n",
    "df_individual_facts = pd.merge(df_individual_facts, df_network_traffic_dimension, how='left',\n",
    "                               left_on=['Source_Port', 'Destination_Port', 'Protocol', 'Packet_Length', 'Packet_Type', 'Traffic_Type', 'Network_Segment'],\n",
    "                               right_on=['Source_Port', 'Destination_Port', 'Protocol', 'Packet_Length', 'Packet_Type', 'Traffic_Type', 'Network_Segment'])\n",
    "\n",
    "df_individual_facts['NetworkTrafficID'] = df_individual_facts['NetworkTrafficID']\n"
   ]
  },
  {
   "cell_type": "code",
   "execution_count": null,
   "id": "697bf7b6-506b-41bf-aad4-497918b66bed",
   "metadata": {},
   "outputs": [],
   "source": [
    "# Merge DeviceID into the individual facts\n",
    "df_individual_facts = pd.merge(df_individual_facts, df_device_dimension, how='left', \n",
    "                               left_on=['Browser', 'Operating_System', 'Device_Type'], \n",
    "                               right_on=['Browser', 'Operating_System', 'Device_Type'])\n",
    "\n",
    "df_individual_facts['DeviceID'] = df_individual_facts['DeviceID']\n"
   ]
  },
  {
   "cell_type": "code",
   "execution_count": null,
   "id": "70103d33-2885-4b13-a690-23ab55e76494",
   "metadata": {},
   "outputs": [],
   "source": [
    "# Merge CompanyID into the company facts\n",
    "df_company_facts = pd.merge(df_company_facts, df_company_dimension, how='left', \n",
    "                            left_on=['Company_Name', 'Industry'], \n",
    "                            right_on=['Company_Name', 'Industry'])\n",
    "\n",
    "df_company_facts['CompanyID'] = df_company_facts['CompanyID']\n"
   ]
  },
  {
   "cell_type": "code",
   "execution_count": null,
   "id": "ef64bcd9-7528-48c0-b268-61830e29a616",
   "metadata": {},
   "outputs": [],
   "source": [
    "df_individual_facts.drop(columns=['Browser', 'Operating_System', 'Device_Type','Source_Port', 'Destination_Port', 'Protocol', 'Packet_Length', 'Packet_Type', 'Traffic_Type', 'Network_Segment','Source_IP_Address', 'Destination_IP_Address','Country'], inplace=True)\n",
    "df_company_facts.drop(columns=['Company_Name', 'Industry','Country'], inplace=True)"
   ]
  },
  {
   "cell_type": "code",
   "execution_count": null,
   "id": "3a935b44-b1a9-4524-988e-9249a1f31117",
   "metadata": {},
   "outputs": [],
   "source": [
    "# Define your database connection parameters\n",
    "db_user = 'root'  # Replace with your MySQL username\n",
    "db_password = 'root'  # Replace with your MySQL password\n",
    "db_host = 'localhost'  # Or your database server hostname\n",
    "db_name = 'cyber_attacks_warehouse'  # Replace with your database name\n",
    "\n",
    "# Create the connection string\n",
    "connection_string = f'mysql+pymysql://{db_user}:{db_password}@{db_host}/{db_name}'\n",
    "\n",
    "# Create a connection to the database\n",
    "engine = create_engine(connection_string)\n",
    "# Load each dataframe into the respective SQL tables\n",
    "df_date_dimension.to_sql('datedimension', engine, if_exists='append', index=False)\n",
    "\n"
   ]
  },
  {
   "cell_type": "code",
   "execution_count": null,
   "id": "7759558b-06d4-49a3-936a-dea9abe651a6",
   "metadata": {},
   "outputs": [],
   "source": [
    "df_country_dimension.to_sql('countrydimension', engine, if_exists='append', index=False)\n",
    "\n"
   ]
  },
  {
   "cell_type": "code",
   "execution_count": null,
   "id": "9114c8de-23c1-47d8-a027-fabdaf6cacac",
   "metadata": {},
   "outputs": [],
   "source": [
    "df_detailed_location_dimension.to_sql('detailedlocationdimension', engine, if_exists='append', index=False)\n",
    "df_network_traffic_dimension.to_sql('networktrafficdimension', engine, if_exists='append', index=False)\n",
    "df_company_dimension.to_sql('companydimension', engine, if_exists='append', index=False)\n",
    "df_device_dimension.to_sql('devicedimension', engine, if_exists='append', index=False)\n",
    "\n",
    "\n",
    "df_individual_facts.to_sql('individualcyberattacksfact', engine, if_exists='append', index=False)\n",
    "df_company_facts.to_sql('companiescyberattacksfact', engine, if_exists='append', index=False)\n",
    "df_active_users_facts.to_sql('activeonlineusersfact', engine, if_exists='append', index=False)"
   ]
  },
  {
   "cell_type": "code",
   "execution_count": null,
   "id": "d601a795-45eb-44bb-9460-633df6e40512",
   "metadata": {},
   "outputs": [],
   "source": []
  }
 ],
 "metadata": {
  "kernelspec": {
   "display_name": "Python 3 (ipykernel)",
   "language": "python",
   "name": "python3"
  },
  "language_info": {
   "codemirror_mode": {
    "name": "ipython",
    "version": 3
   },
   "file_extension": ".py",
   "mimetype": "text/x-python",
   "name": "python",
   "nbconvert_exporter": "python",
   "pygments_lexer": "ipython3",
   "version": "3.12.4"
  }
 },
 "nbformat": 4,
 "nbformat_minor": 5
}
