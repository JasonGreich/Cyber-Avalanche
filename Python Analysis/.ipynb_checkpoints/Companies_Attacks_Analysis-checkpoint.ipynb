{
 "cells": [
  {
   "cell_type": "markdown",
   "id": "32eab7ab",
   "metadata": {},
   "source": [
    "# Companies Cyber Attack Analysis"
   ]
  },
  {
   "cell_type": "code",
   "execution_count": null,
   "id": "91b6afdd-cf49-4cb3-8047-78c3acb10584",
   "metadata": {},
   "outputs": [],
   "source": [
    "# Cell 1: Distribution of attack types\n",
    "import pandas as pd\n",
    "import matplotlib.pyplot as plt\n",
    "import seaborn as sns\n",
    "\n",
    "# Load the data\n",
    "data = pd.read_csv('../Data Warehousing ETL/Transformed_Data/companies_cyber_attacks_europe.csv')"
   ]
  },
  {
   "cell_type": "code",
   "execution_count": null,
   "id": "387155a3-fbf9-4115-8092-83aa13d290a4",
   "metadata": {},
   "outputs": [],
   "source": [
    "data.columns\n"
   ]
  },
  {
   "cell_type": "markdown",
   "id": "83419e04-a557-4a55-acf5-eb7c03449694",
   "metadata": {},
   "source": [
    "## General Analysis"
   ]
  },
  {
   "cell_type": "code",
   "execution_count": null,
   "id": "e635c019-0274-4f54-b6be-5d6d9c2c8209",
   "metadata": {},
   "outputs": [],
   "source": [
    "# Cell 1: Attacks per year\n",
    "attacks_per_year = data.groupby('Year').size()\n",
    "\n",
    "print(\"Attacks Per Year:\")\n",
    "print(attacks_per_year)\n"
   ]
  },
  {
   "cell_type": "code",
   "execution_count": null,
   "id": "05bc6268-7659-4f24-8180-e4af90042d7c",
   "metadata": {},
   "outputs": [],
   "source": [
    "# Cell 2: Attacks per country\n",
    "attacks_per_country = data.groupby('Country').size()\n",
    "\n",
    "print(\"Attacks Per Country:\")\n",
    "print(attacks_per_country)\n"
   ]
  },
  {
   "cell_type": "code",
   "execution_count": null,
   "id": "f3767c6b-0215-43de-b978-52d18fc1885f",
   "metadata": {},
   "outputs": [],
   "source": [
    "# Cell 3: Attacks per industry\n",
    "attacks_per_industry = data.groupby('Industry').size()\n",
    "\n",
    "print(\"Attacks Per Industry:\")\n",
    "print(attacks_per_industry)\n"
   ]
  },
  {
   "cell_type": "code",
   "execution_count": null,
   "id": "b8089bca-bbbc-482b-bb10-d3c30d7da122",
   "metadata": {},
   "outputs": [],
   "source": [
    "# Cell 4: Attacks per attack type\n",
    "attacks_per_attack_type = data.groupby('Attack_Type').size()\n",
    "\n",
    "print(\"Attacks Per Attack Type:\")\n",
    "print(attacks_per_attack_type)\n"
   ]
  },
  {
   "cell_type": "code",
   "execution_count": null,
   "id": "e949c700-83be-4d1b-8c1b-7e8ca4e28a29",
   "metadata": {},
   "outputs": [],
   "source": [
    "# Cell 5: Financial loss per year\n",
    "financial_loss_per_year = data.groupby('Year')['Financial_Loss'].sum()\n",
    "\n",
    "print(\"Financial Loss Per Year:\")\n",
    "print(financial_loss_per_year)\n"
   ]
  },
  {
   "cell_type": "code",
   "execution_count": null,
   "id": "bdc5f68c-0048-408a-a632-ed9699375318",
   "metadata": {},
   "outputs": [],
   "source": [
    "# Cell 6: Average breach size per industry\n",
    "avg_breach_size_per_industry = data.groupby('Industry')['Breach_Size'].mean()\n",
    "\n",
    "print(\"Average Breach Size Per Industry:\")\n",
    "print(avg_breach_size_per_industry)\n"
   ]
  },
  {
   "cell_type": "code",
   "execution_count": null,
   "id": "7665c2dc-7ab5-407f-8ac9-5dc35eab2bb0",
   "metadata": {},
   "outputs": [],
   "source": [
    "# Cell 7: Average mitigation time per attack type\n",
    "avg_mitigation_time_per_attack = data.groupby('Attack_Type')['Mitigation_Time'].mean()\n",
    "\n",
    "print(\"Average Mitigation Time Per Attack Type:\")\n",
    "print(avg_mitigation_time_per_attack)\n"
   ]
  },
  {
   "cell_type": "code",
   "execution_count": null,
   "id": "76f5936f-1eb7-47e3-8d26-5ad3e047af62",
   "metadata": {},
   "outputs": [],
   "source": [
    "# Cell 5: Descriptive statistics for numeric columns\n",
    "data.describe()\n"
   ]
  },
  {
   "cell_type": "markdown",
   "id": "dde7318e",
   "metadata": {},
   "source": [
    "## Distribution Plots"
   ]
  },
  {
   "cell_type": "code",
   "execution_count": null,
   "id": "9b56d4cc",
   "metadata": {},
   "outputs": [],
   "source": [
    "colors = ['#ADD8E6', '#87CEEB', '#4682B4', '#1E90FF', '#4169E1', '#000080']\n",
    "\n",
    "\n",
    "# Cell: Distribution of attack types\n",
    "plt.figure(figsize=(10, 6))\n",
    "sns.countplot(y=\"Attack_Type\", data=data, order=data[\"Attack_Type\"].value_counts().index, palette=colors)\n",
    "plt.title(\"Distribution of Cyber Attack Types\")\n",
    "plt.xlabel(\"Count of Attacks\")\n",
    "plt.ylabel(\"Attack Type\")\n",
    "plt.show()\n",
    "\n",
    "\n"
   ]
  },
  {
   "cell_type": "code",
   "execution_count": null,
   "id": "8cffc01e-b12e-4313-88c7-69f3b32a6174",
   "metadata": {},
   "outputs": [],
   "source": [
    "# Cell 2: Distribution of incidents by country\n",
    "plt.figure(figsize=(10, 6))\n",
    "sns.countplot(y=\"Country\", data=data, order=data[\"Country\"].value_counts().index[:10], palette=\"inferno\")\n",
    "plt.title(\"Top 10 Countries by Number of Cyber Attacks\")\n",
    "plt.xlabel(\"Count of Attacks\")\n",
    "plt.ylabel(\"Country\")\n",
    "plt.show()\n"
   ]
  },
  {
   "cell_type": "code",
   "execution_count": null,
   "id": "66888fb8-67ae-41f7-9559-5bc19cf070b1",
   "metadata": {},
   "outputs": [],
   "source": [
    "# Cell 3: Trend of cyber attacks over the years\n",
    "plt.figure(figsize=(10, 6))\n",
    "sns.countplot(x=\"Year\", data=data, palette=\"coolwarm\")\n",
    "plt.title(\"Trend of Cyber Attacks Over the Years\")\n",
    "plt.xlabel(\"Year\")\n",
    "plt.ylabel(\"Count of Attacks\")\n",
    "plt.show()\n"
   ]
  },
  {
   "cell_type": "code",
   "execution_count": null,
   "id": "7f6f939d-6896-4e4f-ad31-3eee6230e1fc",
   "metadata": {},
   "outputs": [],
   "source": [
    "# Cell 3: Number of attacks per industry\n",
    "plt.figure(figsize=(10, 6))\n",
    "attacks_per_industry.sort_values(ascending=False).plot(kind='bar', color='orange')\n",
    "plt.title('Number of Cyber Attacks by Industry')\n",
    "plt.xlabel('Industry')\n",
    "plt.ylabel('Number of Attacks')\n",
    "plt.xticks(rotation=45)\n",
    "plt.tight_layout()\n",
    "plt.show()\n"
   ]
  },
  {
   "cell_type": "code",
   "execution_count": null,
   "id": "f1a9a7fa-e23f-470f-9193-0394caec8245",
   "metadata": {},
   "outputs": [],
   "source": [
    "# Cell 5: Average breach size per industry\n",
    "plt.figure(figsize=(10, 6))\n",
    "avg_breach_size_per_industry.sort_values(ascending=False).plot(kind='bar', color='purple')\n",
    "plt.title('Average Breach Size by Industry')\n",
    "plt.xlabel('Industry')\n",
    "plt.ylabel('Average Breach Size (Number of Records)')\n",
    "plt.xticks(rotation=45)\n",
    "plt.tight_layout()\n",
    "plt.show()\n"
   ]
  },
  {
   "cell_type": "code",
   "execution_count": null,
   "id": "c4c593e7-ce57-4f5a-a42c-1ca2c1195755",
   "metadata": {},
   "outputs": [],
   "source": [
    "# Cell 6: Average mitigation time per attack type\n",
    "plt.figure(figsize=(10, 6))\n",
    "avg_mitigation_time_per_attack.sort_values(ascending=False).plot(kind='bar', color='blue')\n",
    "plt.title('Average Mitigation Time by Attack Type')\n",
    "plt.xlabel('Attack Type')\n",
    "plt.ylabel('Mitigation Time (Days)')\n",
    "plt.xticks(rotation=45)\n",
    "plt.tight_layout()\n",
    "plt.show()\n"
   ]
  },
  {
   "cell_type": "code",
   "execution_count": null,
   "id": "a5201fd8-5780-41b7-b80b-aec6cbfdf425",
   "metadata": {},
   "outputs": [],
   "source": [
    "# Cell 2: Severity distribution based on financial loss\n",
    "def severity_level(row):\n",
    "    if row['Financial_Loss'] < 500000:\n",
    "        return 'Low'\n",
    "    elif 500000 <= row['Financial_Loss'] < 2000000:\n",
    "        return 'Medium'\n",
    "    else:\n",
    "        return 'High'\n",
    "\n",
    "data['Severity'] = data.apply(severity_level, axis=1)\n",
    "\n",
    "plt.figure(figsize=(8, 6))\n",
    "sns.countplot(x='Severity', data=data, palette='muted')\n",
    "plt.title(\"Distribution of Attack Severity Levels\")\n",
    "plt.xlabel(\"Severity Level\")\n",
    "plt.ylabel(\"Count of Attacks\")\n",
    "plt.show()\n"
   ]
  },
  {
   "cell_type": "code",
   "execution_count": null,
   "id": "655eef6f-0784-461f-b2c0-be1f4c49a0a9",
   "metadata": {},
   "outputs": [],
   "source": [
    "# Cell 6: Average Financial Loss by Attack Vector\n",
    "attack_vector_financial_loss = data.groupby('Attack_Vector')['Financial_Loss'].mean()\n",
    "\n",
    "plt.figure(figsize=(10, 6))\n",
    "attack_vector_financial_loss.plot(kind='bar', color='purple')\n",
    "plt.title('Average Financial Loss by Attack Vector')\n",
    "plt.xlabel('Attack Vector')\n",
    "plt.ylabel('Average Financial Loss (USD)')\n",
    "plt.xticks(rotation=45)\n",
    "plt.tight_layout()\n",
    "plt.show()\n"
   ]
  },
  {
   "cell_type": "code",
   "execution_count": null,
   "id": "fe1ac965-3dd5-42a6-a8ed-8711fd12aed7",
   "metadata": {},
   "outputs": [],
   "source": [
    "# Cell 1: Top 10 Companies with the Most Cyber Attacks\n",
    "top_companies = data['Company_Name'].value_counts().head(10)\n",
    "\n",
    "plt.figure(figsize=(10, 6))\n",
    "sns.barplot(y=top_companies.index, x=top_companies.values, palette='coolwarm')\n",
    "plt.title('Top 10 Companies with the Most Cyber Attacks')\n",
    "plt.xlabel('Number of Attacks')\n",
    "plt.ylabel('Company Name')\n",
    "plt.tight_layout()\n",
    "plt.show()\n"
   ]
  },
  {
   "cell_type": "code",
   "execution_count": null,
   "id": "ad341952-7430-4a1f-ad6d-b638105e8be5",
   "metadata": {},
   "outputs": [],
   "source": [
    "# Cell 2: Financial Loss by Industry\n",
    "plt.figure(figsize=(12, 6))\n",
    "sns.boxplot(x='Industry', y='Financial_Loss', data=data, palette='muted')\n",
    "plt.title(\"Distribution of Financial Loss by Industry\")\n",
    "plt.xlabel(\"Industry\")\n",
    "plt.ylabel(\"Financial Loss (USD)\")\n",
    "plt.xticks(rotation=45)\n",
    "plt.show()\n"
   ]
  },
  {
   "cell_type": "code",
   "execution_count": null,
   "id": "e5a66ee5-0ded-49ba-86ed-13311c53d920",
   "metadata": {},
   "outputs": [],
   "source": [
    "# Cell 3: Breach Size by Attack Vector\n",
    "plt.figure(figsize=(12, 6))\n",
    "sns.boxplot(x='Attack_Vector', y='Breach_Size', data=data, palette='Set3')\n",
    "plt.title(\"Distribution of Breach Size by Attack Vector\")\n",
    "plt.xlabel(\"Attack Vector\")\n",
    "plt.ylabel(\"Breach Size (No. of Records)\")\n",
    "plt.xticks(rotation=45)\n",
    "plt.show()\n"
   ]
  },
  {
   "cell_type": "code",
   "execution_count": null,
   "id": "2d01efcd-5950-4f43-b9dd-428321ca550d",
   "metadata": {},
   "outputs": [],
   "source": [
    "# Cell 4: Mitigation Time by Industry\n",
    "plt.figure(figsize=(12, 6))\n",
    "sns.boxplot(x='Industry', y='Mitigation_Time', data=data, palette='coolwarm')\n",
    "plt.title(\"Mitigation Time by Industry\")\n",
    "plt.xlabel(\"Industry\")\n",
    "plt.ylabel(\"Mitigation Time (Days)\")\n",
    "plt.xticks(rotation=45)\n",
    "plt.show()\n"
   ]
  },
  {
   "cell_type": "code",
   "execution_count": null,
   "id": "3df5c8ab-f906-4876-a3f7-889da3fefdc4",
   "metadata": {},
   "outputs": [],
   "source": [
    "# Cell 5: Mitigation Time by Attack Vector\n",
    "plt.figure(figsize=(12, 6))\n",
    "sns.boxplot(x='Attack_Vector', y='Mitigation_Time', data=data, palette='magma')\n",
    "plt.title(\"Mitigation Time by Attack Vector\")\n",
    "plt.xlabel(\"Attack Vector\")\n",
    "plt.ylabel(\"Mitigation Time (Days)\")\n",
    "plt.xticks(rotation=45)\n",
    "plt.show()\n"
   ]
  },
  {
   "cell_type": "code",
   "execution_count": null,
   "id": "7c4e8e3e-8b3c-4dcc-945a-c2611eeca7f3",
   "metadata": {},
   "outputs": [],
   "source": [
    "# Cell 8: Breach Size by Industry\n",
    "plt.figure(figsize=(12, 6))\n",
    "sns.boxplot(x='Industry', y='Breach_Size', data=data, palette='Purples')\n",
    "plt.title(\"Breach Size Distribution by Industry\")\n",
    "plt.xlabel(\"Industry\")\n",
    "plt.ylabel(\"Breach Size (No. of Records)\")\n",
    "plt.xticks(rotation=45)\n",
    "plt.show()\n"
   ]
  },
  {
   "cell_type": "code",
   "execution_count": null,
   "id": "43535c81-0cd0-42a8-8104-3788289ca3ad",
   "metadata": {},
   "outputs": [],
   "source": [
    "# Cell 4: Breach Size Distribution by Country\n",
    "plt.figure(figsize=(12, 6))\n",
    "sns.boxplot(x='Country', y='Breach_Size', data=data, palette='Blues')\n",
    "plt.title(\"Breach Size Distribution by Country\")\n",
    "plt.xlabel(\"Country\")\n",
    "plt.ylabel(\"Breach Size (Number of Records)\")\n",
    "plt.xticks(rotation=45)\n",
    "plt.tight_layout()\n",
    "plt.show()\n"
   ]
  },
  {
   "cell_type": "markdown",
   "id": "74dbdfa8",
   "metadata": {},
   "source": [
    "## Stacked Plots"
   ]
  },
  {
   "cell_type": "code",
   "execution_count": null,
   "id": "51e4fe46",
   "metadata": {},
   "outputs": [],
   "source": [
    "\n",
    "# Cell: Stacked bar plot for industries vs attack types\n",
    "industry_vs_attack_type = data.groupby(['Industry', 'Attack_Type']).size().unstack().fillna(0)\n",
    "plt.figure(figsize=(10, 6))\n",
    "industry_vs_attack_type.plot(kind='bar', stacked=True, figsize=(10, 6), colormap='coolwarm')\n",
    "plt.title('Industry vs Attack Types')\n",
    "plt.xlabel('Industry')\n",
    "plt.ylabel('Number of Attacks')\n",
    "plt.xticks(rotation=45)\n",
    "plt.tight_layout()\n",
    "plt.show()"
   ]
  },
  {
   "cell_type": "code",
   "execution_count": null,
   "id": "ff9ad71f-f639-4007-80d3-d045853e33bc",
   "metadata": {},
   "outputs": [],
   "source": [
    "colors = ['#ADD8E6', '#87CEEB', '#4682B4', '#1E90FF', '#4169E1', '#000080']\n",
    "# Cell: Stacked bar plot for countries vs attack types\n",
    "country_vs_attack_type = data.groupby(['Country', 'Attack_Type']).size().unstack().fillna(0)\n",
    "plt.figure(figsize=(10, 6))\n",
    "country_vs_attack_type.plot(kind='bar', stacked=True, figsize=(10, 6), colormap='viridis')\n",
    "plt.title('Country vs Attack Types')\n",
    "plt.xlabel('Country')\n",
    "plt.ylabel('Number of Attacks')\n",
    "plt.xticks(rotation=45)\n",
    "plt.tight_layout()\n",
    "plt.show()\n"
   ]
  },
  {
   "cell_type": "code",
   "execution_count": null,
   "id": "894952dd-045b-4fde-aee6-705b5e57bc6d",
   "metadata": {},
   "outputs": [],
   "source": [
    "colors = ['#ADD8E6', '#87CEEB', '#4682B4', '#1E90FF', '#4169E1', '#000080', '#ADD8E6']\n",
    "# Cell: Attack vectors by industry\n",
    "industry_vs_attack_vector = data.groupby(['Industry', 'Attack_Vector']).size().unstack().fillna(0)\n",
    "plt.figure(figsize=(12, 8))\n",
    "industry_vs_attack_vector.plot(kind='bar', stacked=True, figsize=(10, 6), color=colors)\n",
    "plt.title('Attack Vectors by Industry')\n",
    "plt.xlabel('Industry')\n",
    "plt.ylabel('Number of Attacks')\n",
    "plt.xticks(rotation=45)\n",
    "plt.tight_layout()\n",
    "plt.show()\n",
    "\n",
    "\n"
   ]
  },
  {
   "cell_type": "code",
   "execution_count": null,
   "id": "37326d3e-6034-45cf-a106-8a3179c14a7b",
   "metadata": {
    "scrolled": true
   },
   "outputs": [],
   "source": [
    "# Cell: Severity levels by country\n",
    "severity_by_country = data.groupby(['Country', 'Severity']).size().unstack().fillna(0)\n",
    "plt.figure(figsize=(12, 8))\n",
    "severity_by_country.plot(kind='bar', stacked=True, figsize=(10, 6), colormap='coolwarm')\n",
    "plt.title('Severity Levels by Country')\n",
    "plt.xlabel('Country')\n",
    "plt.ylabel('Number of Attacks')\n",
    "plt.xticks(rotation=45)\n",
    "plt.show()\n"
   ]
  },
  {
   "cell_type": "code",
   "execution_count": null,
   "id": "301e7199-1e2a-447c-a324-205f4a27b60a",
   "metadata": {
    "scrolled": true
   },
   "outputs": [],
   "source": [
    "# Cell 6: Yearly Shifts in Attack Severity\n",
    "data['Severity'] = data.apply(severity_level, axis=1)\n",
    "data['Year'] = pd.to_datetime(data['Date_of_Incident']).dt.year\n",
    "severity_year = data.groupby(['Year', 'Severity']).size().unstack().fillna(0)\n",
    "\n",
    "plt.figure(figsize=(12, 8))\n",
    "severity_year.plot(kind='bar', stacked=True, figsize=(10, 6), colormap='viridis')\n",
    "plt.title(\"Yearly Shifts in Attack Severity\")\n",
    "plt.xlabel(\"Year\")\n",
    "plt.ylabel(\"Number of Attacks\")\n",
    "plt.xticks(rotation=45)\n",
    "plt.show()\n"
   ]
  },
  {
   "cell_type": "code",
   "execution_count": null,
   "id": "e7dd296a-78b0-4e30-a4b1-7df7ae4aa251",
   "metadata": {},
   "outputs": [],
   "source": [
    "# Cell 3: Industry Impact Over Time\n",
    "industry_trends = data.groupby(['Year', 'Industry']).size().unstack(fill_value=0)\n",
    "\n",
    "plt.figure(figsize=(10, 6))\n",
    "industry_trends.plot(kind='bar', stacked=True, colormap='coolwarm')\n",
    "plt.title('Industry Impact Over Time')\n",
    "plt.xlabel('Year')\n",
    "plt.ylabel('Number of Attacks')\n",
    "plt.xticks(rotation=45)\n",
    "plt.tight_layout()\n",
    "plt.show()\n"
   ]
  },
  {
   "cell_type": "code",
   "execution_count": null,
   "id": "903b8808-1ca6-43ae-b604-2622339ff8be",
   "metadata": {},
   "outputs": [],
   "source": [
    "# Cell 2: Severity Levels by Attack Vector\n",
    "data['Severity'] = data.apply(lambda row: 'Low' if row['Financial_Loss'] < 500000 \n",
    "                              else 'Medium' if 500000 <= row['Financial_Loss'] < 2000000 \n",
    "                              else 'High', axis=1)\n",
    "severity_by_attack_vector = data.groupby(['Attack_Vector', 'Severity']).size().unstack().fillna(0)\n",
    "\n",
    "plt.figure(figsize=(12, 8))\n",
    "severity_by_attack_vector.plot(kind='bar', stacked=True, colormap='viridis')\n",
    "plt.title('Severity Levels by Attack Vector')\n",
    "plt.xlabel('Attack Vector')\n",
    "plt.ylabel('Number of Attacks')\n",
    "plt.xticks(rotation=45)\n",
    "plt.tight_layout()\n",
    "plt.show()\n"
   ]
  },
  {
   "cell_type": "code",
   "execution_count": null,
   "id": "3c661f7a-02c7-4673-92fb-b19e3fd6b293",
   "metadata": {},
   "outputs": [],
   "source": [
    "# Cell 3: Average Breach Size by Industry and Attack Vector\n",
    "industry_attack_breach = data.groupby(['Industry', 'Attack_Vector'])['Breach_Size'].mean().unstack().fillna(0)\n",
    "\n",
    "plt.figure(figsize=(12, 8))\n",
    "industry_attack_breach.plot(kind='bar', stacked=True, colormap='coolwarm')\n",
    "plt.title('Average Breach Size by Industry and Attack Vector')\n",
    "plt.xlabel('Industry')\n",
    "plt.ylabel('Average Breach Size (No. of Records)')\n",
    "plt.xticks(rotation=45)\n",
    "plt.tight_layout()\n",
    "plt.show()\n"
   ]
  },
  {
   "cell_type": "markdown",
   "id": "3eccbb1f",
   "metadata": {},
   "source": [
    "## Time Series Analysis"
   ]
  },
  {
   "cell_type": "code",
   "execution_count": null,
   "id": "8f8d1619-3dc0-41bb-b00c-e1a10e8a4259",
   "metadata": {},
   "outputs": [],
   "source": [
    "\n",
    "\n",
    "# Convert 'Date_of_Incident' to datetime if it exists, else extract date-related features\n",
    "if 'Date_of_Incident' in data.columns:\n",
    "    data['Date_of_Incident'] = pd.to_datetime(data['Date_of_Incident'])\n",
    "    data['Year'] = data['Date_of_Incident'].dt.year\n",
    "    data['Month'] = data['Date_of_Incident'].dt.month\n",
    "    data['DayOfWeek'] = data['Date_of_Incident'].dt.day_name()"
   ]
  },
  {
   "cell_type": "code",
   "execution_count": null,
   "id": "5d38557c-e08c-48fa-8c13-293ab516b8eb",
   "metadata": {
    "scrolled": true
   },
   "outputs": [],
   "source": [
    "# Cell 4: Financial losses per year\n",
    "plt.figure(figsize=(10, 6))\n",
    "financial_loss_per_year.plot(kind='line', marker='o', color='red')\n",
    "plt.title('Total Financial Loss from Cyber Attacks per Year')\n",
    "plt.xlabel('Year')\n",
    "plt.ylabel('Total Financial Loss (USD)')\n",
    "plt.grid(True)\n",
    "plt.tight_layout()\n",
    "plt.show()\n"
   ]
  },
  {
   "cell_type": "code",
   "execution_count": null,
   "id": "f7d856ee-6f75-4e62-9251-c29387a9f5a9",
   "metadata": {},
   "outputs": [],
   "source": [
    "# Cell 1: Average Mitigation Time per Year\n",
    "mitigation_time_per_year = data.groupby('Year')['Mitigation_Time'].mean()\n",
    "\n",
    "plt.figure(figsize=(10, 6))\n",
    "mitigation_time_per_year.plot(kind='line', marker='o', color='red')\n",
    "plt.title('Average Mitigation Time per Year')\n",
    "plt.xlabel('Year')\n",
    "plt.ylabel('Average Mitigation Time (Days)')\n",
    "plt.grid(True)\n",
    "plt.tight_layout()\n",
    "plt.show()\n"
   ]
  },
  {
   "cell_type": "code",
   "execution_count": null,
   "id": "3c557282-3e31-479a-971f-05db1ffdda88",
   "metadata": {},
   "outputs": [],
   "source": [
    "# Cell 1: Time Series Analysis - Monthly trends of cyber attacks\n",
    "attacks_per_month = data.groupby(['Year', 'Month']).size().unstack().fillna(0)\n",
    "plt.figure(figsize=(12, 6))\n",
    "sns.heatmap(attacks_per_month, cmap='Blues', annot=True, fmt=\"d\")\n",
    "plt.title(\"Monthly Trends of Cyber Attacks Over the Years\")\n",
    "plt.xlabel(\"Month\")\n",
    "plt.ylabel(\"Year\")\n",
    "plt.show()\n"
   ]
  },
  {
   "cell_type": "code",
   "execution_count": null,
   "id": "4e830ebe-278a-48bf-99bd-38eb8eb8ea3f",
   "metadata": {},
   "outputs": [],
   "source": [
    "# Cell 1: Monthly Trends of Cyber Attacks\n",
    "monthly_trends = data.groupby('Month').size()\n",
    "\n",
    "plt.figure(figsize=(10, 6))\n",
    "monthly_trends.plot(kind='bar', color='skyblue')\n",
    "plt.title('Cyber Attacks by Month')\n",
    "plt.xlabel('Month')\n",
    "plt.ylabel('Number of Attacks')\n",
    "plt.xticks(rotation=45)\n",
    "plt.tight_layout()\n",
    "plt.show()\n"
   ]
  },
  {
   "cell_type": "code",
   "execution_count": null,
   "id": "2c1565f5-bd65-4c6a-b80e-9e3725bdbd51",
   "metadata": {},
   "outputs": [],
   "source": [
    "# Cell 4: Cyber Attacks by Day of the Week\n",
    "data['Date_of_Incident'] = pd.to_datetime(data['Date_of_Incident'])\n",
    "data['DayOfWeek'] = data['Date_of_Incident'].dt.day_name()\n",
    "\n",
    "day_of_week_trends = data.groupby('DayOfWeek').size().reindex(['Monday', 'Tuesday', 'Wednesday', 'Thursday', 'Friday', 'Saturday', 'Sunday'])\n",
    "\n",
    "plt.figure(figsize=(10, 6))\n",
    "day_of_week_trends.plot(kind='bar', color='orange')\n",
    "plt.title('Cyber Attacks by Day of the Week')\n",
    "plt.xlabel('Day of the Week')\n",
    "plt.ylabel('Number of Attacks')\n",
    "plt.xticks(rotation=45)\n",
    "plt.tight_layout()\n",
    "plt.show()\n"
   ]
  }
 ],
 "metadata": {
  "kernelspec": {
   "display_name": "Python 3 (ipykernel)",
   "language": "python",
   "name": "python3"
  },
  "language_info": {
   "codemirror_mode": {
    "name": "ipython",
    "version": 3
   },
   "file_extension": ".py",
   "mimetype": "text/x-python",
   "name": "python",
   "nbconvert_exporter": "python",
   "pygments_lexer": "ipython3",
   "version": "3.12.4"
  }
 },
 "nbformat": 4,
 "nbformat_minor": 5
}
