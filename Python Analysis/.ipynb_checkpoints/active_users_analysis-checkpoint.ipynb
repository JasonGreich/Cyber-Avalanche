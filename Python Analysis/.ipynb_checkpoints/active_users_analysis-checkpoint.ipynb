{
 "cells": [
  {
   "cell_type": "code",
   "execution_count": null,
   "id": "6ec4a7e9-8abc-4b78-b807-f30d96a72a20",
   "metadata": {},
   "outputs": [],
   "source": [
    "import pandas as pd\n",
    "import matplotlib.pyplot as plt\n",
    "\n",
    "# Load the dataset\n",
    "df = pd.read_csv('../Data Warehousing ETL/Transformed_Data/active_online_users_europe_2018_2023.csv')\n"
   ]
  },
  {
   "cell_type": "code",
   "execution_count": null,
   "id": "5fc2188e-b23c-4400-a0fc-8008f51ff26f",
   "metadata": {},
   "outputs": [],
   "source": [
    "# Convert 'Date' column to datetime format\n",
    "df['Date'] = pd.to_datetime(df['Date'])\n",
    "\n",
    "# Set the Date as the index for time series analysis\n",
    "df.set_index('Date', inplace=True)\n"
   ]
  },
  {
   "cell_type": "code",
   "execution_count": null,
   "id": "6c7a9904-8da0-4a26-9955-1ed4c577a96c",
   "metadata": {},
   "outputs": [],
   "source": [
    "# Resampling the data to get daily, weekly, monthly, and yearly variations\n",
    "daily_users = df['Active_Online_Users'].resample('D').mean()\n",
    "weekly_users = df['Active_Online_Users'].resample('W').mean()\n",
    "monthly_users = df['Active_Online_Users'].resample('M').mean()\n",
    "yearly_users = df['Active_Online_Users'].resample('Y').mean()\n"
   ]
  },
  {
   "cell_type": "code",
   "execution_count": null,
   "id": "87e36243-d590-41c5-af50-c0d5846806c6",
   "metadata": {},
   "outputs": [],
   "source": [
    "# Plot Daily Active Users\n",
    "plt.figure(figsize=(7,5))\n",
    "plt.plot(daily_users, label='Daily Active Users')\n",
    "plt.title('Daily Active Users (2018-2023)')\n",
    "plt.xlabel('Date')\n",
    "plt.ylabel('Active Users')\n",
    "plt.legend()\n",
    "plt.show()\n"
   ]
  },
  {
   "cell_type": "code",
   "execution_count": null,
   "id": "5375d1b4-04cf-4f36-bab2-d2a0700898ab",
   "metadata": {},
   "outputs": [],
   "source": [
    "# Plot Weekly Active Users\n",
    "plt.figure(figsize=(7,5))\n",
    "plt.plot(weekly_users, label='Weekly Active Users', color='orange')\n",
    "plt.title('Weekly Active Users (2018-2023)')\n",
    "plt.xlabel('Date')\n",
    "plt.ylabel('Active Users')\n",
    "plt.legend()\n",
    "plt.show()\n"
   ]
  },
  {
   "cell_type": "code",
   "execution_count": null,
   "id": "1b7cf646-99a6-4464-bdbc-735f66dc13ba",
   "metadata": {},
   "outputs": [],
   "source": [
    "\n",
    "colors = ['#ADD8E6', '#87CEEB', '#4682B4', '#1E90FF', '#4169E1', '#000080']\n",
    "\n",
    "\n",
    "# Plot Monthly Active Users\n",
    "plt.figure(figsize=(7,5))\n",
    "plt.plot(monthly_users, label='Monthly Active Users', color='#ADD8E6')\n",
    "plt.title('Monthly Active Users (2018-2023)')\n",
    "plt.xlabel('Date')\n",
    "plt.ylabel('Active Users')\n",
    "plt.legend()\n",
    "plt.show()\n"
   ]
  },
  {
   "cell_type": "code",
   "execution_count": null,
   "id": "5aa36b93-e455-43b3-ad18-833262ed2e8b",
   "metadata": {},
   "outputs": [],
   "source": [
    "# Plot Yearly Active Users\n",
    "plt.figure(figsize=(7,5))\n",
    "plt.plot(yearly_users, label='Yearly Active Users', color='red')\n",
    "plt.title('Yearly Active Users (2018-2023)')\n",
    "plt.xlabel('Date')\n",
    "plt.ylabel('Active Users')\n",
    "plt.legend()\n",
    "plt.show()\n"
   ]
  }
 ],
 "metadata": {
  "kernelspec": {
   "display_name": "Python 3 (ipykernel)",
   "language": "python",
   "name": "python3"
  },
  "language_info": {
   "codemirror_mode": {
    "name": "ipython",
    "version": 3
   },
   "file_extension": ".py",
   "mimetype": "text/x-python",
   "name": "python",
   "nbconvert_exporter": "python",
   "pygments_lexer": "ipython3",
   "version": "3.12.4"
  }
 },
 "nbformat": 4,
 "nbformat_minor": 5
}
