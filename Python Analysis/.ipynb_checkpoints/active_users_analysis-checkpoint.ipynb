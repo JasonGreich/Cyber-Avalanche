{
 "cells": [
  {
   "cell_type": "code",
   "execution_count": null,
   "id": "e0bc0e28-b829-4289-8055-c5c70970b3a4",
   "metadata": {},
   "outputs": [],
   "source": [
    "import pandas as pd\n",
    "import matplotlib.pyplot as plt\n",
    "\n",
    "# Load the dataset\n",
    "df = pd.read_csv('../Data Warehousing ETL/Transformed_Data/active_online_users_europe_2018_2023.csv')\n",
    "\n",
    "# Convert 'Date' column to datetime format\n",
    "df['Date'] = pd.to_datetime(df['Date'])\n",
    "\n",
    "# Set the Date as the index for time series analysis\n",
    "df.set_index('Date', inplace=True)\n",
    "\n",
    "# Resampling the data to get daily, weekly, monthly, and yearly variations\n",
    "daily_users = df['Active Online Users'].resample('D').mean()\n",
    "weekly_users = df['Active Online Users'].resample('W').mean()\n",
    "monthly_users = df['Active Online Users'].resample('M').mean()\n",
    "yearly_users = df['Active Online Users'].resample('Y').mean()\n",
    "\n",
    "# Plot the variations\n",
    "plt.figure(figsize=(14,10))\n",
    "\n",
    "plt.subplot(4, 1, 1)\n",
    "plt.plot(daily_users, label='Daily Active Users')\n",
    "plt.title('Daily Active Users (2018-2023)')\n",
    "plt.xlabel('Date')\n",
    "plt.ylabel('Active Users')\n",
    "plt.legend()\n",
    "\n",
    "plt.subplot(4, 1, 2)\n",
    "plt.plot(weekly_users, label='Weekly Active Users', color='orange')\n",
    "plt.title('Weekly Active Users (2018-2023)')\n",
    "plt.xlabel('Date')\n",
    "plt.ylabel('Active Users')\n",
    "plt.legend()\n",
    "\n",
    "plt.subplot(4, 1, 3)\n",
    "plt.plot(monthly_users, label='Monthly Active Users', color='green')\n",
    "plt.title('Monthly Active Users (2018-2023)')\n",
    "plt.xlabel('Date')\n",
    "plt.ylabel('Active Users')\n",
    "plt.legend()\n",
    "\n",
    "plt.subplot(4, 1, 4)\n",
    "plt.plot(yearly_users, label='Yearly Active Users', color='red')\n",
    "plt.title('Yearly Active Users (2018-2023)')\n",
    "plt.xlabel('Date')\n",
    "plt.ylabel('Active Users')\n",
    "plt.legend()\n",
    "\n",
    "plt.tight_layout()\n",
    "plt.show()"
   ]
  },
  {
   "cell_type": "code",
   "execution_count": null,
   "id": "85daf974-59e9-4412-a8ac-c73698214416",
   "metadata": {},
   "outputs": [],
   "source": []
  }
 ],
 "metadata": {
  "kernelspec": {
   "display_name": "Python 3 (ipykernel)",
   "language": "python",
   "name": "python3"
  },
  "language_info": {
   "codemirror_mode": {
    "name": "ipython",
    "version": 3
   },
   "file_extension": ".py",
   "mimetype": "text/x-python",
   "name": "python",
   "nbconvert_exporter": "python",
   "pygments_lexer": "ipython3",
   "version": "3.12.4"
  }
 },
 "nbformat": 4,
 "nbformat_minor": 5
}
