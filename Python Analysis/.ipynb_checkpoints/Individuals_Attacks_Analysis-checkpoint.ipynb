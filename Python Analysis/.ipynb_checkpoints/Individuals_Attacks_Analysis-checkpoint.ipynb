{
 "cells": [
  {
   "cell_type": "markdown",
   "id": "cbd1ce79-cadc-4e65-bde7-acb99f052603",
   "metadata": {},
   "source": [
    "# Individuals Cyber Attacks Analysis"
   ]
  },
  {
   "cell_type": "code",
   "execution_count": null,
   "id": "1c314e9c-498c-4b3e-a192-b7df72cdbeff",
   "metadata": {},
   "outputs": [],
   "source": [
    "# Cell 1: Distribution of attack types\n",
    "import pandas as pd\n",
    "import matplotlib.pyplot as plt\n",
    "import seaborn as sns\n",
    "\n",
    "# Load the data\n",
    "data = pd.read_csv('../Data Warehousing ETL/Transformed_Data/individuals_cyber_attacks_europe.csv')"
   ]
  },
  {
   "cell_type": "code",
   "execution_count": null,
   "id": "1c2546dc-6bc4-4ca5-9ebe-454522794e32",
   "metadata": {},
   "outputs": [],
   "source": [
    "data.columns"
   ]
  },
  {
   "cell_type": "markdown",
   "id": "503b6fa3-4fe6-4a23-9242-58f70fcd4b5e",
   "metadata": {},
   "source": [
    "## General Analysis"
   ]
  },
  {
   "cell_type": "code",
   "execution_count": null,
   "id": "27d0d35b-2ad7-468c-8be7-e505fddf1ca3",
   "metadata": {},
   "outputs": [],
   "source": [
    "# Group by Year to calculate the number of attacks per year\n",
    "attacks_per_year = data.groupby('Year').size()\n",
    "\n",
    "# Display total attacks per year\n",
    "print(\"\\nTotal Attacks per Year:\")\n",
    "print(attacks_per_year)\n"
   ]
  },
  {
   "cell_type": "code",
   "execution_count": null,
   "id": "8ea3e3ef-aa26-4725-96bc-65351cf51594",
   "metadata": {},
   "outputs": [],
   "source": [
    "# Group by Country to calculate the number of attacks per country\n",
    "attacks_per_country = data.groupby('Country').size()\n",
    "\n",
    "# Get the top 10 countries with the most attacks\n",
    "top_countries_attacks = attacks_per_country.sort_values(ascending=False).head(10)\n",
    "\n",
    "# Display results for the top 10 countries with the most attacks\n",
    "print(\"Top Countries with the Most Attacks:\")\n",
    "print(top_countries_attacks)\n"
   ]
  },
  {
   "cell_type": "code",
   "execution_count": null,
   "id": "e425f3e6-c6e8-4be1-88fa-bd2730ecf869",
   "metadata": {},
   "outputs": [],
   "source": [
    "# Calculate the average packet length per year\n",
    "avg_packet_length_per_year = data.groupby('Year')['Packet_Length'].mean()\n",
    "\n",
    "# Display average packet length per year\n",
    "print(\"\\nAverage Packet Length per Year:\")\n",
    "print(avg_packet_length_per_year)\n"
   ]
  },
  {
   "cell_type": "code",
   "execution_count": null,
   "id": "55890c26-888c-4f21-855d-adaf56d9e630",
   "metadata": {},
   "outputs": [],
   "source": [
    "# Calculate the average packet length per protocol\n",
    "avg_packet_length_per_protocol = data.groupby('Protocol')['Packet_Length'].mean()\n",
    "\n",
    "# Display average packet length per protocol\n",
    "print(\"\\nAverage Packet Length per Protocol:\")\n",
    "print(avg_packet_length_per_protocol)\n"
   ]
  },
  {
   "cell_type": "code",
   "execution_count": null,
   "id": "3cf7485c-3c58-4128-8380-52642791395c",
   "metadata": {},
   "outputs": [],
   "source": [
    "# 1. Analyze the most common attack types\n",
    "common_attack_types = data.groupby('Attack_Type').size().sort_values(ascending=False).head(10)\n",
    "print(\"Most Common Attack Types:\")\n",
    "print(common_attack_types)\n"
   ]
  },
  {
   "cell_type": "code",
   "execution_count": null,
   "id": "47f639f9-d7cf-4d43-b6bd-801424c9ab35",
   "metadata": {},
   "outputs": [],
   "source": [
    "# 2. Analyze the distribution of severity levels\n",
    "severity_distribution = data.groupby('Severity_Level').size()\n",
    "print(\"\\nSeverity Distribution:\")\n",
    "print(severity_distribution)\n"
   ]
  },
  {
   "cell_type": "code",
   "execution_count": null,
   "id": "d655370b-4f8f-4d1e-a773-5f24952b3f8f",
   "metadata": {},
   "outputs": [],
   "source": [
    "# 3. Analyze the most frequently targeted device types\n",
    "common_device_types = data.groupby('Device_Type').size().sort_values(ascending=False)\n",
    "print(\"\\nMost Common Device Types:\")\n",
    "print(common_device_types)\n"
   ]
  },
  {
   "cell_type": "code",
   "execution_count": null,
   "id": "af692e3c-0ed4-4f92-ad68-abfd9421c1b3",
   "metadata": {},
   "outputs": [],
   "source": [
    "# 1. Analyze attacks by hour of the day to identify active periods\n",
    "attacks_per_hour = data.groupby('Hour_of_Day').size()\n",
    "print(\"Attacks per Hour of the Day:\")\n",
    "print(attacks_per_hour)\n"
   ]
  },
  {
   "cell_type": "code",
   "execution_count": null,
   "id": "5cd52314-6fbe-4c32-b22d-d2a665e5d66f",
   "metadata": {},
   "outputs": [],
   "source": [
    "# 2. Analyze attacks by month to check for seasonal trends\n",
    "attacks_per_month = data.groupby('Month').size()\n",
    "print(\"\\nAttacks per Month:\")\n",
    "print(attacks_per_month)\n"
   ]
  },
  {
   "cell_type": "code",
   "execution_count": null,
   "id": "8e1a6925-a729-4f69-8938-e8c3e752c99a",
   "metadata": {},
   "outputs": [],
   "source": [
    "# 3. Correlation between attack types and severity levels\n",
    "severity_vs_attack_type = data.groupby(['Attack_Type', 'Severity_Level']).size().unstack().fillna(0)\n",
    "print(\"\\nSeverity Levels per Attack Type:\")\n",
    "print(severity_vs_attack_type)\n"
   ]
  },
  {
   "cell_type": "code",
   "execution_count": null,
   "id": "ad9144e4-c5bc-48d1-9d4b-e25b5d58d2a6",
   "metadata": {},
   "outputs": [],
   "source": [
    "# 1. Analyze Malware Indicators - count of each type of malware indicator\n",
    "malware_indicators_count = data['Malware_Indicators'].value_counts()\n",
    "\n",
    "# Display the top 10 malware indicators\n",
    "print(\"Malware Indicators Count:\")\n",
    "print(malware_indicators_count.head(10))  # Display the top 10 for brevity\n"
   ]
  },
  {
   "cell_type": "code",
   "execution_count": null,
   "id": "ad1aeecc-5764-435d-8c52-566a832bf019",
   "metadata": {},
   "outputs": [],
   "source": [
    "# 3. Analyze Firewall Logs - count of different firewall log types\n",
    "firewall_logs_count = data['Firewall_Logs'].value_counts()\n",
    "\n",
    "# Display the firewall logs count\n",
    "print(\"\\nFirewall Logs Count:\")\n",
    "print(firewall_logs_count)\n"
   ]
  },
  {
   "cell_type": "code",
   "execution_count": null,
   "id": "95570292-a730-423a-b9fa-5c1d2d5ce79a",
   "metadata": {},
   "outputs": [],
   "source": [
    "# 4. Analyze IDS/IPS Alerts - count of different IDS/IPS alerts\n",
    "ids_ips_alerts_count = data['IDS_IPS_Alerts'].value_counts()\n",
    "\n",
    "# Display the IDS/IPS alerts count\n",
    "print(\"\\nIDS/IPS Alerts Count:\")\n",
    "print(ids_ips_alerts_count)\n"
   ]
  },
  {
   "cell_type": "code",
   "execution_count": null,
   "id": "8297fca1-eccb-4b34-ad2d-455dbfdd90db",
   "metadata": {},
   "outputs": [],
   "source": [
    "# Optional: To display the results in DataFrames\n",
    "attacks_per_hour_data = attacks_per_hour.reset_index(name='Count')\n",
    "attacks_per_month_data = attacks_per_month.reset_index(name='Count')\n",
    "severity_vs_attack_type_data = severity_vs_attack_type.reset_index()\n",
    "\n",
    "# Display the DataFrames (this is only required if you want to display them in a visual environment)\n",
    "print(\"\\nAttacks per Hour DataFrame:\\n\", attacks_per_hour_data)\n",
    "print(\"\\nAttacks per Month DataFrame:\\n\", attacks_per_month_data)\n",
    "print(\"\\nSeverity vs Attack Type DataFrame:\\n\", severity_vs_attack_type_data)\n"
   ]
  },
  {
   "cell_type": "markdown",
   "id": "22d58b31-a064-427b-b446-2a446f951cc9",
   "metadata": {},
   "source": [
    "## Distribution Plots"
   ]
  },
  {
   "cell_type": "code",
   "execution_count": null,
   "id": "9b97c85e-aa4a-497e-b291-d91c22fe25be",
   "metadata": {},
   "outputs": [],
   "source": [
    "# Analyze and plot the top 10 countries targeted by cyber attacks\n",
    "geo_attack_data = data['Country'].value_counts()\n",
    "\n",
    "# Plot top 10 most targeted countries\n",
    "plt.figure(figsize=(10, 6))\n",
    "geo_attack_data.head(10).plot(kind='bar', color='lightblue')\n",
    "plt.title('Top 10 Countries by Cyber Attack Frequency')\n",
    "plt.xlabel('Country')\n",
    "plt.ylabel('Number of Attacks')\n",
    "plt.xticks(rotation=45)\n",
    "plt.tight_layout()\n",
    "plt.show()\n"
   ]
  },
  {
   "cell_type": "code",
   "execution_count": null,
   "id": "32807ca9-0295-4a6a-b215-9719a1c9fdb6",
   "metadata": {},
   "outputs": [],
   "source": [
    "# 4. Attack Type Distribution: Limit to top 5 attack types with adjusted figure size\n",
    "attack_type_distribution = data['Attack_Type'].value_counts().nlargest(5)\n",
    "\n",
    "plt.figure(figsize=(8, 5), dpi=100)\n",
    "attack_type_distribution.plot(kind='bar', color='red')\n",
    "plt.title('Top 5 Attack Types')\n",
    "plt.xlabel('Attack Type')\n",
    "plt.ylabel('Number of Attacks')\n",
    "plt.xticks(rotation=45)\n",
    "plt.tight_layout()\n",
    "plt.show()\n"
   ]
  },
  {
   "cell_type": "code",
   "execution_count": null,
   "id": "a6e07d47-07d8-4a52-9297-c27e28109f5a",
   "metadata": {},
   "outputs": [],
   "source": [
    "# Plot Browser distribution (top 5)\n",
    "browser_distribution = data['Browser'].value_counts().nlargest(5)\n",
    "plt.figure(figsize=(8, 5), dpi=100)\n",
    "browser_distribution.plot(kind='bar', color='orange')\n",
    "plt.title('Top 5 Browsers')\n",
    "plt.xlabel('Browser')\n",
    "plt.ylabel('Number of Attacks')\n",
    "plt.xticks(rotation=45)\n",
    "plt.tight_layout()\n",
    "plt.show()\n"
   ]
  },
  {
   "cell_type": "code",
   "execution_count": null,
   "id": "c4c80ca9-26f7-4828-bb25-f6e1448cd8bb",
   "metadata": {},
   "outputs": [],
   "source": [
    "# Plot OS distribution (top 5)\n",
    "os_distribution = data['Operating_System'].value_counts().nlargest(5)\n",
    "plt.figure(figsize=(8, 5), dpi=100)\n",
    "os_distribution.plot(kind='bar', color='green')\n",
    "plt.title('Top 5 Operating Systems')\n",
    "plt.xlabel('Operating System')\n",
    "plt.ylabel('Number of Attacks')\n",
    "plt.xticks(rotation=45)\n",
    "plt.tight_layout()\n",
    "plt.show()\n"
   ]
  },
  {
   "cell_type": "code",
   "execution_count": null,
   "id": "6e71b36f-2251-4a09-8ced-276014fcf0b2",
   "metadata": {},
   "outputs": [],
   "source": [
    "# Correlation between different Attack Types and Anomaly Scores\n",
    "attack_type_anomaly_corr = data.groupby('Attack_Type')['Anomaly_Scores'].mean()\n",
    "# Plot Average Anomaly Scores by Attack Type\n",
    "plt.figure(figsize=(10, 6))\n",
    "attack_type_anomaly_corr.plot(kind='bar')\n",
    "plt.title('Average Anomaly Scores by Attack Type')\n",
    "plt.xlabel('Attack Type')\n",
    "plt.ylabel('Average Anomaly Scores')\n",
    "plt.xticks(rotation=45)\n",
    "plt.tight_layout()\n",
    "\n",
    "# Show the plot\n",
    "plt.show()\n"
   ]
  },
  {
   "cell_type": "code",
   "execution_count": null,
   "id": "5506cdac-4735-40c7-9ee7-8e51e46f8c7b",
   "metadata": {},
   "outputs": [],
   "source": [
    "less_common_attack_types = data.groupby('Packet_Type').size().sort_values(ascending=True).head(10)\n",
    "plt.figure(figsize=(10, 6))\n",
    "less_common_attack_types.plot(kind='bar', color='purple')\n",
    "plt.title('Less Common Attack Types')\n",
    "plt.xlabel('Packet Type')\n",
    "plt.ylabel('Number of Attacks')\n",
    "\n",
    "# Show the plot\n",
    "plt.show()\n"
   ]
  },
  {
   "cell_type": "code",
   "execution_count": null,
   "id": "d5824d81-5700-448d-b85a-b2b594c3ac81",
   "metadata": {},
   "outputs": [],
   "source": [
    "# 3. Firewall and IDS/IPS Alerts Analysis: Count and distribution of Firewall Logs and IDS/IPS Alerts\n",
    "firewall_logs = data['Firewall_Logs'].value_counts().nlargest(5)\n",
    "ids_ips_alerts = data['IDS_IPS_Alerts'].value_counts().nlargest(5)\n",
    "# Plotting Firewall Logs\n",
    "plt.figure(figsize=(8, 5))\n",
    "firewall_logs.plot(kind='bar', color='red')\n",
    "plt.title('Top 5 Firewall Logs')\n",
    "plt.xlabel('Log Type')\n",
    "plt.ylabel('Count')\n",
    "plt.xticks(rotation=45)\n",
    "plt.tight_layout()\n",
    "plt.show()\n"
   ]
  },
  {
   "cell_type": "code",
   "execution_count": null,
   "id": "09616e9c-92d4-4426-a4be-02f44d97aed7",
   "metadata": {},
   "outputs": [],
   "source": [
    "# Plotting IDS/IPS Alerts\n",
    "plt.figure(figsize=(8, 5))\n",
    "ids_ips_alerts.plot(kind='bar', color='orange')\n",
    "plt.title('Top 5 IDS/IPS Alerts')\n",
    "plt.xlabel('Alert Type')\n",
    "plt.ylabel('Count')\n",
    "plt.xticks(rotation=45)\n",
    "plt.tight_layout()\n",
    "plt.show()\n"
   ]
  },
  {
   "cell_type": "code",
   "execution_count": null,
   "id": "8bd98526-c6e5-4a4e-ba3c-40ac85001649",
   "metadata": {},
   "outputs": [],
   "source": [
    "# 4. Traffic and Payload Analysis: Distribution of Traffic Types and Payload Data\n",
    "traffic_type_distribution = data['Traffic_Type'].value_counts().nlargest(5)\n",
    "payload_data_distribution = data['Payload_Data'].value_counts().nlargest(5)\n",
    "# Plot Traffic Type Distribution\n",
    "plt.figure(figsize=(8, 5))\n",
    "traffic_type_distribution.plot(kind='bar', color='purple')\n",
    "plt.title('Top 5 Traffic Types')\n",
    "plt.xlabel('Traffic Type')\n",
    "plt.ylabel('Count')\n",
    "plt.tight_layout()\n",
    "plt.show()\n",
    "\n"
   ]
  },
  {
   "cell_type": "code",
   "execution_count": null,
   "id": "c67ed15a-4717-4596-b733-0d84e1458676",
   "metadata": {},
   "outputs": [],
   "source": [
    "# 5. Network Segment and Proxy Information Analysis\n",
    "network_segment_distribution = data['Network_Segment'].value_counts().nlargest(5)\n",
    "proxy_info_distribution = data['Proxy_Information'].value_counts().nlargest(5)\n",
    "\n",
    "# Plot Network Segment Distribution\n",
    "plt.figure(figsize=(8, 5))\n",
    "network_segment_distribution.plot(kind='bar', color='blue')\n",
    "plt.title('Top 5 Network Segments')\n",
    "plt.xlabel('Network Segment')\n",
    "plt.ylabel('Count')\n",
    "plt.tight_layout()\n",
    "plt.show()\n"
   ]
  },
  {
   "cell_type": "code",
   "execution_count": null,
   "id": "659843ce-26e2-4c08-b561-fb89d8ea66aa",
   "metadata": {},
   "outputs": [],
   "source": [
    "# Distribution of Packet Length by Severity\n",
    "plt.figure(figsize=(10, 6))\n",
    "sns.boxplot(x='Severity_Level', y='Packet_Length', data=data)\n",
    "plt.title('Distribution of Packet Length by Severity Level')\n",
    "plt.tight_layout()\n",
    "\n",
    "# Show the plot\n",
    "plt.show()\n"
   ]
  },
  {
   "cell_type": "markdown",
   "id": "e4d91cbe-f8a4-445f-859e-8d33916b1fd3",
   "metadata": {},
   "source": [
    "## Stacked Plots"
   ]
  },
  {
   "cell_type": "code",
   "execution_count": null,
   "id": "ea7903cf-bf7c-448c-a086-510c820bb915",
   "metadata": {},
   "outputs": [],
   "source": [
    "# 3. Stacked bar plot for attack types vs severity levels\n",
    "plt.figure(figsize=(10, 6))\n",
    "severity_vs_attack_type.plot(kind='bar', stacked=True, color=['#ADD8E6', '#87CEEB', '#4682B4', '#1E90FF', '#4169E1', '#000080'])\n",
    "plt.title('Severity Levels per Attack Type')\n",
    "plt.xlabel('Attack Type')\n",
    "plt.ylabel('Number of Attacks')\n",
    "plt.xticks(rotation=45)\n",
    "\n",
    "# Show the plot\n",
    "plt.show()\n"
   ]
  },
  {
   "cell_type": "code",
   "execution_count": null,
   "id": "a45f8f1e-d5fa-4fd1-af63-13f843265e52",
   "metadata": {},
   "outputs": [],
   "source": [
    "# 2. Analyze protocol distribution across severity levels\n",
    "protocol_vs_severity = data.groupby(['Protocol', 'Severity_Level']).size().unstack().fillna(0)\n",
    "# 2. Stacked bar plot for protocol vs severity levels\n",
    "plt.figure(figsize=(10, 6))\n",
    "protocol_vs_severity.plot(kind='bar', stacked=True, color=['red', 'yellow', 'green'])\n",
    "plt.title('Protocol vs Severity Levels')\n",
    "plt.xlabel('Protocol')\n",
    "plt.ylabel('Number of Attacks')\n",
    "\n",
    "# Show the plot\n",
    "plt.show()\n"
   ]
  },
  {
   "cell_type": "code",
   "execution_count": null,
   "id": "29eeb89e-81ae-41e4-b841-73ac9058e582",
   "metadata": {},
   "outputs": [],
   "source": [
    "# 3. Analyze attack types based on device type (Desktop vs Mobile)\n",
    "device_vs_attack_type = data.groupby(['Device_Type', 'Attack_Type']).size().unstack().fillna(0)\n",
    "# 3. Stacked bar plot for device type vs attack types\n",
    "plt.figure(figsize=(10, 6))\n",
    "device_vs_attack_type.plot(kind='bar', stacked=True)\n",
    "plt.title('Device Type vs Attack Types')\n",
    "plt.xlabel('Device Type')\n",
    "plt.ylabel('Number of Attacks')\n",
    "plt.xticks(rotation=0)\n",
    "\n",
    "# Show the plot\n",
    "plt.show()\n"
   ]
  },
  {
   "cell_type": "code",
   "execution_count": null,
   "id": "3574660f-52aa-49c5-aef6-a8340b865a70",
   "metadata": {},
   "outputs": [],
   "source": [
    "# 3. Protocol vs Severity Level with adjusted size\n",
    "protocol_vs_severity = data.groupby(['Protocol', 'Severity_Level']).size().unstack().fillna(0)\n",
    "protocol_vs_severity = protocol_vs_severity.loc[protocol_vs_severity.sum(axis=1).nlargest(5).index]  # Limit to top 5 protocols\n",
    "\n",
    "plt.figure(figsize=(8, 5), dpi=100)\n",
    "protocol_vs_severity.plot(kind='bar', stacked=True)\n",
    "plt.title('Top 5 Protocols vs Severity Levels')\n",
    "plt.xlabel('Protocol')\n",
    "plt.ylabel('Number of Attacks')\n",
    "plt.tight_layout()\n",
    "plt.show()\n"
   ]
  },
  {
   "cell_type": "code",
   "execution_count": null,
   "id": "1e4c595c-e108-4aeb-91b9-7ef873c07cfd",
   "metadata": {},
   "outputs": [],
   "source": [
    "# Limit the top 5 attack types for anomalies analysis\n",
    "anomalies_vs_attack_type = data.groupby(['Attack_Type', 'Anomaly_Scores']).size().unstack().fillna(0)\n",
    "\n",
    "# Limit to top 5 attack types based on total count\n",
    "top_attack_types = anomalies_vs_attack_type.sum(axis=1).nlargest(5).index\n",
    "anomalies_vs_attack_type = anomalies_vs_attack_type.loc[top_attack_types]\n",
    "\n",
    "# Limit the number of unique anomaly scores to top 5 by total occurrence\n",
    "top_anomaly_scores = anomalies_vs_attack_type.sum(axis=0).nlargest(5).index\n",
    "anomalies_vs_attack_type = anomalies_vs_attack_type[top_anomaly_scores]\n",
    "\n",
    "# Plot with a fixed figure size and DPI\n",
    "plt.figure(figsize=(8, 5), dpi=100)\n",
    "anomalies_vs_attack_type.plot(kind='bar', stacked=True)\n",
    "plt.title('Top 5 Anomalies vs Attack Types')\n",
    "plt.xlabel('Attack Type')\n",
    "plt.ylabel('Anomalies Count')\n",
    "\n",
    "# Adjust layout to fit\n",
    "plt.tight_layout()\n",
    "plt.show()\n"
   ]
  },
  {
   "cell_type": "code",
   "execution_count": null,
   "id": "d46d7cfb-ed37-472e-99a4-3f514ef2ec98",
   "metadata": {},
   "outputs": [],
   "source": [
    "# 7. User Information and Network Segment analysis: Limit to top 5 categories with adjusted figure sizes\n",
    "user_vs_attack_type = data.groupby(['User_Information', 'Attack_Type']).size().unstack().fillna(0)\n",
    "user_vs_attack_type = user_vs_attack_type.loc[user_vs_attack_type.sum(axis=1).nlargest(5).index]\n",
    "\n",
    "plt.figure(figsize=(8, 5), dpi=100)\n",
    "user_vs_attack_type.plot(kind='bar', stacked=True)\n",
    "plt.title('Top 5 User Information vs Attack Types')\n",
    "plt.xlabel('User Information')\n",
    "plt.ylabel('Number of Attacks')\n",
    "plt.tight_layout()\n",
    "plt.show()\n"
   ]
  },
  {
   "cell_type": "code",
   "execution_count": null,
   "id": "3b0d4ea8-5356-4cc7-abcd-b3c5bbf70f50",
   "metadata": {},
   "outputs": [],
   "source": [
    "# Plot Network Segment vs Attack Type (top 5)\n",
    "network_segment_vs_attack_type = data.groupby(['Network_Segment', 'Attack_Type']).size().unstack().fillna(0)\n",
    "network_segment_vs_attack_type = network_segment_vs_attack_type.loc[network_segment_vs_attack_type.sum(axis=1).nlargest(5).index]\n",
    "\n",
    "plt.figure(figsize=(8, 5), dpi=100)\n",
    "network_segment_vs_attack_type.plot(kind='bar', stacked=True)\n",
    "plt.title('Top 5 Network Segments vs Attack Types')\n",
    "plt.xlabel('Network Segment')\n",
    "plt.ylabel('Number of Attacks')\n",
    "plt.tight_layout()\n",
    "plt.show()\n"
   ]
  },
  {
   "cell_type": "code",
   "execution_count": null,
   "id": "a17dcd2f-deaf-46cd-9468-5bbeda3a39a4",
   "metadata": {},
   "outputs": [],
   "source": [
    "# Group data by severity level and action taken\n",
    "severity_action_data = data.groupby(['Severity_Level', 'Action_Taken']).size().unstack().fillna(0)\n",
    "\n",
    "# Plot distribution of severity levels by actions taken\n",
    "severity_action_data.plot(kind='bar', stacked=True, figsize=(10, 6))\n",
    "plt.title('Distribution of Severity Levels by Actions Taken')\n",
    "plt.xlabel('Severity Level')\n",
    "plt.ylabel('Number of Attacks')\n",
    "plt.tight_layout()\n",
    "plt.show()\n"
   ]
  },
  {
   "cell_type": "code",
   "execution_count": null,
   "id": "82933a58-2640-443c-8fc9-95fc7bfd8e6d",
   "metadata": {},
   "outputs": [],
   "source": [
    "# Attack Types by Country\n",
    "geo_attack_type_data = data.groupby(['Country', 'Attack_Type']).size().unstack().fillna(0)\n",
    "\n",
    "# Plot attack types by country\n",
    "plt.figure(figsize=(12, 6))\n",
    "geo_attack_type_data.head(10).plot(kind='bar', stacked=True)\n",
    "plt.title('Attack Types by Country (Top 10 Countries)')\n",
    "plt.xlabel('Country')\n",
    "plt.ylabel('Number of Attacks')\n",
    "plt.xticks(rotation=45)\n",
    "plt.tight_layout()\n",
    "plt.show()\n",
    "\n",
    "# For geographical heatmaps, you would need to install and use folium or geopandas for mapping the attack locations."
   ]
  },
  {
   "cell_type": "markdown",
   "id": "63ac0d42-b422-4a2d-bddc-1bfb0a8bb0f6",
   "metadata": {},
   "source": [
    "## Time Series"
   ]
  },
  {
   "cell_type": "code",
   "execution_count": null,
   "id": "1cf691f8-e9d5-4fd1-9835-4eab9e31aac1",
   "metadata": {},
   "outputs": [],
   "source": [
    "# 1. Time-based analysis: Hourly, daily, monthly, yearly trends\n",
    "data['Timestamp'] = pd.to_datetime(data['Timestamp'])  # Ensure the Timestamp is datetime format\n",
    "data['Hour'] = data['Timestamp'].dt.hour\n",
    "data['Day'] = data['Timestamp'].dt.day\n",
    "data['Month'] = data['Timestamp'].dt.month\n",
    "data['Year'] = data['Timestamp'].dt.year"
   ]
  },
  {
   "cell_type": "code",
   "execution_count": null,
   "id": "1940421a-043b-47ed-b5b1-608829ead940",
   "metadata": {},
   "outputs": [],
   "source": [
    "# Group by time components\n",
    "attacks_per_hour = data.groupby('Hour').size()\n",
    "attacks_per_day = data.groupby('Day').size()\n",
    "attacks_per_month = data.groupby('Month').size()\n",
    "attacks_per_year = data.groupby('Year').size()\n"
   ]
  },
  {
   "cell_type": "code",
   "execution_count": null,
   "id": "aac608f7-dea2-4024-afce-77f809ae9a20",
   "metadata": {},
   "outputs": [],
   "source": [
    "# Convert Timestamp to datetime with the correct format\n",
    "data['Timestamp'] = pd.to_datetime(data['Timestamp'], format='%Y-%m-%d %H:%M:%S')\n",
    "\n",
    "# Analyze trends over time (monthly attack frequency)\n",
    "data['YearMonth'] = data['Timestamp'].dt.to_period('M')\n",
    "time_series_data = data.groupby('YearMonth').size()\n",
    "\n",
    "# Plot the time series of attacks per month\n",
    "plt.figure(figsize=(10, 5), dpi=100)\n",
    "time_series_data.plot()\n",
    "plt.title('Cyber Attacks Over Time (Monthly Frequency)')\n",
    "plt.xlabel('Month')\n",
    "plt.ylabel('Number of Attacks')\n",
    "plt.xticks(rotation=90)\n",
    "plt.tight_layout()\n",
    "plt.show()\n"
   ]
  },
  {
   "cell_type": "code",
   "execution_count": null,
   "id": "691d1b7c-446a-4b5e-8fbb-a92d4adcb952",
   "metadata": {},
   "outputs": [],
   "source": [
    "# 2. Line plot for attacks per month\n",
    "plt.figure(figsize=(10, 4))\n",
    "attacks_per_month.plot(kind='line', marker='o', color='green')\n",
    "plt.title('Attacks per Month')\n",
    "plt.xlabel('Month')\n",
    "plt.ylabel('Number of Attacks')\n",
    "\n",
    "# Show the plot\n",
    "plt.show()\n"
   ]
  },
  {
   "cell_type": "code",
   "execution_count": null,
   "id": "02c598d1-3973-4fcc-8fa5-8ef7461a8093",
   "metadata": {},
   "outputs": [],
   "source": [
    "# Weekly Attack Trends\n",
    "data['Week'] = data['Timestamp'].dt.to_period('W')\n",
    "weekly_attack_data = data.groupby('Week').size()\n",
    "# Plot Weekly Attack Trends\n",
    "plt.figure(figsize=(10, 5))\n",
    "weekly_attack_data.plot()\n",
    "plt.title('Cyber Attacks Over Time (Weekly Frequency)')\n",
    "plt.xlabel('Week')\n",
    "plt.ylabel('Number of Attacks')\n",
    "plt.xticks(rotation=90)\n",
    "plt.tight_layout()\n",
    "\n",
    "# Show the plot\n",
    "plt.show()\n"
   ]
  },
  {
   "cell_type": "code",
   "execution_count": null,
   "id": "ffdbc6d5-572b-43b2-a349-7fc5e4755939",
   "metadata": {},
   "outputs": [],
   "source": [
    "# Attack Types Over Time\n",
    "attack_type_trend = data.groupby([data['Timestamp'].dt.to_period('M'), 'Attack_Type']).size().unstack().fillna(0)\n",
    "# Plot Attack Types Over Time (Monthly)\n",
    "plt.figure(figsize=(12, 6))\n",
    "attack_type_trend.plot()\n",
    "plt.title('Attack Types Over Time (Monthly)')\n",
    "plt.xlabel('Month')\n",
    "plt.ylabel('Number of Attacks')\n",
    "plt.xticks(rotation=90)\n",
    "plt.tight_layout()\n",
    "\n",
    "# Show the plot\n",
    "plt.show()\n"
   ]
  },
  {
   "cell_type": "code",
   "execution_count": null,
   "id": "f3ff8099-969f-4dda-9deb-aa5f319a4462",
   "metadata": {},
   "outputs": [],
   "source": [
    "# Yearly trend\n",
    "plt.figure(figsize=(10, 4), dpi=100)\n",
    "attacks_per_year.plot(kind='bar', color='purple')\n",
    "plt.title('Attacks by Year')\n",
    "plt.xlabel('Year')\n",
    "plt.ylabel('Number of Attacks')\n",
    "plt.tight_layout()\n",
    "\n",
    "# Show the plot\n",
    "plt.show()\n"
   ]
  },
  {
   "cell_type": "code",
   "execution_count": null,
   "id": "ba271575-d70c-4ca4-b716-e1996ad3253b",
   "metadata": {},
   "outputs": [],
   "source": [
    "# Monthly trend\n",
    "plt.figure(figsize=(10, 4), dpi=100)\n",
    "attacks_per_month.plot(kind='bar', color='green')\n",
    "plt.title('Attacks by Month')\n",
    "plt.xlabel('Month')\n",
    "plt.ylabel('Number of Attacks')\n",
    "plt.tight_layout()\n",
    "\n",
    "# Show the plot\n",
    "plt.show()\n"
   ]
  },
  {
   "cell_type": "code",
   "execution_count": null,
   "id": "458b8d2c-50f6-48fe-827d-dc302b78b1b7",
   "metadata": {},
   "outputs": [],
   "source": [
    "# Daily trend\n",
    "plt.figure(figsize=(10, 4), dpi=100)\n",
    "attacks_per_day.plot(kind='bar', color='blue')\n",
    "plt.title('Attacks by Day of Month')\n",
    "plt.xlabel('Day')\n",
    "plt.ylabel('Number of Attacks')\n",
    "plt.tight_layout()\n",
    "\n",
    "# Show the plot\n",
    "plt.show()\n"
   ]
  },
  {
   "cell_type": "code",
   "execution_count": null,
   "id": "36759131-4574-4b06-9e65-076feb3e7d88",
   "metadata": {},
   "outputs": [],
   "source": [
    "\n",
    "# Set plot size for better readability\n",
    "plt.figure(figsize=(10, 4))\n",
    "\n",
    "# 1. Bar plot for attacks per hour of the day\n",
    "attacks_per_hour.plot(kind='bar', color='skyblue')\n",
    "plt.title('Attacks per Hour of the Day')\n",
    "plt.xlabel('Hour of Day')\n",
    "plt.ylabel('Number of Attacks')\n",
    "\n",
    "# Show the plot\n",
    "plt.show()\n"
   ]
  }
 ],
 "metadata": {
  "kernelspec": {
   "display_name": "Python 3 (ipykernel)",
   "language": "python",
   "name": "python3"
  },
  "language_info": {
   "codemirror_mode": {
    "name": "ipython",
    "version": 3
   },
   "file_extension": ".py",
   "mimetype": "text/x-python",
   "name": "python",
   "nbconvert_exporter": "python",
   "pygments_lexer": "ipython3",
   "version": "3.12.4"
  }
 },
 "nbformat": 4,
 "nbformat_minor": 5
}
